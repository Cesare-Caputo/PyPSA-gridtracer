{
  "nbformat": 4,
  "nbformat_minor": 0,
  "metadata": {
    "colab": {
      "provenance": [],
      "toc_visible": true,
      "authorship_tag": "ABX9TyNG/DqIvaaYWkU2K7jjUsyK",
      "include_colab_link": true
    },
    "kernelspec": {
      "name": "python3",
      "display_name": "Python 3"
    },
    "language_info": {
      "name": "python"
    }
  },
  "cells": [
    {
      "cell_type": "markdown",
      "metadata": {
        "id": "view-in-github",
        "colab_type": "text"
      },
      "source": [
        "<a href=\"https://colab.research.google.com/github/Cesare-Caputo/PyPSA-gridtracer/blob/main/pypsa_outliar_detection_v1.ipynb\" target=\"_parent\"><img src=\"https://colab.research.google.com/assets/colab-badge.svg\" alt=\"Open In Colab\"/></a>"
      ]
    },
    {
      "cell_type": "markdown",
      "source": [
        "#setup"
      ],
      "metadata": {
        "id": "6TwfiUC1_Yg5"
      }
    },
    {
      "cell_type": "code",
      "execution_count": null,
      "metadata": {
        "colab": {
          "base_uri": "https://localhost:8080/"
        },
        "id": "LsgJl0_xud9A",
        "outputId": "2c10b339-6c7d-4888-9791-1166a8146c78"
      },
      "outputs": [
        {
          "output_type": "stream",
          "name": "stdout",
          "text": [
            "Collecting pyod\n",
            "  Downloading pyod-1.0.0.tar.gz (118 kB)\n",
            "\u001b[?25l\r\u001b[K     |██▊                             | 10 kB 16.7 MB/s eta 0:00:01\r\u001b[K     |█████▌                          | 20 kB 9.0 MB/s eta 0:00:01\r\u001b[K     |████████▎                       | 30 kB 7.3 MB/s eta 0:00:01\r\u001b[K     |███████████                     | 40 kB 6.6 MB/s eta 0:00:01\r\u001b[K     |█████████████▉                  | 51 kB 4.2 MB/s eta 0:00:01\r\u001b[K     |████████████████▌               | 61 kB 4.8 MB/s eta 0:00:01\r\u001b[K     |███████████████████▎            | 71 kB 5.1 MB/s eta 0:00:01\r\u001b[K     |██████████████████████          | 81 kB 4.3 MB/s eta 0:00:01\r\u001b[K     |████████████████████████▉       | 92 kB 4.8 MB/s eta 0:00:01\r\u001b[K     |███████████████████████████▋    | 102 kB 5.2 MB/s eta 0:00:01\r\u001b[K     |██████████████████████████████▍ | 112 kB 5.2 MB/s eta 0:00:01\r\u001b[K     |████████████████████████████████| 118 kB 5.2 MB/s \n",
            "\u001b[?25hRequirement already satisfied: joblib in /usr/local/lib/python3.7/dist-packages (from pyod) (1.1.0)\n",
            "Requirement already satisfied: matplotlib in /usr/local/lib/python3.7/dist-packages (from pyod) (3.2.2)\n",
            "Requirement already satisfied: numpy>=1.13 in /usr/local/lib/python3.7/dist-packages (from pyod) (1.21.6)\n",
            "Requirement already satisfied: numba>=0.35 in /usr/local/lib/python3.7/dist-packages (from pyod) (0.51.2)\n",
            "Requirement already satisfied: scipy>=1.3.1 in /usr/local/lib/python3.7/dist-packages (from pyod) (1.4.1)\n",
            "Requirement already satisfied: scikit_learn>=0.20.0 in /usr/local/lib/python3.7/dist-packages (from pyod) (1.0.2)\n",
            "Requirement already satisfied: six in /usr/local/lib/python3.7/dist-packages (from pyod) (1.15.0)\n",
            "Requirement already satisfied: statsmodels in /usr/local/lib/python3.7/dist-packages (from pyod) (0.10.2)\n",
            "Requirement already satisfied: setuptools in /usr/local/lib/python3.7/dist-packages (from numba>=0.35->pyod) (57.4.0)\n",
            "Requirement already satisfied: llvmlite<0.35,>=0.34.0.dev0 in /usr/local/lib/python3.7/dist-packages (from numba>=0.35->pyod) (0.34.0)\n",
            "Requirement already satisfied: threadpoolctl>=2.0.0 in /usr/local/lib/python3.7/dist-packages (from scikit_learn>=0.20.0->pyod) (3.1.0)\n",
            "Requirement already satisfied: python-dateutil>=2.1 in /usr/local/lib/python3.7/dist-packages (from matplotlib->pyod) (2.8.2)\n",
            "Requirement already satisfied: kiwisolver>=1.0.1 in /usr/local/lib/python3.7/dist-packages (from matplotlib->pyod) (1.4.2)\n",
            "Requirement already satisfied: cycler>=0.10 in /usr/local/lib/python3.7/dist-packages (from matplotlib->pyod) (0.11.0)\n",
            "Requirement already satisfied: pyparsing!=2.0.4,!=2.1.2,!=2.1.6,>=2.0.1 in /usr/local/lib/python3.7/dist-packages (from matplotlib->pyod) (3.0.8)\n",
            "Requirement already satisfied: typing-extensions in /usr/local/lib/python3.7/dist-packages (from kiwisolver>=1.0.1->matplotlib->pyod) (4.2.0)\n",
            "Requirement already satisfied: patsy>=0.4.0 in /usr/local/lib/python3.7/dist-packages (from statsmodels->pyod) (0.5.2)\n",
            "Requirement already satisfied: pandas>=0.19 in /usr/local/lib/python3.7/dist-packages (from statsmodels->pyod) (1.3.5)\n",
            "Requirement already satisfied: pytz>=2017.3 in /usr/local/lib/python3.7/dist-packages (from pandas>=0.19->statsmodels->pyod) (2022.1)\n",
            "Building wheels for collected packages: pyod\n",
            "  Building wheel for pyod (setup.py) ... \u001b[?25l\u001b[?25hdone\n",
            "  Created wheel for pyod: filename=pyod-1.0.0-py3-none-any.whl size=144471 sha256=77afea0e90e4b5dd528dcbd23aeb5197418eefee9aeedc8e52067350c012d973\n",
            "  Stored in directory: /root/.cache/pip/wheels/37/e6/25/8098880dadf78bf063ee9b37477b1a9317e8bb0fc06e623187\n",
            "Successfully built pyod\n",
            "Installing collected packages: pyod\n",
            "Successfully installed pyod-1.0.0\n",
            "Collecting geopandas\n",
            "  Downloading geopandas-0.10.2-py2.py3-none-any.whl (1.0 MB)\n",
            "\u001b[K     |████████████████████████████████| 1.0 MB 5.1 MB/s \n",
            "\u001b[?25hCollecting rtree\n",
            "  Downloading Rtree-1.0.0-cp37-cp37m-manylinux_2_17_x86_64.manylinux2014_x86_64.whl (1.0 MB)\n",
            "\u001b[K     |████████████████████████████████| 1.0 MB 37.6 MB/s \n",
            "\u001b[?25hRequirement already satisfied: pandas>=0.25.0 in /usr/local/lib/python3.7/dist-packages (from geopandas) (1.3.5)\n",
            "Collecting fiona>=1.8\n",
            "  Downloading Fiona-1.8.21-cp37-cp37m-manylinux2014_x86_64.whl (16.7 MB)\n",
            "\u001b[K     |████████████████████████████████| 16.7 MB 321 kB/s \n",
            "\u001b[?25hRequirement already satisfied: shapely>=1.6 in /usr/local/lib/python3.7/dist-packages (from geopandas) (1.8.1.post1)\n",
            "Collecting pyproj>=2.2.0\n",
            "  Downloading pyproj-3.2.1-cp37-cp37m-manylinux2010_x86_64.whl (6.3 MB)\n",
            "\u001b[K     |████████████████████████████████| 6.3 MB 38.3 MB/s \n",
            "\u001b[?25hCollecting click-plugins>=1.0\n",
            "  Downloading click_plugins-1.1.1-py2.py3-none-any.whl (7.5 kB)\n",
            "Requirement already satisfied: certifi in /usr/local/lib/python3.7/dist-packages (from fiona>=1.8->geopandas) (2021.10.8)\n",
            "Requirement already satisfied: click>=4.0 in /usr/local/lib/python3.7/dist-packages (from fiona>=1.8->geopandas) (7.1.2)\n",
            "Collecting cligj>=0.5\n",
            "  Downloading cligj-0.7.2-py3-none-any.whl (7.1 kB)\n",
            "Collecting munch\n",
            "  Downloading munch-2.5.0-py2.py3-none-any.whl (10 kB)\n",
            "Requirement already satisfied: six>=1.7 in /usr/local/lib/python3.7/dist-packages (from fiona>=1.8->geopandas) (1.15.0)\n",
            "Requirement already satisfied: attrs>=17 in /usr/local/lib/python3.7/dist-packages (from fiona>=1.8->geopandas) (21.4.0)\n",
            "Requirement already satisfied: setuptools in /usr/local/lib/python3.7/dist-packages (from fiona>=1.8->geopandas) (57.4.0)\n",
            "Requirement already satisfied: pytz>=2017.3 in /usr/local/lib/python3.7/dist-packages (from pandas>=0.25.0->geopandas) (2022.1)\n",
            "Requirement already satisfied: numpy>=1.17.3 in /usr/local/lib/python3.7/dist-packages (from pandas>=0.25.0->geopandas) (1.21.6)\n",
            "Requirement already satisfied: python-dateutil>=2.7.3 in /usr/local/lib/python3.7/dist-packages (from pandas>=0.25.0->geopandas) (2.8.2)\n",
            "Requirement already satisfied: typing-extensions>=3.7 in /usr/local/lib/python3.7/dist-packages (from rtree) (4.2.0)\n",
            "Installing collected packages: munch, cligj, click-plugins, pyproj, fiona, rtree, geopandas\n",
            "Successfully installed click-plugins-1.1.1 cligj-0.7.2 fiona-1.8.21 geopandas-0.10.2 munch-2.5.0 pyproj-3.2.1 rtree-1.0.0\n",
            "Collecting rasterio\n",
            "  Downloading rasterio-1.2.10-cp37-cp37m-manylinux1_x86_64.whl (19.3 MB)\n",
            "\u001b[K     |████████████████████████████████| 19.3 MB 1.2 MB/s \n",
            "\u001b[?25hCollecting affine\n",
            "  Downloading affine-2.3.1-py2.py3-none-any.whl (16 kB)\n",
            "Requirement already satisfied: setuptools in /usr/local/lib/python3.7/dist-packages (from rasterio) (57.4.0)\n",
            "Requirement already satisfied: numpy in /usr/local/lib/python3.7/dist-packages (from rasterio) (1.21.6)\n",
            "Requirement already satisfied: click>=4.0 in /usr/local/lib/python3.7/dist-packages (from rasterio) (7.1.2)\n",
            "Requirement already satisfied: cligj>=0.5 in /usr/local/lib/python3.7/dist-packages (from rasterio) (0.7.2)\n",
            "Requirement already satisfied: click-plugins in /usr/local/lib/python3.7/dist-packages (from rasterio) (1.1.1)\n",
            "Requirement already satisfied: attrs in /usr/local/lib/python3.7/dist-packages (from rasterio) (21.4.0)\n",
            "Collecting snuggs>=1.4.1\n",
            "  Downloading snuggs-1.4.7-py3-none-any.whl (5.4 kB)\n",
            "Requirement already satisfied: certifi in /usr/local/lib/python3.7/dist-packages (from rasterio) (2021.10.8)\n",
            "Requirement already satisfied: pyparsing>=2.1.6 in /usr/local/lib/python3.7/dist-packages (from snuggs>=1.4.1->rasterio) (3.0.8)\n",
            "Installing collected packages: snuggs, affine, rasterio\n",
            "Successfully installed affine-2.3.1 rasterio-1.2.10 snuggs-1.4.7\n"
          ]
        }
      ],
      "source": [
        "!pip install --upgrade pyod\n",
        "!pip install geopandas rtree\n",
        "!pip install rasterio"
      ]
    },
    {
      "cell_type": "code",
      "source": [
        "from google.colab import drive\n",
        "drive.mount('/content/drive/')"
      ],
      "metadata": {
        "colab": {
          "base_uri": "https://localhost:8080/"
        },
        "id": "u4FHt9ZeAa2J",
        "outputId": "9140f913-384f-4b44-d495-3e2e70a35921"
      },
      "execution_count": null,
      "outputs": [
        {
          "output_type": "stream",
          "name": "stdout",
          "text": [
            "Mounted at /content/drive/\n"
          ]
        }
      ]
    },
    {
      "cell_type": "code",
      "source": [
        "from __future__ import division\n",
        "from __future__ import print_function\n",
        "\n",
        "import os\n",
        "import sys\n",
        "from time import time\n",
        "\n",
        "import numpy as np\n",
        "from numpy import percentile\n",
        "import matplotlib.pyplot as plt\n",
        "import matplotlib.font_manager\n",
        "\n",
        "# Import all models\n",
        "from pyod.models.abod import ABOD\n",
        "from pyod.models.cblof import CBLOF\n",
        "#from pyod.models.feature_bagging import FeatureBagging\n",
        "from pyod.models.hbos import HBOS\n",
        "from pyod.models.iforest import IForest\n",
        "from pyod.models.knn import KNN\n",
        "from pyod.models.lof import LOF\n",
        "from pyod.models.mcd import MCD\n",
        "from pyod.models.ocsvm import OCSVM\n",
        "from pyod.models.pca import PCA\n",
        "from pyod.models.lscp import LSCP\n",
        "\n",
        "\n",
        "\n",
        "from pyod.utils.data import generate_data\n",
        "from pyod.utils.data import evaluate_print\n",
        "\n",
        "import pandas as pd\n",
        "import geopandas as gpd"
      ],
      "metadata": {
        "id": "fYrwleDZ_D0c"
      },
      "execution_count": null,
      "outputs": []
    },
    {
      "cell_type": "markdown",
      "source": [
        "#utils"
      ],
      "metadata": {
        "id": "0z13UEqqCUlP"
      }
    },
    {
      "cell_type": "code",
      "source": [
        "def return_coords_df(df):\n",
        "    gh_twr_df = df\n",
        "    gh_twr_df['lon'] = gh_twr_df.geometry.apply(lambda p: p.x)\n",
        "    gh_twr_df['lat'] = gh_twr_df.geometry.apply(lambda p: p.y)\n",
        "\n",
        "    # represent points consistently as (lat, lon)\n",
        "    #coords_df = gh_twr_df[['lat', 'lon']]\n",
        "    coords_df = gh_twr_df[['lon', 'lat']] # for visualiszing MST which seems to flip them\n",
        "\n",
        "    return coords_df\n",
        "\n",
        "\n",
        "def return_nparr_from_df(df):\n",
        "  gh_twr_hits_coords_df = return_coords_df(df)\n",
        "  test_pts = gh_twr_hits_coords_df.to_numpy()\n",
        "  return test_pts\n",
        "\n",
        "\n",
        "def generate_clf_noisy_datasets(twr_df, mu = 0 , sigma = .1):\n",
        "    import numpy as np\n",
        "    X = return_nparr_from_df(twr_df)\n",
        "    y = np.zeros(X.shape[0])\n",
        "\n",
        "    ## create noise for classifier ####\n",
        "    noise = np.random.normal(mu, sigma, X.shape)\n",
        "\n",
        "    noisy_X = X + noise\n",
        "    noisy_y = np.ones(noisy_X.shape[0])\n",
        "    X_gen = np.concatenate((X, noisy_X))\n",
        "    y_gen = np.concatenate((y, noisy_y))\n",
        "    return X_gen, y_gen"
      ],
      "metadata": {
        "id": "F7bkuVPfCVww"
      },
      "execution_count": null,
      "outputs": []
    },
    {
      "cell_type": "code",
      "source": [
        "from pyod.utils.data import check_consistent_shape\n",
        "from pyod.utils.data import get_outliers_inliers\n",
        "def visualize(clf_name, X_train, y_train, X_test, y_test, y_train_pred,\n",
        "              y_test_pred, show_figure=True,\n",
        "              save_figure=False):  # pragma: no cover\n",
        "    \"\"\"Utility function for visualizing the results in examples.\n",
        "    Internal use only.\n",
        "    Parameters\n",
        "    ----------\n",
        "    clf_name : str\n",
        "        The name of the detector.\n",
        "    X_train : numpy array of shape (n_samples, n_features)\n",
        "        The training samples.\n",
        "    y_train : list or array of shape (n_samples,)\n",
        "        The ground truth of training samples.\n",
        "    X_test : numpy array of shape (n_samples, n_features)\n",
        "        The test samples.\n",
        "    y_test : list or array of shape (n_samples,)\n",
        "        The ground truth of test samples.\n",
        "    y_train_pred : numpy array of shape (n_samples, n_features)\n",
        "        The predicted binary labels of the training samples.\n",
        "    y_test_pred : numpy array of shape (n_samples, n_features)\n",
        "        The predicted binary labels of the test samples.\n",
        "    show_figure : bool, optional (default=True)\n",
        "        If set to True, show the figure.\n",
        "    save_figure : bool, optional (default=False)\n",
        "        If set to True, save the figure to the local.\n",
        "    \"\"\"\n",
        "\n",
        "    def _add_sub_plot(X_inliers, X_outliers, sub_plot_title,\n",
        "                      inlier_color='blue', outlier_color='orange'):\n",
        "        \"\"\"Internal method to add subplot of inliers and outliers.\n",
        "        Parameters\n",
        "        ----------\n",
        "        X_inliers : numpy array of shape (n_samples, n_features)\n",
        "            Outliers.\n",
        "        X_outliers : numpy array of shape (n_samples, n_features)\n",
        "            Inliers.\n",
        "        sub_plot_title : str\n",
        "            Subplot title.\n",
        "        inlier_color : str, optional (default='blue')\n",
        "            The color of inliers.\n",
        "        outlier_color : str, optional (default='orange')\n",
        "            The color of outliers.\n",
        "        \"\"\"\n",
        "        plt.axis(\"equal\")\n",
        "        plt.scatter(X_inliers[:, 0], X_inliers[:, 1], label='inliers',\n",
        "                    color=inlier_color, s=4, alpha = .7)\n",
        "        plt.scatter(X_outliers[:, 0], X_outliers[:, 1],\n",
        "                    label='outliers', color=outlier_color, s=5, alpha = .3, marker='^')\n",
        "        plt.title(sub_plot_title, fontsize=15)\n",
        "        plt.xticks([])\n",
        "        plt.yticks([])\n",
        "        plt.legend(loc=3, prop={'size': 10})\n",
        "\n",
        "    # check input data shapes are consistent\n",
        "    X_train, y_train, X_test, y_test, y_train_pred, y_test_pred = \\\n",
        "        check_consistent_shape(X_train, y_train, X_test, y_test, y_train_pred,\n",
        "                               y_test_pred)\n",
        "\n",
        "    if X_train.shape[1] != 2:\n",
        "        raise ValueError(\"Input data has to be 2-d for visualization. The \"\n",
        "                         \"input data has {shape}.\".format(shape=X_train.shape))\n",
        "\n",
        "    X_train_outliers, X_train_inliers = get_outliers_inliers(X_train, y_train)\n",
        "    X_train_outliers_pred, X_train_inliers_pred = get_outliers_inliers(\n",
        "        X_train, y_train_pred)\n",
        "\n",
        "    X_test_outliers, X_test_inliers = get_outliers_inliers(X_test, y_test)\n",
        "    X_test_outliers_pred, X_test_inliers_pred = get_outliers_inliers(\n",
        "        X_test, y_test_pred)\n",
        "\n",
        "    # plot ground truth vs. predicted results\n",
        "    fig = plt.figure(figsize=(12, 10))\n",
        "    plt.suptitle(\"Demo of {clf_name} Detector\".format(clf_name=clf_name),\n",
        "                 fontsize=15)\n",
        "\n",
        "    fig.add_subplot(221)\n",
        "    _add_sub_plot(X_train_inliers, X_train_outliers, 'Train Set Ground Truth',\n",
        "                  inlier_color='blue', outlier_color='orange')\n",
        "\n",
        "    fig.add_subplot(222)\n",
        "    _add_sub_plot(X_train_inliers_pred, X_train_outliers_pred,\n",
        "                  'Train Set Prediction', inlier_color='blue',\n",
        "                  outlier_color='orange')\n",
        "\n",
        "    fig.add_subplot(223)\n",
        "    _add_sub_plot(X_test_inliers, X_test_outliers, 'Test Set Ground Truth',\n",
        "                  inlier_color='green', outlier_color='red')\n",
        "\n",
        "    fig.add_subplot(224)\n",
        "    _add_sub_plot(X_test_inliers_pred, X_test_outliers_pred,\n",
        "                  'Test Set Prediction', inlier_color='green',\n",
        "                  outlier_color='red')\n",
        "\n",
        "    if save_figure:\n",
        "        plt.savefig('{clf_name}.png'.format(clf_name=clf_name), dpi=300)\n",
        "\n",
        "    if show_figure:\n",
        "        plt.show()"
      ],
      "metadata": {
        "id": "vQwlDx9yJymo"
      },
      "execution_count": null,
      "outputs": []
    },
    {
      "cell_type": "markdown",
      "source": [
        "# generate datasets for classifier"
      ],
      "metadata": {
        "id": "rK19FKSpd7Bk"
      }
    },
    {
      "cell_type": "markdown",
      "source": [
        "##load tower OSM data for maxar countries"
      ],
      "metadata": {
        "id": "JXoXvo5fCW2S"
      }
    },
    {
      "cell_type": "code",
      "source": [
        "dirs = ['ghana']\n",
        "country_dict = { 'ghana':'GH'}\n",
        "base_path = os.path.join('/content', 'drive', 'My Drive', 'PyPSA_Africa_images')\n",
        "out_path = os.path.join(base_path, 'MAXAR_256')\n",
        "\n",
        "for country in dirs:\n",
        "    country_code = country_dict[country]\n",
        "    max_ratio = 1.\n",
        "    print(f\"Making Examples for {country}!\")\n",
        "\n",
        "    # assess satellite imagery\n",
        "    data_path = os.path.join(base_path, 'maxar', country, 'raw')\n",
        "\n",
        "    #coverage_polygon = make_examples.make_polygon_list(data_path)\n",
        "    lines_file = os.path.join(data_path, f\"{country_code}_raw_lines.geojson\")\n",
        "    towers_file = os.path.join(data_path, f\"{country_code}_raw_towers.geojson\")\n",
        "\n",
        "    gh_line_df = gpd.read_file(lines_file) # ground truth\n",
        "    gh_twr_df = gpd.read_file(towers_file) # input into algo"
      ],
      "metadata": {
        "colab": {
          "base_uri": "https://localhost:8080/"
        },
        "id": "ERu7ycBlAsCT",
        "outputId": "f993cccc-2468-48ee-91f5-00ca454fa5cf"
      },
      "execution_count": null,
      "outputs": [
        {
          "output_type": "stream",
          "name": "stdout",
          "text": [
            "Making Examples for ghana!\n"
          ]
        }
      ]
    },
    {
      "cell_type": "code",
      "source": [
        "dirs = ['sierra_leone']\n",
        "country_dict = {'sierra_leone': 'SL'}\n",
        "base_path = os.path.join('/content', 'drive', 'My Drive', 'PyPSA_Africa_images')\n",
        "out_path = os.path.join(base_path, 'MAXAR_256')\n",
        "\n",
        "for country in dirs:\n",
        "    country_code = country_dict[country]\n",
        "    max_ratio = 1.\n",
        "    print(f\"Making Examples for {country}!\")\n",
        "\n",
        "    # assess satellite imagery\n",
        "\n",
        "    data_path = os.path.join(base_path, 'maxar', country, 'raw')\n",
        "\n",
        "    #coverage_polygon = make_examples.make_polygon_list(data_path)\n",
        "    towers_file = os.path.join(data_path, f\"{country_code}_raw_towers.geojson\")\n",
        "    lines_file = os.path.join(data_path, f\"{country_code}_raw_lines.geojson\")\n",
        "\n",
        "    sl_twr_df = gpd.read_file(towers_file)\n",
        "\n",
        "    sl_line_df = gpd.read_file(lines_file)"
      ],
      "metadata": {
        "colab": {
          "base_uri": "https://localhost:8080/"
        },
        "id": "ytqqiV_dd4Rp",
        "outputId": "2f6abc6d-89b4-49b8-c15f-9c578e806e42"
      },
      "execution_count": null,
      "outputs": [
        {
          "output_type": "stream",
          "name": "stdout",
          "text": [
            "Making Examples for sierra_leone!\n"
          ]
        }
      ]
    },
    {
      "cell_type": "code",
      "source": [
        "dirs = ['malawi']\n",
        "country_dict = {'malawi': 'MW'}\n",
        "base_path = os.path.join('/content', 'drive', 'My Drive', 'PyPSA_Africa_images')\n",
        "out_path = os.path.join(base_path, 'MAXAR_256')\n",
        "\n",
        "for country in dirs:\n",
        "    country_code = country_dict[country]\n",
        "    max_ratio = 1.\n",
        "    print(f\"Making Examples for {country}!\")\n",
        "\n",
        "    # assess satellite imagery\n",
        "\n",
        "    data_path = os.path.join(base_path, 'maxar', country, 'raw')\n",
        "\n",
        "    #coverage_polygon = make_examples.make_polygon_list(data_path)\n",
        "    towers_file = os.path.join(data_path, f\"{country_code}_raw_towers.geojson\")\n",
        "    lines_file = os.path.join(data_path, f\"{country_code}_raw_lines.geojson\")\n",
        "\n",
        "    mw_twr_df = gpd.read_file(towers_file)\n",
        "\n",
        "    mw_line_df = gpd.read_file(lines_file)"
      ],
      "metadata": {
        "colab": {
          "base_uri": "https://localhost:8080/"
        },
        "id": "Iaz6N_dKeDEd",
        "outputId": "6a2789b6-e0e7-47c4-cc57-cddb85ee2126"
      },
      "execution_count": null,
      "outputs": [
        {
          "output_type": "stream",
          "name": "stdout",
          "text": [
            "Making Examples for malawi!\n"
          ]
        }
      ]
    },
    {
      "cell_type": "code",
      "source": [
        "dirs = ['chad']\n",
        "country_dict = {'chad': 'TD'}\n",
        "base_path = os.path.join('/content', 'drive', 'My Drive', 'PyPSA_Africa_images')\n",
        "out_path = os.path.join(base_path, 'MAXAR_256')\n",
        "\n",
        "for country in dirs:\n",
        "    country_code = country_dict[country]\n",
        "    max_ratio = 1.\n",
        "    print(f\"Making Examples for {country}!\")\n",
        "\n",
        "    # assess satellite imagery\n",
        "\n",
        "    data_path = os.path.join(base_path, 'maxar', country, 'raw')\n",
        "\n",
        "    #coverage_polygon = make_examples.make_polygon_list(data_path)\n",
        "    towers_file = os.path.join(data_path, f\"{country_code}_raw_towers.geojson\")\n",
        "    lines_file = os.path.join(data_path, f\"{country_code}_raw_lines.geojson\")\n",
        "\n",
        "    ch_twr_df = gpd.read_file(towers_file)\n",
        "\n",
        "    ch_line_df = gpd.read_file(lines_file)\n"
      ],
      "metadata": {
        "colab": {
          "base_uri": "https://localhost:8080/"
        },
        "id": "71Z53RdceG3d",
        "outputId": "a97eebc4-be3f-451e-8981-23fed4a9d9f4"
      },
      "execution_count": null,
      "outputs": [
        {
          "output_type": "stream",
          "name": "stdout",
          "text": [
            "Making Examples for chad!\n"
          ]
        }
      ]
    },
    {
      "cell_type": "markdown",
      "source": [
        "## add noise and convert to array format in lon lat"
      ],
      "metadata": {
        "id": "kPzQvrlbfDcz"
      }
    },
    {
      "cell_type": "code",
      "source": [
        "maxar_twr_df = gpd.GeoDataFrame(pd.concat([ch_twr_df, gh_twr_df, mw_twr_df, sl_twr_df], ignore_index = True))\n",
        "maxar_twr_df.head()"
      ],
      "metadata": {
        "colab": {
          "base_uri": "https://localhost:8080/",
          "height": 206
        },
        "id": "ZzCGnMNQfILN",
        "outputId": "d2cdff75-158f-4369-ff14-92e6835a5b41"
      },
      "execution_count": null,
      "outputs": [
        {
          "output_type": "execute_result",
          "data": {
            "text/plain": [
              "             id tags.power tags.ref  Type Country                   geometry  \\\n",
              "0  6.225625e+09      tower     None  Node      TD  POINT (15.12929 12.14937)   \n",
              "1  5.938765e+09      tower     None  Node      TD  POINT (16.73191 10.28529)   \n",
              "2  5.938765e+09      tower     None  Node      TD  POINT (16.73693 10.28394)   \n",
              "3  6.225625e+09      tower     None  Node      TD  POINT (15.10714 12.17727)   \n",
              "4  5.938765e+09      tower     None  Node      TD  POINT (16.84126 10.20589)   \n",
              "\n",
              "  tags.material tags.height tags.structure tags.line_management tags.operator  \n",
              "0           NaN         NaN            NaN                  NaN           NaN  \n",
              "1           NaN         NaN            NaN                  NaN           NaN  \n",
              "2           NaN         NaN            NaN                  NaN           NaN  \n",
              "3           NaN         NaN            NaN                  NaN           NaN  \n",
              "4           NaN         NaN            NaN                  NaN           NaN  "
            ],
            "text/html": [
              "\n",
              "  <div id=\"df-59a16d7c-8751-4868-95f6-2aa8ec27dd51\">\n",
              "    <div class=\"colab-df-container\">\n",
              "      <div>\n",
              "<style scoped>\n",
              "    .dataframe tbody tr th:only-of-type {\n",
              "        vertical-align: middle;\n",
              "    }\n",
              "\n",
              "    .dataframe tbody tr th {\n",
              "        vertical-align: top;\n",
              "    }\n",
              "\n",
              "    .dataframe thead th {\n",
              "        text-align: right;\n",
              "    }\n",
              "</style>\n",
              "<table border=\"1\" class=\"dataframe\">\n",
              "  <thead>\n",
              "    <tr style=\"text-align: right;\">\n",
              "      <th></th>\n",
              "      <th>id</th>\n",
              "      <th>tags.power</th>\n",
              "      <th>tags.ref</th>\n",
              "      <th>Type</th>\n",
              "      <th>Country</th>\n",
              "      <th>geometry</th>\n",
              "      <th>tags.material</th>\n",
              "      <th>tags.height</th>\n",
              "      <th>tags.structure</th>\n",
              "      <th>tags.line_management</th>\n",
              "      <th>tags.operator</th>\n",
              "    </tr>\n",
              "  </thead>\n",
              "  <tbody>\n",
              "    <tr>\n",
              "      <th>0</th>\n",
              "      <td>6.225625e+09</td>\n",
              "      <td>tower</td>\n",
              "      <td>None</td>\n",
              "      <td>Node</td>\n",
              "      <td>TD</td>\n",
              "      <td>POINT (15.12929 12.14937)</td>\n",
              "      <td>NaN</td>\n",
              "      <td>NaN</td>\n",
              "      <td>NaN</td>\n",
              "      <td>NaN</td>\n",
              "      <td>NaN</td>\n",
              "    </tr>\n",
              "    <tr>\n",
              "      <th>1</th>\n",
              "      <td>5.938765e+09</td>\n",
              "      <td>tower</td>\n",
              "      <td>None</td>\n",
              "      <td>Node</td>\n",
              "      <td>TD</td>\n",
              "      <td>POINT (16.73191 10.28529)</td>\n",
              "      <td>NaN</td>\n",
              "      <td>NaN</td>\n",
              "      <td>NaN</td>\n",
              "      <td>NaN</td>\n",
              "      <td>NaN</td>\n",
              "    </tr>\n",
              "    <tr>\n",
              "      <th>2</th>\n",
              "      <td>5.938765e+09</td>\n",
              "      <td>tower</td>\n",
              "      <td>None</td>\n",
              "      <td>Node</td>\n",
              "      <td>TD</td>\n",
              "      <td>POINT (16.73693 10.28394)</td>\n",
              "      <td>NaN</td>\n",
              "      <td>NaN</td>\n",
              "      <td>NaN</td>\n",
              "      <td>NaN</td>\n",
              "      <td>NaN</td>\n",
              "    </tr>\n",
              "    <tr>\n",
              "      <th>3</th>\n",
              "      <td>6.225625e+09</td>\n",
              "      <td>tower</td>\n",
              "      <td>None</td>\n",
              "      <td>Node</td>\n",
              "      <td>TD</td>\n",
              "      <td>POINT (15.10714 12.17727)</td>\n",
              "      <td>NaN</td>\n",
              "      <td>NaN</td>\n",
              "      <td>NaN</td>\n",
              "      <td>NaN</td>\n",
              "      <td>NaN</td>\n",
              "    </tr>\n",
              "    <tr>\n",
              "      <th>4</th>\n",
              "      <td>5.938765e+09</td>\n",
              "      <td>tower</td>\n",
              "      <td>None</td>\n",
              "      <td>Node</td>\n",
              "      <td>TD</td>\n",
              "      <td>POINT (16.84126 10.20589)</td>\n",
              "      <td>NaN</td>\n",
              "      <td>NaN</td>\n",
              "      <td>NaN</td>\n",
              "      <td>NaN</td>\n",
              "      <td>NaN</td>\n",
              "    </tr>\n",
              "  </tbody>\n",
              "</table>\n",
              "</div>\n",
              "      <button class=\"colab-df-convert\" onclick=\"convertToInteractive('df-59a16d7c-8751-4868-95f6-2aa8ec27dd51')\"\n",
              "              title=\"Convert this dataframe to an interactive table.\"\n",
              "              style=\"display:none;\">\n",
              "        \n",
              "  <svg xmlns=\"http://www.w3.org/2000/svg\" height=\"24px\"viewBox=\"0 0 24 24\"\n",
              "       width=\"24px\">\n",
              "    <path d=\"M0 0h24v24H0V0z\" fill=\"none\"/>\n",
              "    <path d=\"M18.56 5.44l.94 2.06.94-2.06 2.06-.94-2.06-.94-.94-2.06-.94 2.06-2.06.94zm-11 1L8.5 8.5l.94-2.06 2.06-.94-2.06-.94L8.5 2.5l-.94 2.06-2.06.94zm10 10l.94 2.06.94-2.06 2.06-.94-2.06-.94-.94-2.06-.94 2.06-2.06.94z\"/><path d=\"M17.41 7.96l-1.37-1.37c-.4-.4-.92-.59-1.43-.59-.52 0-1.04.2-1.43.59L10.3 9.45l-7.72 7.72c-.78.78-.78 2.05 0 2.83L4 21.41c.39.39.9.59 1.41.59.51 0 1.02-.2 1.41-.59l7.78-7.78 2.81-2.81c.8-.78.8-2.07 0-2.86zM5.41 20L4 18.59l7.72-7.72 1.47 1.35L5.41 20z\"/>\n",
              "  </svg>\n",
              "      </button>\n",
              "      \n",
              "  <style>\n",
              "    .colab-df-container {\n",
              "      display:flex;\n",
              "      flex-wrap:wrap;\n",
              "      gap: 12px;\n",
              "    }\n",
              "\n",
              "    .colab-df-convert {\n",
              "      background-color: #E8F0FE;\n",
              "      border: none;\n",
              "      border-radius: 50%;\n",
              "      cursor: pointer;\n",
              "      display: none;\n",
              "      fill: #1967D2;\n",
              "      height: 32px;\n",
              "      padding: 0 0 0 0;\n",
              "      width: 32px;\n",
              "    }\n",
              "\n",
              "    .colab-df-convert:hover {\n",
              "      background-color: #E2EBFA;\n",
              "      box-shadow: 0px 1px 2px rgba(60, 64, 67, 0.3), 0px 1px 3px 1px rgba(60, 64, 67, 0.15);\n",
              "      fill: #174EA6;\n",
              "    }\n",
              "\n",
              "    [theme=dark] .colab-df-convert {\n",
              "      background-color: #3B4455;\n",
              "      fill: #D2E3FC;\n",
              "    }\n",
              "\n",
              "    [theme=dark] .colab-df-convert:hover {\n",
              "      background-color: #434B5C;\n",
              "      box-shadow: 0px 1px 3px 1px rgba(0, 0, 0, 0.15);\n",
              "      filter: drop-shadow(0px 1px 2px rgba(0, 0, 0, 0.3));\n",
              "      fill: #FFFFFF;\n",
              "    }\n",
              "  </style>\n",
              "\n",
              "      <script>\n",
              "        const buttonEl =\n",
              "          document.querySelector('#df-59a16d7c-8751-4868-95f6-2aa8ec27dd51 button.colab-df-convert');\n",
              "        buttonEl.style.display =\n",
              "          google.colab.kernel.accessAllowed ? 'block' : 'none';\n",
              "\n",
              "        async function convertToInteractive(key) {\n",
              "          const element = document.querySelector('#df-59a16d7c-8751-4868-95f6-2aa8ec27dd51');\n",
              "          const dataTable =\n",
              "            await google.colab.kernel.invokeFunction('convertToInteractive',\n",
              "                                                     [key], {});\n",
              "          if (!dataTable) return;\n",
              "\n",
              "          const docLinkHtml = 'Like what you see? Visit the ' +\n",
              "            '<a target=\"_blank\" href=https://colab.research.google.com/notebooks/data_table.ipynb>data table notebook</a>'\n",
              "            + ' to learn more about interactive tables.';\n",
              "          element.innerHTML = '';\n",
              "          dataTable['output_type'] = 'display_data';\n",
              "          await google.colab.output.renderOutput(dataTable, element);\n",
              "          const docLink = document.createElement('div');\n",
              "          docLink.innerHTML = docLinkHtml;\n",
              "          element.appendChild(docLink);\n",
              "        }\n",
              "      </script>\n",
              "    </div>\n",
              "  </div>\n",
              "  "
            ]
          },
          "metadata": {},
          "execution_count": 20
        }
      ]
    },
    {
      "cell_type": "code",
      "source": [
        "maxar_twr_df.tail()"
      ],
      "metadata": {
        "colab": {
          "base_uri": "https://localhost:8080/",
          "height": 206
        },
        "id": "ZklExCEnf1r9",
        "outputId": "7674673c-72a9-4fec-fd4a-4cfbaeedacb1"
      },
      "execution_count": null,
      "outputs": [
        {
          "output_type": "execute_result",
          "data": {
            "text/plain": [
              "                 id tags.power tags.ref  Type       Country  \\\n",
              "21474  3.166191e+09      tower      NaN  Node  sierra-leone   \n",
              "21475  2.088170e+09      tower      NaN  Node  sierra-leone   \n",
              "21476  8.668409e+09      tower      NaN  Node  sierra-leone   \n",
              "21477  2.179090e+09      tower      NaN  Node  sierra-leone   \n",
              "21478  2.179091e+09      tower      NaN  Node  sierra-leone   \n",
              "\n",
              "                        geometry tags.material tags.height tags.structure  \\\n",
              "21474  POINT (-12.77661 8.51718)           NaN         NaN            NaN   \n",
              "21475  POINT (-12.18536 8.83500)           NaN         NaN            NaN   \n",
              "21476  POINT (-12.22714 8.74219)           NaN         NaN            NaN   \n",
              "21477  POINT (-13.05836 8.32456)           NaN         NaN            NaN   \n",
              "21478  POINT (-13.02260 8.32977)           NaN         NaN            NaN   \n",
              "\n",
              "      tags.line_management tags.operator  \n",
              "21474                  NaN           NaN  \n",
              "21475                  NaN           NaN  \n",
              "21476                  NaN           NaN  \n",
              "21477                  NaN           NaN  \n",
              "21478                  NaN           NaN  "
            ],
            "text/html": [
              "\n",
              "  <div id=\"df-9416796d-f48f-4094-8056-8dd55742d026\">\n",
              "    <div class=\"colab-df-container\">\n",
              "      <div>\n",
              "<style scoped>\n",
              "    .dataframe tbody tr th:only-of-type {\n",
              "        vertical-align: middle;\n",
              "    }\n",
              "\n",
              "    .dataframe tbody tr th {\n",
              "        vertical-align: top;\n",
              "    }\n",
              "\n",
              "    .dataframe thead th {\n",
              "        text-align: right;\n",
              "    }\n",
              "</style>\n",
              "<table border=\"1\" class=\"dataframe\">\n",
              "  <thead>\n",
              "    <tr style=\"text-align: right;\">\n",
              "      <th></th>\n",
              "      <th>id</th>\n",
              "      <th>tags.power</th>\n",
              "      <th>tags.ref</th>\n",
              "      <th>Type</th>\n",
              "      <th>Country</th>\n",
              "      <th>geometry</th>\n",
              "      <th>tags.material</th>\n",
              "      <th>tags.height</th>\n",
              "      <th>tags.structure</th>\n",
              "      <th>tags.line_management</th>\n",
              "      <th>tags.operator</th>\n",
              "    </tr>\n",
              "  </thead>\n",
              "  <tbody>\n",
              "    <tr>\n",
              "      <th>21474</th>\n",
              "      <td>3.166191e+09</td>\n",
              "      <td>tower</td>\n",
              "      <td>NaN</td>\n",
              "      <td>Node</td>\n",
              "      <td>sierra-leone</td>\n",
              "      <td>POINT (-12.77661 8.51718)</td>\n",
              "      <td>NaN</td>\n",
              "      <td>NaN</td>\n",
              "      <td>NaN</td>\n",
              "      <td>NaN</td>\n",
              "      <td>NaN</td>\n",
              "    </tr>\n",
              "    <tr>\n",
              "      <th>21475</th>\n",
              "      <td>2.088170e+09</td>\n",
              "      <td>tower</td>\n",
              "      <td>NaN</td>\n",
              "      <td>Node</td>\n",
              "      <td>sierra-leone</td>\n",
              "      <td>POINT (-12.18536 8.83500)</td>\n",
              "      <td>NaN</td>\n",
              "      <td>NaN</td>\n",
              "      <td>NaN</td>\n",
              "      <td>NaN</td>\n",
              "      <td>NaN</td>\n",
              "    </tr>\n",
              "    <tr>\n",
              "      <th>21476</th>\n",
              "      <td>8.668409e+09</td>\n",
              "      <td>tower</td>\n",
              "      <td>NaN</td>\n",
              "      <td>Node</td>\n",
              "      <td>sierra-leone</td>\n",
              "      <td>POINT (-12.22714 8.74219)</td>\n",
              "      <td>NaN</td>\n",
              "      <td>NaN</td>\n",
              "      <td>NaN</td>\n",
              "      <td>NaN</td>\n",
              "      <td>NaN</td>\n",
              "    </tr>\n",
              "    <tr>\n",
              "      <th>21477</th>\n",
              "      <td>2.179090e+09</td>\n",
              "      <td>tower</td>\n",
              "      <td>NaN</td>\n",
              "      <td>Node</td>\n",
              "      <td>sierra-leone</td>\n",
              "      <td>POINT (-13.05836 8.32456)</td>\n",
              "      <td>NaN</td>\n",
              "      <td>NaN</td>\n",
              "      <td>NaN</td>\n",
              "      <td>NaN</td>\n",
              "      <td>NaN</td>\n",
              "    </tr>\n",
              "    <tr>\n",
              "      <th>21478</th>\n",
              "      <td>2.179091e+09</td>\n",
              "      <td>tower</td>\n",
              "      <td>NaN</td>\n",
              "      <td>Node</td>\n",
              "      <td>sierra-leone</td>\n",
              "      <td>POINT (-13.02260 8.32977)</td>\n",
              "      <td>NaN</td>\n",
              "      <td>NaN</td>\n",
              "      <td>NaN</td>\n",
              "      <td>NaN</td>\n",
              "      <td>NaN</td>\n",
              "    </tr>\n",
              "  </tbody>\n",
              "</table>\n",
              "</div>\n",
              "      <button class=\"colab-df-convert\" onclick=\"convertToInteractive('df-9416796d-f48f-4094-8056-8dd55742d026')\"\n",
              "              title=\"Convert this dataframe to an interactive table.\"\n",
              "              style=\"display:none;\">\n",
              "        \n",
              "  <svg xmlns=\"http://www.w3.org/2000/svg\" height=\"24px\"viewBox=\"0 0 24 24\"\n",
              "       width=\"24px\">\n",
              "    <path d=\"M0 0h24v24H0V0z\" fill=\"none\"/>\n",
              "    <path d=\"M18.56 5.44l.94 2.06.94-2.06 2.06-.94-2.06-.94-.94-2.06-.94 2.06-2.06.94zm-11 1L8.5 8.5l.94-2.06 2.06-.94-2.06-.94L8.5 2.5l-.94 2.06-2.06.94zm10 10l.94 2.06.94-2.06 2.06-.94-2.06-.94-.94-2.06-.94 2.06-2.06.94z\"/><path d=\"M17.41 7.96l-1.37-1.37c-.4-.4-.92-.59-1.43-.59-.52 0-1.04.2-1.43.59L10.3 9.45l-7.72 7.72c-.78.78-.78 2.05 0 2.83L4 21.41c.39.39.9.59 1.41.59.51 0 1.02-.2 1.41-.59l7.78-7.78 2.81-2.81c.8-.78.8-2.07 0-2.86zM5.41 20L4 18.59l7.72-7.72 1.47 1.35L5.41 20z\"/>\n",
              "  </svg>\n",
              "      </button>\n",
              "      \n",
              "  <style>\n",
              "    .colab-df-container {\n",
              "      display:flex;\n",
              "      flex-wrap:wrap;\n",
              "      gap: 12px;\n",
              "    }\n",
              "\n",
              "    .colab-df-convert {\n",
              "      background-color: #E8F0FE;\n",
              "      border: none;\n",
              "      border-radius: 50%;\n",
              "      cursor: pointer;\n",
              "      display: none;\n",
              "      fill: #1967D2;\n",
              "      height: 32px;\n",
              "      padding: 0 0 0 0;\n",
              "      width: 32px;\n",
              "    }\n",
              "\n",
              "    .colab-df-convert:hover {\n",
              "      background-color: #E2EBFA;\n",
              "      box-shadow: 0px 1px 2px rgba(60, 64, 67, 0.3), 0px 1px 3px 1px rgba(60, 64, 67, 0.15);\n",
              "      fill: #174EA6;\n",
              "    }\n",
              "\n",
              "    [theme=dark] .colab-df-convert {\n",
              "      background-color: #3B4455;\n",
              "      fill: #D2E3FC;\n",
              "    }\n",
              "\n",
              "    [theme=dark] .colab-df-convert:hover {\n",
              "      background-color: #434B5C;\n",
              "      box-shadow: 0px 1px 3px 1px rgba(0, 0, 0, 0.15);\n",
              "      filter: drop-shadow(0px 1px 2px rgba(0, 0, 0, 0.3));\n",
              "      fill: #FFFFFF;\n",
              "    }\n",
              "  </style>\n",
              "\n",
              "      <script>\n",
              "        const buttonEl =\n",
              "          document.querySelector('#df-9416796d-f48f-4094-8056-8dd55742d026 button.colab-df-convert');\n",
              "        buttonEl.style.display =\n",
              "          google.colab.kernel.accessAllowed ? 'block' : 'none';\n",
              "\n",
              "        async function convertToInteractive(key) {\n",
              "          const element = document.querySelector('#df-9416796d-f48f-4094-8056-8dd55742d026');\n",
              "          const dataTable =\n",
              "            await google.colab.kernel.invokeFunction('convertToInteractive',\n",
              "                                                     [key], {});\n",
              "          if (!dataTable) return;\n",
              "\n",
              "          const docLinkHtml = 'Like what you see? Visit the ' +\n",
              "            '<a target=\"_blank\" href=https://colab.research.google.com/notebooks/data_table.ipynb>data table notebook</a>'\n",
              "            + ' to learn more about interactive tables.';\n",
              "          element.innerHTML = '';\n",
              "          dataTable['output_type'] = 'display_data';\n",
              "          await google.colab.output.renderOutput(dataTable, element);\n",
              "          const docLink = document.createElement('div');\n",
              "          docLink.innerHTML = docLinkHtml;\n",
              "          element.appendChild(docLink);\n",
              "        }\n",
              "      </script>\n",
              "    </div>\n",
              "  </div>\n",
              "  "
            ]
          },
          "metadata": {},
          "execution_count": 21
        }
      ]
    },
    {
      "cell_type": "code",
      "source": [
        "X, y = generate_clf_noisy_datasets(gh_twr_df)"
      ],
      "metadata": {
        "id": "mq15g421ChJM"
      },
      "execution_count": null,
      "outputs": []
    },
    {
      "cell_type": "markdown",
      "source": [
        "# compare performance of model alternatives"
      ],
      "metadata": {
        "id": "iXH9hoe3ghZg"
      }
    },
    {
      "cell_type": "code",
      "source": [
        "from sklearn.model_selection import train_test_split\n",
        "from pyod.utils.utility import standardizer\n",
        "from pyod.utils.utility import precision_n_scores\n",
        "from sklearn.metrics import roc_auc_score\n",
        "\n",
        "\n",
        "# define the number of iterations\n",
        "n_ite = 10\n",
        "n_classifiers = 10\n",
        "\n",
        "df_columns = ['Data', '#Samples', '# Dimensions', 'Outlier Perc',\n",
        "              'ABOD', 'CBLOF', 'HBOS', 'IForest', 'KNN', 'LOF',\n",
        "              'MCD', 'OCSVM', 'PCA']\n",
        "\n",
        "# initialize the container for saving the results\n",
        "roc_df = pd.DataFrame(columns=df_columns)\n",
        "prn_df = pd.DataFrame(columns=df_columns)\n",
        "time_df = pd.DataFrame(columns=df_columns)\n",
        "\n",
        "X = X\n",
        "y= y\n",
        "\n",
        "outliers_fraction = np.count_nonzero(y) / len(y)\n",
        "outliers_percentage = round(outliers_fraction * 100, ndigits=4)\n",
        "\n",
        "# construct containers for saving results\n",
        "roc_list = [ X.shape[0], X.shape[1], outliers_percentage]\n",
        "prn_list = [ X.shape[0], X.shape[1], outliers_percentage]\n",
        "time_list = [X.shape[0], X.shape[1], outliers_percentage]\n",
        "\n",
        "roc_mat = np.zeros([n_ite, n_classifiers])\n",
        "prn_mat = np.zeros([n_ite, n_classifiers])\n",
        "time_mat = np.zeros([n_ite, n_classifiers])\n",
        "\n",
        "for i in range(n_ite):\n",
        "    print(\"ProcessingIteration'\", i + 1)\n",
        "    random_state = np.random.RandomState(i)\n",
        "\n",
        "    # 60% data for training and 40% for testing\n",
        "    X_train, X_test, y_train, y_test = \\\n",
        "        train_test_split(X, y, test_size=0.4, random_state=random_state)\n",
        "\n",
        "    # standardizing data for processing\n",
        "    X_train_norm, X_test_norm = standardizer(X_train, X_test)\n",
        "\n",
        "    classifiers = {'Angle-based Outlier Detector (ABOD)': ABOD(\n",
        "        contamination=outliers_fraction),\n",
        "        'Cluster-based Local Outlier Factor': CBLOF(\n",
        "            n_clusters=10,\n",
        "            contamination=outliers_fraction,\n",
        "            check_estimator=False,\n",
        "            random_state=random_state),\n",
        "        'Histogram-base Outlier Detection (HBOS)': HBOS(\n",
        "            contamination=outliers_fraction),\n",
        "        'Isolation Forest': IForest(contamination=outliers_fraction,\n",
        "                                    random_state=random_state),\n",
        "        'K Nearest Neighbors (KNN)': KNN(contamination=outliers_fraction),\n",
        "        'Local Outlier Factor (LOF)': LOF(\n",
        "            contamination=outliers_fraction),\n",
        "        'Minimum Covariance Determinant (MCD)': MCD(\n",
        "            contamination=outliers_fraction, random_state=random_state),\n",
        "        'One-class SVM (OCSVM)': OCSVM(contamination=outliers_fraction),\n",
        "        'Principal Component Analysis (PCA)': PCA(\n",
        "            contamination=outliers_fraction, random_state=random_state),\n",
        "    }\n",
        "    classifiers_indices = {\n",
        "        'Angle-based Outlier Detector (ABOD)': 0,\n",
        "        'Cluster-based Local Outlier Factor': 1,\n",
        "        'Histogram-base Outlier Detection (HBOS)': 3,\n",
        "        'Isolation Forest': 4,\n",
        "        'K Nearest Neighbors (KNN)': 5,\n",
        "        'Local Outlier Factor (LOF)': 6,\n",
        "        'Minimum Covariance Determinant (MCD)': 7,\n",
        "        'One-class SVM (OCSVM)': 8,\n",
        "        'Principal Component Analysis (PCA)': 9,\n",
        "    }\n",
        "\n",
        "    for clf_name, clf in classifiers.items():\n",
        "        t0 = time()\n",
        "        clf.fit(X_train_norm)\n",
        "        test_scores = clf.decision_function(X_test_norm)\n",
        "        t1 = time()\n",
        "        duration = round(t1 - t0, ndigits=4)\n",
        "\n",
        "        roc = round(roc_auc_score(y_test, test_scores), ndigits=4)\n",
        "        prn = round(precision_n_scores(y_test, test_scores), ndigits=4)\n",
        "\n",
        "        print('{clf_name} ROC:{roc}, precision @ rank n:{prn}, '\n",
        "              'execution time: {duration}s'.format(\n",
        "            clf_name=clf_name, roc=roc, prn=prn, duration=duration))\n",
        "\n",
        "        time_mat[i, classifiers_indices[clf_name]] = duration\n",
        "        roc_mat[i, classifiers_indices[clf_name]] = roc\n",
        "        prn_mat[i, classifiers_indices[clf_name]] = prn\n",
        "\n",
        "time_list = time_list + np.mean(time_mat, axis=0).tolist()\n",
        "temp_df = pd.DataFrame(time_list).transpose()\n",
        "temp_df.columns = df_columns\n",
        "time_df = pd.concat([time_df, temp_df], axis=0)\n",
        "\n",
        "roc_list = roc_list + np.mean(roc_mat, axis=0).tolist()\n",
        "temp_df = pd.DataFrame(roc_list).transpose()\n",
        "temp_df.columns = df_columns\n",
        "roc_df = pd.concat([roc_df, temp_df], axis=0)\n",
        "\n",
        "prn_list = prn_list + np.mean(prn_mat, axis=0).tolist()\n",
        "temp_df = pd.DataFrame(prn_list).transpose()\n",
        "temp_df.columns = df_columns\n",
        "prn_df = pd.concat([prn_df, temp_df], axis=0)\n",
        "\n",
        "\n"
      ],
      "metadata": {
        "id": "rCuVnib0Ghbv",
        "colab": {
          "base_uri": "https://localhost:8080/"
        },
        "outputId": "ba4f3ac9-2551-4fdf-b563-18e9de908dcd"
      },
      "execution_count": null,
      "outputs": [
        {
          "output_type": "stream",
          "name": "stdout",
          "text": [
            "ProcessingIteration' 1\n",
            "Angle-based Outlier Detector (ABOD) ROC:0.9618, precision @ rank n:0.9067, execution time: 10.6272s\n",
            "Cluster-based Local Outlier Factor ROC:0.5057, precision @ rank n:0.5074, execution time: 2.0704s\n",
            "Histogram-base Outlier Detection (HBOS) ROC:0.505, precision @ rank n:0.5063, execution time: 1.8802s\n",
            "Isolation Forest ROC:0.5324, precision @ rank n:0.5302, execution time: 2.4205s\n",
            "K Nearest Neighbors (KNN) ROC:0.9196, precision @ rank n:0.8414, execution time: 1.1615s\n",
            "Local Outlier Factor (LOF) ROC:0.8581, precision @ rank n:0.7835, execution time: 0.2347s\n",
            "Minimum Covariance Determinant (MCD) ROC:0.5001, precision @ rank n:0.5012, execution time: 5.9195s\n",
            "One-class SVM (OCSVM) ROC:0.5005, precision @ rank n:0.5015, execution time: 68.3227s\n",
            "Principal Component Analysis (PCA) ROC:0.4942, precision @ rank n:0.5012, execution time: 0.011s\n",
            "ProcessingIteration' 2\n",
            "Angle-based Outlier Detector (ABOD) ROC:0.9585, precision @ rank n:0.9057, execution time: 6.3217s\n",
            "Cluster-based Local Outlier Factor ROC:0.5121, precision @ rank n:0.5122, execution time: 0.5065s\n",
            "Histogram-base Outlier Detection (HBOS) ROC:0.5013, precision @ rank n:0.497, execution time: 0.0102s\n",
            "Isolation Forest ROC:0.5321, precision @ rank n:0.5225, execution time: 2.2669s\n",
            "K Nearest Neighbors (KNN) ROC:0.9178, precision @ rank n:0.8409, execution time: 1.1469s\n",
            "Local Outlier Factor (LOF) ROC:0.8555, precision @ rank n:0.7834, execution time: 0.2276s\n",
            "Minimum Covariance Determinant (MCD) ROC:0.5036, precision @ rank n:0.5011, execution time: 4.9439s\n",
            "One-class SVM (OCSVM) ROC:0.5059, precision @ rank n:0.5025, execution time: 67.889s\n",
            "Principal Component Analysis (PCA) ROC:0.498, precision @ rank n:0.4992, execution time: 0.0094s\n",
            "ProcessingIteration' 3\n",
            "Angle-based Outlier Detector (ABOD) ROC:0.9614, precision @ rank n:0.906, execution time: 6.1913s\n",
            "Cluster-based Local Outlier Factor ROC:0.5072, precision @ rank n:0.5111, execution time: 0.6333s\n",
            "Histogram-base Outlier Detection (HBOS) ROC:0.5046, precision @ rank n:0.5069, execution time: 0.0065s\n",
            "Isolation Forest ROC:0.529, precision @ rank n:0.5264, execution time: 2.288s\n",
            "K Nearest Neighbors (KNN) ROC:0.9183, precision @ rank n:0.8416, execution time: 1.1625s\n",
            "Local Outlier Factor (LOF) ROC:0.8619, precision @ rank n:0.784, execution time: 0.2296s\n",
            "Minimum Covariance Determinant (MCD) ROC:0.5032, precision @ rank n:0.5067, execution time: 4.743s\n",
            "One-class SVM (OCSVM) ROC:0.5042, precision @ rank n:0.5041, execution time: 68.4919s\n",
            "Principal Component Analysis (PCA) ROC:0.5025, precision @ rank n:0.5061, execution time: 0.01s\n",
            "ProcessingIteration' 4\n",
            "Angle-based Outlier Detector (ABOD) ROC:0.9591, precision @ rank n:0.9034, execution time: 6.1306s\n",
            "Cluster-based Local Outlier Factor ROC:0.5, precision @ rank n:0.4998, execution time: 0.7104s\n",
            "Histogram-base Outlier Detection (HBOS) ROC:0.5008, precision @ rank n:0.4964, execution time: 0.0056s\n",
            "Isolation Forest ROC:0.5284, precision @ rank n:0.5268, execution time: 2.3304s\n",
            "K Nearest Neighbors (KNN) ROC:0.9154, precision @ rank n:0.8381, execution time: 1.154s\n",
            "Local Outlier Factor (LOF) ROC:0.8564, precision @ rank n:0.7804, execution time: 0.2226s\n",
            "Minimum Covariance Determinant (MCD) ROC:0.5084, precision @ rank n:0.5063, execution time: 6.0881s\n",
            "One-class SVM (OCSVM) ROC:0.5067, precision @ rank n:0.5047, execution time: 68.0045s\n",
            "Principal Component Analysis (PCA) ROC:0.5049, precision @ rank n:0.5066, execution time: 0.009s\n",
            "ProcessingIteration' 5\n",
            "Angle-based Outlier Detector (ABOD) ROC:0.9614, precision @ rank n:0.9066, execution time: 6.184s\n",
            "Cluster-based Local Outlier Factor ROC:0.5084, precision @ rank n:0.5057, execution time: 0.422s\n",
            "Histogram-base Outlier Detection (HBOS) ROC:0.5012, precision @ rank n:0.4974, execution time: 0.0109s\n",
            "Isolation Forest ROC:0.5272, precision @ rank n:0.5214, execution time: 2.3645s\n",
            "K Nearest Neighbors (KNN) ROC:0.9207, precision @ rank n:0.843, execution time: 1.1698s\n",
            "Local Outlier Factor (LOF) ROC:0.8647, precision @ rank n:0.7873, execution time: 0.2221s\n",
            "Minimum Covariance Determinant (MCD) ROC:0.5011, precision @ rank n:0.4967, execution time: 4.8124s\n",
            "One-class SVM (OCSVM) ROC:0.5001, precision @ rank n:0.4967, execution time: 68.1434s\n",
            "Principal Component Analysis (PCA) ROC:0.498, precision @ rank n:0.4967, execution time: 0.01s\n",
            "ProcessingIteration' 6\n",
            "Angle-based Outlier Detector (ABOD) ROC:0.9614, precision @ rank n:0.9084, execution time: 6.3683s\n",
            "Cluster-based Local Outlier Factor ROC:0.5065, precision @ rank n:0.5033, execution time: 0.5624s\n",
            "Histogram-base Outlier Detection (HBOS) ROC:0.5051, precision @ rank n:0.5043, execution time: 0.0084s\n",
            "Isolation Forest ROC:0.5272, precision @ rank n:0.523, execution time: 2.358s\n",
            "K Nearest Neighbors (KNN) ROC:0.9208, precision @ rank n:0.843, execution time: 1.1685s\n",
            "Local Outlier Factor (LOF) ROC:0.8617, precision @ rank n:0.7822, execution time: 0.2252s\n",
            "Minimum Covariance Determinant (MCD) ROC:0.5044, precision @ rank n:0.5038, execution time: 4.9357s\n",
            "One-class SVM (OCSVM) ROC:0.505, precision @ rank n:0.504, execution time: 67.9335s\n",
            "Principal Component Analysis (PCA) ROC:0.5043, precision @ rank n:0.5047, execution time: 0.0142s\n",
            "ProcessingIteration' 7\n",
            "Angle-based Outlier Detector (ABOD) ROC:0.9572, precision @ rank n:0.8988, execution time: 6.2346s\n",
            "Cluster-based Local Outlier Factor ROC:0.508, precision @ rank n:0.4981, execution time: 0.5574s\n",
            "Histogram-base Outlier Detection (HBOS) ROC:0.5013, precision @ rank n:0.4996, execution time: 0.0069s\n",
            "Isolation Forest ROC:0.5251, precision @ rank n:0.5165, execution time: 2.3354s\n",
            "K Nearest Neighbors (KNN) ROC:0.9184, precision @ rank n:0.838, execution time: 1.1762s\n",
            "Local Outlier Factor (LOF) ROC:0.8606, precision @ rank n:0.7873, execution time: 0.2254s\n",
            "Minimum Covariance Determinant (MCD) ROC:0.4975, precision @ rank n:0.4961, execution time: 5.5056s\n",
            "One-class SVM (OCSVM) ROC:0.4999, precision @ rank n:0.4991, execution time: 68.5412s\n",
            "Principal Component Analysis (PCA) ROC:0.5031, precision @ rank n:0.5014, execution time: 0.0097s\n",
            "ProcessingIteration' 8\n",
            "Angle-based Outlier Detector (ABOD) ROC:0.9627, precision @ rank n:0.9094, execution time: 6.3428s\n",
            "Cluster-based Local Outlier Factor ROC:0.5106, precision @ rank n:0.516, execution time: 0.3841s\n",
            "Histogram-base Outlier Detection (HBOS) ROC:0.4983, precision @ rank n:0.5024, execution time: 0.0076s\n",
            "Isolation Forest ROC:0.524, precision @ rank n:0.524, execution time: 2.3736s\n",
            "K Nearest Neighbors (KNN) ROC:0.922, precision @ rank n:0.8457, execution time: 1.1667s\n",
            "Local Outlier Factor (LOF) ROC:0.8631, precision @ rank n:0.7858, execution time: 0.2231s\n",
            "Minimum Covariance Determinant (MCD) ROC:0.4981, precision @ rank n:0.5007, execution time: 5.1485s\n",
            "One-class SVM (OCSVM) ROC:0.5019, precision @ rank n:0.5049, execution time: 67.696s\n",
            "Principal Component Analysis (PCA) ROC:0.4964, precision @ rank n:0.5009, execution time: 0.0089s\n",
            "ProcessingIteration' 9\n",
            "Angle-based Outlier Detector (ABOD) ROC:0.9603, precision @ rank n:0.9057, execution time: 6.2996s\n",
            "Cluster-based Local Outlier Factor ROC:0.5063, precision @ rank n:0.5146, execution time: 0.61s\n",
            "Histogram-base Outlier Detection (HBOS) ROC:0.5022, precision @ rank n:0.508, execution time: 0.007s\n",
            "Isolation Forest ROC:0.5257, precision @ rank n:0.5265, execution time: 2.3645s\n",
            "K Nearest Neighbors (KNN) ROC:0.918, precision @ rank n:0.8413, execution time: 1.1709s\n",
            "Local Outlier Factor (LOF) ROC:0.8598, precision @ rank n:0.7853, execution time: 0.2281s\n",
            "Minimum Covariance Determinant (MCD) ROC:0.4987, precision @ rank n:0.5019, execution time: 5.3449s\n",
            "One-class SVM (OCSVM) ROC:0.5047, precision @ rank n:0.5051, execution time: 68.0619s\n",
            "Principal Component Analysis (PCA) ROC:0.4974, precision @ rank n:0.5039, execution time: 0.0088s\n",
            "ProcessingIteration' 10\n",
            "Angle-based Outlier Detector (ABOD) ROC:0.9591, precision @ rank n:0.9043, execution time: 6.2414s\n",
            "Cluster-based Local Outlier Factor ROC:0.5081, precision @ rank n:0.5135, execution time: 0.4508s\n",
            "Histogram-base Outlier Detection (HBOS) ROC:0.5006, precision @ rank n:0.5019, execution time: 0.0079s\n",
            "Isolation Forest ROC:0.5227, precision @ rank n:0.5161, execution time: 2.3468s\n",
            "K Nearest Neighbors (KNN) ROC:0.9176, precision @ rank n:0.8402, execution time: 1.1474s\n",
            "Local Outlier Factor (LOF) ROC:0.8634, precision @ rank n:0.7899, execution time: 0.2282s\n",
            "Minimum Covariance Determinant (MCD) ROC:0.4976, precision @ rank n:0.5023, execution time: 6.1122s\n",
            "One-class SVM (OCSVM) ROC:0.4956, precision @ rank n:0.4964, execution time: 68.2205s\n",
            "Principal Component Analysis (PCA) ROC:0.4999, precision @ rank n:0.5006, execution time: 0.0096s\n"
          ]
        }
      ]
    },
    {
      "cell_type": "code",
      "source": [],
      "metadata": {
        "id": "8shq1KCJqD_r"
      },
      "execution_count": null,
      "outputs": []
    },
    {
      "cell_type": "markdown",
      "source": [
        "based on the above, ABOD, KNN or LOF could be good options"
      ],
      "metadata": {
        "id": "x1zXiM_ZnKat"
      }
    },
    {
      "cell_type": "markdown",
      "source": [
        "#ECOD/CBLOF model"
      ],
      "metadata": {
        "id": "XW6xWjG2p_bT"
      }
    },
    {
      "cell_type": "markdown",
      "source": [
        "https://arxiv.org/abs/2201.00382"
      ],
      "metadata": {
        "id": "SqWg-g38qDm2"
      }
    },
    {
      "cell_type": "code",
      "source": [
        "from pyod.models.cblof import CBLOF\n",
        "clf = CBLOF()\n",
        "#clf.fit(X_train)\n",
        "clf.fit(X_train_norm)\n",
        "test_scores = clf.decision_function(X_test_norm)\n",
        "#t1 = time()\n",
        "#duration = round(t1 - t0, ndigits=4)\n",
        "\n",
        "roc = round(roc_auc_score(y_test, test_scores), ndigits=4)\n",
        "prn = round(precision_n_scores(y_test, test_scores), ndigits=4)\n",
        "\n",
        "print('{clf_name} ROC:{roc}, precision @ rank n:{prn}, '\n",
        "      'execution time: {duration}s'.format(\n",
        "    clf_name=clf_name, roc=roc, prn=prn, duration=duration))"
      ],
      "metadata": {
        "colab": {
          "base_uri": "https://localhost:8080/"
        },
        "id": "lgZ4ogBxvNtN",
        "outputId": "a6190f3e-b706-4dad-e4cc-f8f10d1e4497"
      },
      "execution_count": null,
      "outputs": [
        {
          "output_type": "stream",
          "name": "stdout",
          "text": [
            "LOF ROC:0.5027, precision @ rank n:0.5065, execution time: 2064.9308s\n"
          ]
        }
      ]
    },
    {
      "cell_type": "code",
      "source": [
        "from pyod.models.ecod import ECOD\n",
        "clf_name = 'ECOD'\n",
        "clf = ECOD()\n",
        "#clf.fit(X_train)\n",
        "clf.fit(X_train_norm)\n",
        "test_scores = clf.decision_function(X_test_norm)\n",
        "#t1 = time()\n",
        "#duration = round(t1 - t0, ndigits=4)\n",
        "\n",
        "roc = round(roc_auc_score(y_test, test_scores), ndigits=4)\n",
        "prn = round(precision_n_scores(y_test, test_scores), ndigits=4)\n",
        "\n",
        "print('{clf_name} ROC:{roc}, precision @ rank n:{prn}, '\n",
        "      'execution time: {duration}s'.format(\n",
        "    clf_name=clf_name, roc=roc, prn=prn, duration=duration))"
      ],
      "metadata": {
        "id": "9Vv0CzXtqBJL"
      },
      "execution_count": null,
      "outputs": []
    },
    {
      "cell_type": "code",
      "source": [
        "# get outlier scores\n",
        "y_train_scores = clf.decision_scores_  # raw outlier scores on the train data\n",
        "y_test_scores = clf.decision_function(X_test)  # predict raw outlier scores on test"
      ],
      "metadata": {
        "id": "yyKIC2HPqXPm"
      },
      "execution_count": null,
      "outputs": []
    },
    {
      "cell_type": "code",
      "source": [
        "# evaluate and print the results\n",
        "print(\"\\nOn Training Data:\")\n",
        "evaluate_print(clf_name, y_train, y_train_scores)\n",
        "print(\"\\nOn Test Data:\")\n",
        "evaluate_print(clf_name, y_test, y_test_scores)"
      ],
      "metadata": {
        "id": "MKaXqxhmqfRj"
      },
      "execution_count": null,
      "outputs": []
    },
    {
      "cell_type": "markdown",
      "source": [
        "# inference function on new data points"
      ],
      "metadata": {
        "id": "XJlqjwjcMyc5"
      }
    },
    {
      "cell_type": "code",
      "source": [
        "from sklearn.model_selection import train_test_split\n",
        "from pyod.utils.utility import standardizer\n",
        "from pyod.utils.utility import precision_n_scores\n",
        "from sklearn.metrics import roc_auc_score\n",
        "X_train, X_test, y_train, y_test = train_test_split( X, y, test_size=0.33, random_state=42)\n",
        "# train LOF detector\n",
        "clf_name = 'LOF'\n",
        "clf = LOF(contamination = .5)\n",
        "clf.fit(X_train)"
      ],
      "metadata": {
        "colab": {
          "base_uri": "https://localhost:8080/"
        },
        "id": "Z83KKtALHJud",
        "outputId": "cd896e5c-92dd-4dd2-f7f8-df4c823999ac"
      },
      "execution_count": null,
      "outputs": [
        {
          "output_type": "execute_result",
          "data": {
            "text/plain": [
              "LOF(algorithm='auto', contamination=0.5, leaf_size=30, metric='minkowski',\n",
              "  metric_params=None, n_jobs=1, n_neighbors=20, novelty=True, p=2)"
            ]
          },
          "metadata": {},
          "execution_count": 9
        }
      ]
    },
    {
      "cell_type": "code",
      "source": [
        "# get the prediction labels and outlier scores of the training data\n",
        "y_train_pred = clf.labels_  # binary labels (0: inliers, 1: outliers)\n",
        "y_train_scores = clf.decision_scores_  # raw outlier scores"
      ],
      "metadata": {
        "id": "zsyyrK8dHVkk"
      },
      "execution_count": null,
      "outputs": []
    },
    {
      "cell_type": "code",
      "source": [
        "from pyod.utils.data import generate_data\n",
        "from pyod.utils.data import evaluate_print\n",
        "\n",
        "# get the prediction on the test data\n",
        "y_test_pred = clf.predict(X_test)  # outlier labels (0 or 1)\n",
        "y_test_scores = clf.decision_function(X_test)  # outlier scores\n",
        "# evaluate and print the results\n",
        "print(\"\\nOn Training Data:\")\n",
        "evaluate_print(clf_name, y_train, y_train_scores)\n",
        "print(\"\\nOn Test Data:\")\n",
        "evaluate_print(clf_name, y_test, y_test_scores)"
      ],
      "metadata": {
        "colab": {
          "base_uri": "https://localhost:8080/"
        },
        "id": "5iOCAgjYIFlX",
        "outputId": "e3e6c093-9a94-40fe-baea-86a8ee79ce62"
      },
      "execution_count": null,
      "outputs": [
        {
          "output_type": "stream",
          "name": "stdout",
          "text": [
            "\n",
            "On Training Data:\n",
            "LOF ROC:0.8622, precision @ rank n:0.7878\n",
            "\n",
            "On Test Data:\n",
            "LOF ROC:0.8655, precision @ rank n:0.7871\n"
          ]
        }
      ]
    },
    {
      "cell_type": "code",
      "source": [
        "# visualize the results\n",
        "visualize(clf_name, X_train, y_train, X_test, y_test, y_train_pred,\n",
        "        y_test_pred, show_figure=True, save_figure=False)"
      ],
      "metadata": {
        "id": "YMpZEAt9Kp65",
        "colab": {
          "base_uri": "https://localhost:8080/",
          "height": 650
        },
        "outputId": "b5920cb6-05bb-44fe-a955-83041f0d3429"
      },
      "execution_count": null,
      "outputs": [
        {
          "output_type": "display_data",
          "data": {
            "text/plain": [
              "<Figure size 864x720 with 4 Axes>"
            ],
            "image/png": "[encoded data removed]"
          },
          "metadata": {}
        }
      ]
    },
    {
      "cell_type": "markdown",
      "source": [
        "#save model to use in other scripts"
      ],
      "metadata": {
        "id": "2PZFpo1A97Fw"
      }
    },
    {
      "cell_type": "code",
      "source": [
        "from joblib import dump, load\n",
        "model_name = 'grid_outlier_detection_v1.joblib'\n",
        "\n",
        "model_path = '/content/drive/MyDrive/PyPSA_Africa_images/models/outlier_detection/'+model_name\n",
        "# save the model\n",
        "dump(clf, model_path)\n",
        "# load the model\n",
        "#clf = load('grid_outlier_detection_v1.joblib')"
      ],
      "metadata": {
        "id": "HxZJ_lfIL4co",
        "colab": {
          "base_uri": "https://localhost:8080/"
        },
        "outputId": "121852f7-56d2-4c63-9f8c-84e2049ad2fd"
      },
      "execution_count": null,
      "outputs": [
        {
          "output_type": "execute_result",
          "data": {
            "text/plain": [
              "['/content/drive/MyDrive/PyPSA_Africa_images/models/outlier_detection/grid_outlier_detection_v1.joblib']"
            ]
          },
          "metadata": {},
          "execution_count": 84
        }
      ]
    },
    {
      "cell_type": "code",
      "source": [
        "def grid_outlier_inference(model_path, twr_df):\n",
        "    clf = load(model_path)\n",
        "    X = return_nparr_from_df(twr_df)\n",
        "    # get the prediction on the new data\n",
        "    y_test_pred = clf.predict(X)  # outlier labels (0 or 1)\n",
        "    y_test_scores = clf.decision_function(X)  # outlier scores\n",
        "    return y_test_pred, y_test_scores\n"
      ],
      "metadata": {
        "id": "kS4FjrOhM1FG"
      },
      "execution_count": null,
      "outputs": []
    },
    {
      "cell_type": "code",
      "source": [
        "#model_path = 'grid_outlier_detection.joblib'\n",
        "twr_df = maxar_twr_df[0:500]\n",
        "grid_outlier_inference(model_path, twr_df)"
      ],
      "metadata": {
        "id": "u7Y-3RX6N94-"
      },
      "execution_count": null,
      "outputs": []
    },
    {
      "cell_type": "code",
      "source": [
        "clf = load(model_path)"
      ],
      "metadata": {
        "id": "MjPli4v-2jnW"
      },
      "execution_count": null,
      "outputs": []
    },
    {
      "cell_type": "code",
      "source": [
        "twr_df = maxar_twr_df[500:1000]\n",
        "X = return_nparr_from_df(twr_df)\n",
        "y_test_pred = clf.predict(X)  # outlier labels (0 or 1)\n",
        "y_test_scores = clf.decision_function(X)  # outlier scores\n",
        "print(y_test_pred)\n",
        "print(y_test_scores)"
      ],
      "metadata": {
        "colab": {
          "base_uri": "https://localhost:8080/"
        },
        "id": "Tg6t2Dz12Cou",
        "outputId": "3d0e443b-e8fb-47bc-bd91-6a3ce283e623"
      },
      "execution_count": null,
      "outputs": [
        {
          "output_type": "stream",
          "name": "stdout",
          "text": [
            "[0 0 1 0 0 0 0 0 0 0 0 1 0 0 0 0 0 0 0 0 0 0 0 0 0 0 1 0 1 1 0 0 0 0 0 1 1\n",
            " 0 0 0 0 0 0 0 1 0 1 0 0 0 0 0 1 0 1 1 0 0 0 1 0 0 0 0 1 1 1 0 0 0 1 0 1 0\n",
            " 1 0 0 0 0 1 1 0 0 0 0 0 0 0 0 0 0 0 1 1 0 0 0 0 0 0 0 0 0 0 0 0 0 1 0 0 0\n",
            " 0 0 0 1 0 1 0 0 0 0 0 0 0 0 0 0 0 0 1 0 0 0 0 0 1 0 0 0 0 0 0 1 0 1 0 0 0\n",
            " 1 0 0 0 0 0 0 0 1 0 0 0 0 0 0 0 0 0 0 0 0 0 0 0 0 1 0 0 0 0 0 0 0 0 0 1 0\n",
            " 0 0 1 1 0 0 0 0 0 0 1 0 0 0 1 0 0 0 0 0 0 0 0 0 0 0 0 0 0 0 0 1 0 0 0 0 0\n",
            " 1 0 1 1 0 1 1 0 0 0 1 1 0 0 0 0 0 0 0 0 0 0 0 0 0 1 0 0 0 0 0 0 1 1 0 0 0\n",
            " 0 0 0 0 1 0 0 0 0 0 0 1 0 0 0 1 0 1 0 0 0 0 0 0 0 1 0 1 0 0 0 0 0 0 0 0 0\n",
            " 1 0 0 0 0 1 1 1 0 0 0 0 1 1 0 0 0 0 1 0 1 0 1 0 0 0 0 0 0 0 0 0 0 0 1 1 0\n",
            " 1 0 0 1 1 0 0 0 0 0 0 0 0 0 0 0 0 0 0 1 0 1 0 0 0 1 0 0 1 0 0 0 1 0 0 0 0\n",
            " 0 0 0 0 0 1 0 0 1 0 0 0 0 1 0 0 0 0 1 0 1 1 0 1 0 0 1 0 0 1 0 0 0 0 1 0 0\n",
            " 0 1 0 0 0 0 0 0 0 1 0 0 0 0 0 1 0 1 0 1 0 0 0 1 0 0 1 1 0 0 0 1 0 0 1 0 0\n",
            " 0 0 1 1 0 1 0 0 0 0 0 1 1 0 0 1 0 0 1 0 0 1 1 0 0 1 0 0 0 0 0 0 0 0 0 0 1\n",
            " 0 0 0 0 0 1 0 1 0 1 0 0 0 1 1 0 0 0 0]\n",
            "[0.99854691 0.99822973 1.04329792 0.97092779 1.00532358 0.98857427\n",
            " 0.97640022 0.96568171 1.00055236 0.95653116 0.9797054  1.04292459\n",
            " 0.98279533 0.98331739 0.99845697 0.98979264 0.99963196 0.96208089\n",
            " 0.97179214 0.97557053 0.97867103 0.99654979 1.0074821  0.97278749\n",
            " 0.98139328 0.97146718 1.03963874 1.00049369 1.04438025 1.06854632\n",
            " 0.98149219 1.00136732 0.991752   0.9792413  0.98420658 1.03103179\n",
            " 1.05800675 0.9943417  0.99643335 0.97481393 1.01411756 0.9865244\n",
            " 0.97697482 0.98738451 1.06395105 0.9728004  1.15305659 0.95304998\n",
            " 1.0196284  0.998065   0.98282823 0.99683681 1.08149013 1.00710834\n",
            " 1.03084095 1.03907439 1.01879303 1.01387692 0.98180289 1.03209611\n",
            " 0.98956001 0.9901104  0.96283614 0.95882295 1.0510326  1.06984163\n",
            " 1.08105213 1.02811968 0.97687327 0.99944313 1.13483739 0.97781636\n",
            " 1.42678871 1.0078892  1.06256263 0.9981513  1.00127893 0.99993669\n",
            " 0.96212448 1.037891   1.0570903  1.00696325 0.99473786 1.00590625\n",
            " 0.99679293 0.98438006 1.00284095 1.02077206 0.98631822 1.01542012\n",
            " 1.00636153 1.00036679 1.0699765  1.05262408 0.99296662 0.98682107\n",
            " 1.01526994 0.99978064 0.98838818 0.9903383  0.96836707 0.96774881\n",
            " 0.97492631 1.01754677 0.95815933 0.97761708 0.9730231  1.03698404\n",
            " 1.01663024 1.02490704 0.99116833 1.00223672 1.02097988 1.01000281\n",
            " 1.04512259 0.97715835 1.06510022 0.98194725 1.01711359 0.98838711\n",
            " 1.0247172  1.00982785 0.99267223 0.97848529 0.97973978 0.97231976\n",
            " 0.98236188 1.00808385 0.99823005 1.10885172 1.00131626 0.95842759\n",
            " 0.9726922  0.99249316 0.97103185 1.04239805 0.97719596 1.02526264\n",
            " 0.98012893 1.0283772  0.97855361 0.99215397 1.07044299 0.96155172\n",
            " 1.26553658 0.97806061 1.01648758 1.00747184 1.07024115 0.97482615\n",
            " 0.98804786 0.96692183 0.99952572 1.01602676 1.01227713 1.01925442\n",
            " 1.08870348 0.98806731 0.9797054  0.9863409  0.99912542 1.01594719\n",
            " 0.98299709 0.99634557 0.96978223 0.97229158 0.98023873 0.98727781\n",
            " 0.98911956 0.99392137 0.96505442 0.97210632 0.98639876 1.03447462\n",
            " 1.0178044  1.00528359 0.99027897 0.99729134 0.97360504 1.0245901\n",
            " 1.00260758 0.97857038 0.97737357 1.0303607  1.01679608 1.00221394\n",
            " 0.99818215 1.04237509 1.03549648 0.97858486 0.99536834 0.97636465\n",
            " 1.02481784 0.98043106 1.0019055  1.03145957 0.98536353 0.98868979\n",
            " 0.99803684 1.09894365 1.01140405 0.97265914 1.01636271 0.99120569\n",
            " 1.02024103 1.01109157 1.02472506 0.99981185 0.9654671  0.98143016\n",
            " 0.98033005 0.98543416 0.99856336 0.95213823 1.0086889  1.01805016\n",
            " 1.20833502 1.0132391  1.0101865  0.99019073 0.98960291 0.9657398\n",
            " 1.05513582 0.98013589 1.21041239 1.03726647 1.00895316 1.02951191\n",
            " 1.21843776 0.9754145  0.998901   1.01787692 1.17676165 1.06840507\n",
            " 0.96101665 0.98486063 0.98631788 0.99996192 1.00413709 0.97486606\n",
            " 0.98863022 0.99503037 1.02174792 1.00468184 0.97167669 1.00558547\n",
            " 1.01679168 1.04592434 0.99531245 0.95476309 0.99981802 1.00018406\n",
            " 0.97827061 0.99025704 1.04288778 1.22485013 0.94244637 1.00301021\n",
            " 0.98621339 0.98181541 1.00513914 1.01800487 1.0236794  1.03512417\n",
            " 1.02772521 1.00171133 0.99743007 1.00382742 0.98239132 1.01040852\n",
            " 1.04290585 0.99578209 1.0249218  0.99004501 1.16898019 1.00748378\n",
            " 1.08926134 0.97787033 1.00815232 0.97816507 0.99562014 1.01767232\n",
            " 0.98263505 1.00152762 1.06064537 1.00748095 1.05481448 0.98785305\n",
            " 1.00621374 1.00278422 0.99266268 1.0128643  1.02142246 0.98535532\n",
            " 0.97271013 0.99892635 1.03120781 1.00055003 1.01342701 0.97442656\n",
            " 0.99938635 1.03269909 1.03228142 1.03031124 1.02138989 1.00635618\n",
            " 0.99507817 0.98479305 1.1835968  1.03633818 0.99999428 0.98618556\n",
            " 0.9777833  1.02839549 1.03385438 0.96765109 1.28062204 0.99401061\n",
            " 1.04910021 1.0115003  0.94490289 0.97928133 0.98916506 1.00646983\n",
            " 1.00916782 0.98296471 0.98250588 1.01401421 0.99736441 0.97077581\n",
            " 1.03293877 1.03915155 1.02058638 1.05791321 1.01061729 1.01736821\n",
            " 1.03485149 1.03061786 0.96853243 1.00865167 0.97669821 1.01826073\n",
            " 1.01645492 0.96742615 1.00336465 0.98733484 1.0071006  0.97564559\n",
            " 0.97950741 1.01560156 0.99385795 1.0146322  1.1794955  1.00765665\n",
            " 1.19844404 1.02080708 1.01201979 1.0114688  1.04048783 1.02102662\n",
            " 1.00357522 1.03922859 1.01223113 1.01366289 0.99995805 1.03228349\n",
            " 1.02824854 0.99563516 0.99384893 0.99889452 1.00590503 1.02611517\n",
            " 1.01155011 0.98852922 1.01313628 1.04848514 1.01023176 0.9775511\n",
            " 1.07126508 1.01226023 1.00579588 0.98271085 0.98889282 1.24419034\n",
            " 0.97442656 1.02201781 1.01720759 0.99707058 1.07753865 0.95212318\n",
            " 1.05394151 1.0371577  0.99685437 1.02957742 1.02471916 0.98808767\n",
            " 1.05514149 0.9797054  0.97880224 1.13244496 0.96652884 1.00578803\n",
            " 0.98003663 0.99429089 1.03189395 0.98914114 0.99021113 1.01018877\n",
            " 1.04597482 1.01670185 0.9832324  1.01899061 0.97732494 0.9939963\n",
            " 0.99070296 1.0150162  1.03581274 1.00818455 0.97221486 0.98245117\n",
            " 1.02301477 0.99876504 1.03167928 1.02025841 1.04755885 1.01214132\n",
            " 1.19505264 1.00715297 1.00031057 0.96350785 1.07420913 0.98137396\n",
            " 0.97647255 1.03964012 1.04206405 0.99277642 1.00856257 1.01746665\n",
            " 1.07021145 0.98838295 0.98652171 1.03502906 0.99959639 0.981211\n",
            " 1.01789747 0.97811975 1.05210167 1.04983783 1.00513931 1.11784814\n",
            " 0.99425728 0.98250588 0.95394338 0.98241856 0.98789231 1.04374661\n",
            " 1.04029446 0.98019227 0.97752922 1.305071   0.98894629 1.00050159\n",
            " 1.03285742 0.97046956 1.00714199 1.03542882 1.06561936 0.97662672\n",
            " 1.01912619 1.0303055  0.98640787 0.98781098 0.99233551 0.97767336\n",
            " 0.97959464 1.00467727 0.99197083 1.02177942 1.01804999 1.0053172\n",
            " 1.0290376  1.02026683 1.00234812 0.99474512 1.01284107 0.95203377\n",
            " 1.03781616 0.99010783 1.0336455  0.97136817 1.17076832 0.98944843\n",
            " 0.99353919 1.01491881 1.06615493 1.10806581 0.97146995 1.01930302\n",
            " 1.01652995 1.00998305]\n"
          ]
        },
        {
          "output_type": "stream",
          "name": "stderr",
          "text": [
            "/usr/local/lib/python3.7/dist-packages/geopandas/geodataframe.py:1351: SettingWithCopyWarning: \n",
            "A value is trying to be set on a copy of a slice from a DataFrame.\n",
            "Try using .loc[row_indexer,col_indexer] = value instead\n",
            "\n",
            "See the caveats in the documentation: https://pandas.pydata.org/pandas-docs/stable/user_guide/indexing.html#returning-a-view-versus-a-copy\n",
            "  super().__setitem__(key, value)\n",
            "/usr/local/lib/python3.7/dist-packages/geopandas/geodataframe.py:1351: SettingWithCopyWarning: \n",
            "A value is trying to be set on a copy of a slice from a DataFrame.\n",
            "Try using .loc[row_indexer,col_indexer] = value instead\n",
            "\n",
            "See the caveats in the documentation: https://pandas.pydata.org/pandas-docs/stable/user_guide/indexing.html#returning-a-view-versus-a-copy\n",
            "  super().__setitem__(key, value)\n"
          ]
        }
      ]
    },
    {
      "cell_type": "markdown",
      "source": [
        "#compare all model options"
      ],
      "metadata": {
        "id": "efRvRZ0oQphp"
      }
    }
  ]
}