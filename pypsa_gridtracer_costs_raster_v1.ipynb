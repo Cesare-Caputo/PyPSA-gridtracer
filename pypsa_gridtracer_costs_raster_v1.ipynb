{
  "nbformat": 4,
  "nbformat_minor": 0,
  "metadata": {
    "colab": {
      "provenance": [],
      "toc_visible": true,
      "machine_shape": "hm",
      "authorship_tag": "ABX9TyNNbTThcFvvC8c0sX+NXgu1",
      "include_colab_link": true
    },
    "kernelspec": {
      "name": "python3",
      "display_name": "Python 3"
    },
    "language_info": {
      "name": "python"
    }
  },
  "cells": [
    {
      "cell_type": "markdown",
      "metadata": {
        "id": "view-in-github",
        "colab_type": "text"
      },
      "source": [
        "<a href=\"https://colab.research.google.com/github/Cesare-Caputo/PyPSA-gridtracer/blob/main/pypsa_gridtracer_costs_raster_v1.ipynb\" target=\"_parent\"><img src=\"https://colab.research.google.com/assets/colab-badge.svg\" alt=\"Open In Colab\"/></a>"
      ]
    },
    {
      "cell_type": "markdown",
      "source": [
        "#setup"
      ],
      "metadata": {
        "id": "EoKKQkw0Hl2I"
      }
    },
    {
      "cell_type": "code",
      "execution_count": null,
      "metadata": {
        "colab": {
          "base_uri": "https://localhost:8080/"
        },
        "id": "nN6LesCWGrXz",
        "outputId": "4ce0413c-cdc5-47dc-9279-1d6eec851121"
      },
      "outputs": [
        {
          "output_type": "stream",
          "name": "stdout",
          "text": [
            "Collecting geopandas\n",
            "  Downloading geopandas-0.10.2-py2.py3-none-any.whl (1.0 MB)\n",
            "\u001b[?25l\r\u001b[K     |▎                               | 10 kB 33.2 MB/s eta 0:00:01\r\u001b[K     |▋                               | 20 kB 8.8 MB/s eta 0:00:01\r\u001b[K     |█                               | 30 kB 7.7 MB/s eta 0:00:01\r\u001b[K     |█▎                              | 40 kB 3.5 MB/s eta 0:00:01\r\u001b[K     |█▋                              | 51 kB 3.6 MB/s eta 0:00:01\r\u001b[K     |██                              | 61 kB 4.3 MB/s eta 0:00:01\r\u001b[K     |██▎                             | 71 kB 4.5 MB/s eta 0:00:01\r\u001b[K     |██▌                             | 81 kB 4.8 MB/s eta 0:00:01\r\u001b[K     |██▉                             | 92 kB 5.4 MB/s eta 0:00:01\r\u001b[K     |███▏                            | 102 kB 4.2 MB/s eta 0:00:01\r\u001b[K     |███▌                            | 112 kB 4.2 MB/s eta 0:00:01\r\u001b[K     |███▉                            | 122 kB 4.2 MB/s eta 0:00:01\r\u001b[K     |████▏                           | 133 kB 4.2 MB/s eta 0:00:01\r\u001b[K     |████▌                           | 143 kB 4.2 MB/s eta 0:00:01\r\u001b[K     |████▊                           | 153 kB 4.2 MB/s eta 0:00:01\r\u001b[K     |█████                           | 163 kB 4.2 MB/s eta 0:00:01\r\u001b[K     |█████▍                          | 174 kB 4.2 MB/s eta 0:00:01\r\u001b[K     |█████▊                          | 184 kB 4.2 MB/s eta 0:00:01\r\u001b[K     |██████                          | 194 kB 4.2 MB/s eta 0:00:01\r\u001b[K     |██████▍                         | 204 kB 4.2 MB/s eta 0:00:01\r\u001b[K     |██████▊                         | 215 kB 4.2 MB/s eta 0:00:01\r\u001b[K     |███████                         | 225 kB 4.2 MB/s eta 0:00:01\r\u001b[K     |███████▎                        | 235 kB 4.2 MB/s eta 0:00:01\r\u001b[K     |███████▋                        | 245 kB 4.2 MB/s eta 0:00:01\r\u001b[K     |████████                        | 256 kB 4.2 MB/s eta 0:00:01\r\u001b[K     |████████▎                       | 266 kB 4.2 MB/s eta 0:00:01\r\u001b[K     |████████▋                       | 276 kB 4.2 MB/s eta 0:00:01\r\u001b[K     |█████████                       | 286 kB 4.2 MB/s eta 0:00:01\r\u001b[K     |█████████▏                      | 296 kB 4.2 MB/s eta 0:00:01\r\u001b[K     |█████████▌                      | 307 kB 4.2 MB/s eta 0:00:01\r\u001b[K     |█████████▉                      | 317 kB 4.2 MB/s eta 0:00:01\r\u001b[K     |██████████▏                     | 327 kB 4.2 MB/s eta 0:00:01\r\u001b[K     |██████████▌                     | 337 kB 4.2 MB/s eta 0:00:01\r\u001b[K     |██████████▉                     | 348 kB 4.2 MB/s eta 0:00:01\r\u001b[K     |███████████▏                    | 358 kB 4.2 MB/s eta 0:00:01\r\u001b[K     |███████████▍                    | 368 kB 4.2 MB/s eta 0:00:01\r\u001b[K     |███████████▊                    | 378 kB 4.2 MB/s eta 0:00:01\r\u001b[K     |████████████                    | 389 kB 4.2 MB/s eta 0:00:01\r\u001b[K     |████████████▍                   | 399 kB 4.2 MB/s eta 0:00:01\r\u001b[K     |████████████▊                   | 409 kB 4.2 MB/s eta 0:00:01\r\u001b[K     |█████████████                   | 419 kB 4.2 MB/s eta 0:00:01\r\u001b[K     |█████████████▍                  | 430 kB 4.2 MB/s eta 0:00:01\r\u001b[K     |█████████████▋                  | 440 kB 4.2 MB/s eta 0:00:01\r\u001b[K     |██████████████                  | 450 kB 4.2 MB/s eta 0:00:01\r\u001b[K     |██████████████▎                 | 460 kB 4.2 MB/s eta 0:00:01\r\u001b[K     |██████████████▋                 | 471 kB 4.2 MB/s eta 0:00:01\r\u001b[K     |███████████████                 | 481 kB 4.2 MB/s eta 0:00:01\r\u001b[K     |███████████████▎                | 491 kB 4.2 MB/s eta 0:00:01\r\u001b[K     |███████████████▋                | 501 kB 4.2 MB/s eta 0:00:01\r\u001b[K     |███████████████▉                | 512 kB 4.2 MB/s eta 0:00:01\r\u001b[K     |████████████████▏               | 522 kB 4.2 MB/s eta 0:00:01\r\u001b[K     |████████████████▌               | 532 kB 4.2 MB/s eta 0:00:01\r\u001b[K     |████████████████▉               | 542 kB 4.2 MB/s eta 0:00:01\r\u001b[K     |█████████████████▏              | 552 kB 4.2 MB/s eta 0:00:01\r\u001b[K     |█████████████████▌              | 563 kB 4.2 MB/s eta 0:00:01\r\u001b[K     |█████████████████▉              | 573 kB 4.2 MB/s eta 0:00:01\r\u001b[K     |██████████████████              | 583 kB 4.2 MB/s eta 0:00:01\r\u001b[K     |██████████████████▍             | 593 kB 4.2 MB/s eta 0:00:01\r\u001b[K     |██████████████████▊             | 604 kB 4.2 MB/s eta 0:00:01\r\u001b[K     |███████████████████             | 614 kB 4.2 MB/s eta 0:00:01\r\u001b[K     |███████████████████▍            | 624 kB 4.2 MB/s eta 0:00:01\r\u001b[K     |███████████████████▊            | 634 kB 4.2 MB/s eta 0:00:01\r\u001b[K     |████████████████████            | 645 kB 4.2 MB/s eta 0:00:01\r\u001b[K     |████████████████████▎           | 655 kB 4.2 MB/s eta 0:00:01\r\u001b[K     |████████████████████▋           | 665 kB 4.2 MB/s eta 0:00:01\r\u001b[K     |█████████████████████           | 675 kB 4.2 MB/s eta 0:00:01\r\u001b[K     |█████████████████████▎          | 686 kB 4.2 MB/s eta 0:00:01\r\u001b[K     |█████████████████████▋          | 696 kB 4.2 MB/s eta 0:00:01\r\u001b[K     |██████████████████████          | 706 kB 4.2 MB/s eta 0:00:01\r\u001b[K     |██████████████████████▎         | 716 kB 4.2 MB/s eta 0:00:01\r\u001b[K     |██████████████████████▋         | 727 kB 4.2 MB/s eta 0:00:01\r\u001b[K     |██████████████████████▉         | 737 kB 4.2 MB/s eta 0:00:01\r\u001b[K     |███████████████████████▏        | 747 kB 4.2 MB/s eta 0:00:01\r\u001b[K     |███████████████████████▌        | 757 kB 4.2 MB/s eta 0:00:01\r\u001b[K     |███████████████████████▉        | 768 kB 4.2 MB/s eta 0:00:01\r\u001b[K     |████████████████████████▏       | 778 kB 4.2 MB/s eta 0:00:01\r\u001b[K     |████████████████████████▌       | 788 kB 4.2 MB/s eta 0:00:01\r\u001b[K     |████████████████████████▉       | 798 kB 4.2 MB/s eta 0:00:01\r\u001b[K     |█████████████████████████       | 808 kB 4.2 MB/s eta 0:00:01\r\u001b[K     |█████████████████████████▍      | 819 kB 4.2 MB/s eta 0:00:01\r\u001b[K     |█████████████████████████▊      | 829 kB 4.2 MB/s eta 0:00:01\r\u001b[K     |██████████████████████████      | 839 kB 4.2 MB/s eta 0:00:01\r\u001b[K     |██████████████████████████▍     | 849 kB 4.2 MB/s eta 0:00:01\r\u001b[K     |██████████████████████████▊     | 860 kB 4.2 MB/s eta 0:00:01\r\u001b[K     |███████████████████████████     | 870 kB 4.2 MB/s eta 0:00:01\r\u001b[K     |███████████████████████████▎    | 880 kB 4.2 MB/s eta 0:00:01\r\u001b[K     |███████████████████████████▋    | 890 kB 4.2 MB/s eta 0:00:01\r\u001b[K     |████████████████████████████    | 901 kB 4.2 MB/s eta 0:00:01\r\u001b[K     |████████████████████████████▎   | 911 kB 4.2 MB/s eta 0:00:01\r\u001b[K     |████████████████████████████▋   | 921 kB 4.2 MB/s eta 0:00:01\r\u001b[K     |█████████████████████████████   | 931 kB 4.2 MB/s eta 0:00:01\r\u001b[K     |█████████████████████████████▎  | 942 kB 4.2 MB/s eta 0:00:01\r\u001b[K     |█████████████████████████████▌  | 952 kB 4.2 MB/s eta 0:00:01\r\u001b[K     |█████████████████████████████▉  | 962 kB 4.2 MB/s eta 0:00:01\r\u001b[K     |██████████████████████████████▏ | 972 kB 4.2 MB/s eta 0:00:01\r\u001b[K     |██████████████████████████████▌ | 983 kB 4.2 MB/s eta 0:00:01\r\u001b[K     |██████████████████████████████▉ | 993 kB 4.2 MB/s eta 0:00:01\r\u001b[K     |███████████████████████████████▏| 1.0 MB 4.2 MB/s eta 0:00:01\r\u001b[K     |███████████████████████████████▌| 1.0 MB 4.2 MB/s eta 0:00:01\r\u001b[K     |███████████████████████████████▊| 1.0 MB 4.2 MB/s eta 0:00:01\r\u001b[K     |████████████████████████████████| 1.0 MB 4.2 MB/s \n",
            "\u001b[?25hRequirement already satisfied: pandas>=0.25.0 in /usr/local/lib/python3.7/dist-packages (from geopandas) (1.3.5)\n",
            "Collecting fiona>=1.8\n",
            "  Downloading Fiona-1.8.21-cp37-cp37m-manylinux2014_x86_64.whl (16.7 MB)\n",
            "\u001b[K     |████████████████████████████████| 16.7 MB 58.0 MB/s \n",
            "\u001b[?25hCollecting pyproj>=2.2.0\n",
            "  Downloading pyproj-3.2.1-cp37-cp37m-manylinux2010_x86_64.whl (6.3 MB)\n",
            "\u001b[K     |████████████████████████████████| 6.3 MB 43.7 MB/s \n",
            "\u001b[?25hRequirement already satisfied: shapely>=1.6 in /usr/local/lib/python3.7/dist-packages (from geopandas) (1.8.1.post1)\n",
            "Collecting cligj>=0.5\n",
            "  Downloading cligj-0.7.2-py3-none-any.whl (7.1 kB)\n",
            "Collecting munch\n",
            "  Downloading munch-2.5.0-py2.py3-none-any.whl (10 kB)\n",
            "Requirement already satisfied: attrs>=17 in /usr/local/lib/python3.7/dist-packages (from fiona>=1.8->geopandas) (21.4.0)\n",
            "Requirement already satisfied: setuptools in /usr/local/lib/python3.7/dist-packages (from fiona>=1.8->geopandas) (57.4.0)\n",
            "Requirement already satisfied: click>=4.0 in /usr/local/lib/python3.7/dist-packages (from fiona>=1.8->geopandas) (7.1.2)\n",
            "Collecting click-plugins>=1.0\n",
            "  Downloading click_plugins-1.1.1-py2.py3-none-any.whl (7.5 kB)\n",
            "Requirement already satisfied: certifi in /usr/local/lib/python3.7/dist-packages (from fiona>=1.8->geopandas) (2021.10.8)\n",
            "Requirement already satisfied: six>=1.7 in /usr/local/lib/python3.7/dist-packages (from fiona>=1.8->geopandas) (1.15.0)\n",
            "Requirement already satisfied: pytz>=2017.3 in /usr/local/lib/python3.7/dist-packages (from pandas>=0.25.0->geopandas) (2022.1)\n",
            "Requirement already satisfied: numpy>=1.17.3 in /usr/local/lib/python3.7/dist-packages (from pandas>=0.25.0->geopandas) (1.21.6)\n",
            "Requirement already satisfied: python-dateutil>=2.7.3 in /usr/local/lib/python3.7/dist-packages (from pandas>=0.25.0->geopandas) (2.8.2)\n",
            "Installing collected packages: munch, cligj, click-plugins, pyproj, fiona, geopandas\n",
            "Successfully installed click-plugins-1.1.1 cligj-0.7.2 fiona-1.8.21 geopandas-0.10.2 munch-2.5.0 pyproj-3.2.1\n",
            "Requirement already satisfied: folium in /usr/local/lib/python3.7/dist-packages (0.8.3)\n",
            "Requirement already satisfied: requests in /usr/local/lib/python3.7/dist-packages (from folium) (2.23.0)\n",
            "Requirement already satisfied: jinja2 in /usr/local/lib/python3.7/dist-packages (from folium) (2.11.3)\n",
            "Requirement already satisfied: numpy in /usr/local/lib/python3.7/dist-packages (from folium) (1.21.6)\n",
            "Requirement already satisfied: six in /usr/local/lib/python3.7/dist-packages (from folium) (1.15.0)\n",
            "Requirement already satisfied: branca>=0.3.0 in /usr/local/lib/python3.7/dist-packages (from folium) (0.5.0)\n",
            "Requirement already satisfied: MarkupSafe>=0.23 in /usr/local/lib/python3.7/dist-packages (from jinja2->folium) (2.0.1)\n",
            "Requirement already satisfied: urllib3!=1.25.0,!=1.25.1,<1.26,>=1.21.1 in /usr/local/lib/python3.7/dist-packages (from requests->folium) (1.24.3)\n",
            "Requirement already satisfied: certifi>=2017.4.17 in /usr/local/lib/python3.7/dist-packages (from requests->folium) (2021.10.8)\n",
            "Requirement already satisfied: idna<3,>=2.5 in /usr/local/lib/python3.7/dist-packages (from requests->folium) (2.10)\n",
            "Requirement already satisfied: chardet<4,>=3.0.2 in /usr/local/lib/python3.7/dist-packages (from requests->folium) (3.0.4)\n",
            "Collecting rtree\n",
            "  Downloading Rtree-1.0.0-cp37-cp37m-manylinux_2_17_x86_64.manylinux2014_x86_64.whl (1.0 MB)\n",
            "\u001b[K     |████████████████████████████████| 1.0 MB 4.1 MB/s \n",
            "\u001b[?25hRequirement already satisfied: typing-extensions>=3.7 in /usr/local/lib/python3.7/dist-packages (from rtree) (4.2.0)\n",
            "Installing collected packages: rtree\n",
            "Successfully installed rtree-1.0.0\n",
            "Collecting rasterio\n",
            "  Downloading rasterio-1.2.10-cp37-cp37m-manylinux1_x86_64.whl (19.3 MB)\n",
            "\u001b[K     |████████████████████████████████| 19.3 MB 1.3 MB/s \n",
            "\u001b[?25hRequirement already satisfied: certifi in /usr/local/lib/python3.7/dist-packages (from rasterio) (2021.10.8)\n",
            "Requirement already satisfied: click>=4.0 in /usr/local/lib/python3.7/dist-packages (from rasterio) (7.1.2)\n",
            "Collecting affine\n",
            "  Downloading affine-2.3.1-py2.py3-none-any.whl (16 kB)\n",
            "Requirement already satisfied: numpy in /usr/local/lib/python3.7/dist-packages (from rasterio) (1.21.6)\n",
            "Collecting snuggs>=1.4.1\n",
            "  Downloading snuggs-1.4.7-py3-none-any.whl (5.4 kB)\n",
            "Requirement already satisfied: attrs in /usr/local/lib/python3.7/dist-packages (from rasterio) (21.4.0)\n",
            "Requirement already satisfied: click-plugins in /usr/local/lib/python3.7/dist-packages (from rasterio) (1.1.1)\n",
            "Requirement already satisfied: setuptools in /usr/local/lib/python3.7/dist-packages (from rasterio) (57.4.0)\n",
            "Requirement already satisfied: cligj>=0.5 in /usr/local/lib/python3.7/dist-packages (from rasterio) (0.7.2)\n",
            "Requirement already satisfied: pyparsing>=2.1.6 in /usr/local/lib/python3.7/dist-packages (from snuggs>=1.4.1->rasterio) (3.0.8)\n",
            "Installing collected packages: snuggs, affine, rasterio\n",
            "Successfully installed affine-2.3.1 rasterio-1.2.10 snuggs-1.4.7\n"
          ]
        }
      ],
      "source": [
        "!pip install geopandas\n",
        "!pip install folium\n",
        "!pip install rtree\n",
        "!pip install rasterio"
      ]
    },
    {
      "cell_type": "code",
      "source": [
        "from google.colab import drive\n",
        "drive.mount('/content/drive/')"
      ],
      "metadata": {
        "colab": {
          "base_uri": "https://localhost:8080/"
        },
        "id": "DDQYk2tuHBzV",
        "outputId": "56379ecf-8556-4201-d7b6-799e092f7cb6"
      },
      "execution_count": null,
      "outputs": [
        {
          "output_type": "stream",
          "name": "stdout",
          "text": [
            "Mounted at /content/drive/\n"
          ]
        }
      ]
    },
    {
      "cell_type": "markdown",
      "source": [
        "##helper functions\n"
      ],
      "metadata": {
        "id": "JCyt-CvSHSz-"
      }
    },
    {
      "cell_type": "code",
      "source": [
        "from osgeo import osr, gdal\n",
        "import numpy as np\n",
        "from gdalconst import *\n",
        "from shapely.geometry import Polygon, Point\n",
        "import geopandas as gpd\n",
        "import folium\n",
        "import os\n",
        "import rtree\n",
        "from tqdm import tqdm\n",
        "# import pygeos\n",
        "\n",
        "\n",
        "def make_polygon_list(path, resume=None):\n",
        "    \"\"\"\n",
        "    Creates GeoDataFrame, checks the tif files in a desired dir\n",
        "    and adds their geometries (with respective file name) as row\n",
        "    to GeoDataFrame\n",
        "\n",
        "    Parameters\n",
        "    -----------\n",
        "\n",
        "    path : (str)\n",
        "        directory with tif files\n",
        "\n",
        "    resume : (gpd.GeoDataFrame or None)\n",
        "        if None: initializes new GeoDataFrame\n",
        "        else: appends to given one\n",
        "\n",
        "    Returns\n",
        "    ----------\n",
        "    coverage : gpd.GeoDataFrame\n",
        "        df with geometries of tif files\n",
        "\n",
        "    \"\"\"\n",
        "\n",
        "    tif_files = []\n",
        "\n",
        "    # iterate over all .tif files in desired dir\n",
        "    for filename in os.listdir(path):\n",
        "        if filename.endswith(\".tif\"):\n",
        "            tif_files.append(os.path.join(path, filename))\n",
        "\n",
        "    tif_files = [os.path.join(path, tif_file) for tif_file in tif_files]\n",
        "\n",
        "    # add data to existing dataframe if desired\n",
        "    if resume is None:\n",
        "        coverage = gpd.GeoDataFrame({\"filename\": [], \"geometry\": []}).set_crs(epsg=4326)\n",
        "    else:\n",
        "        coverage = resume.set_crs(epsg=4326)\n",
        "\n",
        "    # extract geometries of .tif files and add to geodataframe\n",
        "    for file in tqdm(tif_files):\n",
        "        info = gdal.Info(file, format=\"json\")\n",
        "        corners = info[\"cornerCoordinates\"]\n",
        "        poly = Polygon((\n",
        "                    corners[\"upperLeft\"],\n",
        "                    corners[\"upperRight\"],\n",
        "                    corners[\"lowerRight\"],\n",
        "                    corners[\"lowerLeft\"]\n",
        "                        ))\n",
        "        coverage = coverage.append({\"filename\": file, \"geometry\": poly}, ignore_index=True)\n",
        "\n",
        "    return coverage\n"
      ],
      "metadata": {
        "id": "kIWZriGnHdrJ"
      },
      "execution_count": null,
      "outputs": []
    },
    {
      "cell_type": "markdown",
      "source": [
        "#explore GH coverage"
      ],
      "metadata": {
        "id": "UxlHoHguHx8B"
      }
    },
    {
      "cell_type": "code",
      "source": [
        "base = '/content/drive/MyDrive/PyPSA_Africa_images/maxar'\n",
        "path_GH = os.path.join(base, 'ghana/raw')\n",
        "coverage=None\n",
        "coverage = make_polygon_list(path_GH)"
      ],
      "metadata": {
        "colab": {
          "base_uri": "https://localhost:8080/"
        },
        "id": "z7ScgkWHH0Ax",
        "outputId": "e3c1900a-dd96-449c-8f88-8262f84b42a1"
      },
      "execution_count": null,
      "outputs": [
        {
          "output_type": "stream",
          "name": "stderr",
          "text": [
            "100%|██████████| 52/52 [00:51<00:00,  1.01it/s]\n"
          ]
        }
      ]
    },
    {
      "cell_type": "code",
      "source": [
        "map_start = coverage.dissolve().centroid\n",
        "map_start"
      ],
      "metadata": {
        "colab": {
          "base_uri": "https://localhost:8080/"
        },
        "id": "vvK-5Jr5Iik-",
        "outputId": "66963e75-7507-441e-a4f0-e6cb7d3ee90a"
      },
      "execution_count": null,
      "outputs": [
        {
          "output_type": "stream",
          "name": "stderr",
          "text": [
            "/usr/local/lib/python3.7/dist-packages/ipykernel_launcher.py:1: UserWarning: Geometry is in a geographic CRS. Results from 'centroid' are likely incorrect. Use 'GeoSeries.to_crs()' to re-project geometries to a projected CRS before this operation.\n",
            "\n",
            "  \"\"\"Entry point for launching an IPython kernel.\n"
          ]
        },
        {
          "output_type": "execute_result",
          "data": {
            "text/plain": [
              "0    POINT (-1.87253 9.45276)\n",
              "dtype: geometry"
            ]
          },
          "metadata": {},
          "execution_count": 6
        }
      ]
    },
    {
      "cell_type": "code",
      "source": [
        "import folium\n",
        "\n",
        "fn = 'gh_tif_coverage.geojson'\n",
        "coverage.to_file(fn, driver='GeoJSON')\n",
        "\n",
        "m = folium.Map(\n",
        "    location=[-1.87, 9.45],\n",
        "    tiles=\"cartodbpositron\",\n",
        "    zoom_start=5,\n",
        ")\n",
        "\n",
        "folium.GeoJson(fn, name=\"geojson\").add_to(m)\n",
        "\n",
        "m"
      ],
      "metadata": {
        "id": "cmgMsHE_JGGo"
      },
      "execution_count": null,
      "outputs": []
    },
    {
      "cell_type": "code",
      "source": [
        "towers_GH = os.path.join(base, \"ghana/raw/GH_raw_towers.geojson\")\n",
        "towers_GH = gpd.read_file(towers_GH)"
      ],
      "metadata": {
        "id": "CRT2YN3mJqCv"
      },
      "execution_count": null,
      "outputs": []
    },
    {
      "cell_type": "code",
      "source": [
        "hits_GH = gpd.sjoin(towers_GH, coverage, how=\"inner\").set_crs(epsg=4326)\n",
        "print(len(hits_GH))\n",
        "\n",
        "hits_GH = hits_GH.drop([\"index_right\"], axis=1)"
      ],
      "metadata": {
        "colab": {
          "base_uri": "https://localhost:8080/"
        },
        "id": "BbyUgj1nJtld",
        "outputId": "b194281c-12b4-4169-a9fb-96802a8977cb"
      },
      "execution_count": null,
      "outputs": [
        {
          "output_type": "stream",
          "name": "stdout",
          "text": [
            "4547\n"
          ]
        }
      ]
    },
    {
      "cell_type": "code",
      "source": [
        "hits_GH"
      ],
      "metadata": {
        "colab": {
          "base_uri": "https://localhost:8080/",
          "height": 424
        },
        "id": "cHBSKfdxgKun",
        "outputId": "251dc7a8-7c63-4809-d8e7-bff76bab91f0"
      },
      "execution_count": null,
      "outputs": [
        {
          "output_type": "execute_result",
          "data": {
            "text/plain": [
              "                 id tags.power tags.material tags.height tags.structure  \\\n",
              "3      3.063970e+09      tower          None        None           None   \n",
              "4      3.063970e+09      tower          None        None           None   \n",
              "157    6.299637e+09      tower          None        None           None   \n",
              "237    3.063969e+09      tower          None        None           None   \n",
              "405    3.063969e+09      tower          None        None           None   \n",
              "...             ...        ...           ...         ...            ...   \n",
              "11342  2.622444e+09      tower          None        None           None   \n",
              "11397  2.622444e+09      tower          None        None           None   \n",
              "11449  2.622276e+09      tower          None        None           None   \n",
              "1578   2.622444e+09      tower          None        None           None   \n",
              "4724   2.622444e+09      tower          None        None           None   \n",
              "\n",
              "      tags.line_management  Type Country                  geometry  \\\n",
              "3                     None  Node      GH  POINT (-2.34855 8.85587)   \n",
              "4                     None  Node      GH  POINT (-2.41069 8.92856)   \n",
              "157                   None  Node      GH  POINT (-2.30691 8.69095)   \n",
              "237                   None  Node      GH  POINT (-2.33556 8.81249)   \n",
              "405                   None  Node      GH  POINT (-2.32309 8.75970)   \n",
              "...                    ...   ...     ...                       ...   \n",
              "11342                 None  Node      GH  POINT (-1.27925 9.11115)   \n",
              "11397                 None  Node      GH  POINT (-1.33825 9.01048)   \n",
              "11449                 None  Node      GH  POINT (-1.30005 9.07561)   \n",
              "1578                  None  Node      GH  POINT (-1.32736 9.02910)   \n",
              "4724                  None  Node      GH  POINT (-1.32917 9.02600)   \n",
              "\n",
              "                                                filename  \n",
              "3      /content/drive/MyDrive/PyPSA_Africa_images/max...  \n",
              "4      /content/drive/MyDrive/PyPSA_Africa_images/max...  \n",
              "157    /content/drive/MyDrive/PyPSA_Africa_images/max...  \n",
              "237    /content/drive/MyDrive/PyPSA_Africa_images/max...  \n",
              "405    /content/drive/MyDrive/PyPSA_Africa_images/max...  \n",
              "...                                                  ...  \n",
              "11342  /content/drive/MyDrive/PyPSA_Africa_images/max...  \n",
              "11397  /content/drive/MyDrive/PyPSA_Africa_images/max...  \n",
              "11449  /content/drive/MyDrive/PyPSA_Africa_images/max...  \n",
              "1578   /content/drive/MyDrive/PyPSA_Africa_images/max...  \n",
              "4724   /content/drive/MyDrive/PyPSA_Africa_images/max...  \n",
              "\n",
              "[4547 rows x 10 columns]"
            ],
            "text/html": [
              "\n",
              "  <div id=\"df-1bccb550-112f-460c-b8fc-16f521e6b8de\">\n",
              "    <div class=\"colab-df-container\">\n",
              "      <div>\n",
              "<style scoped>\n",
              "    .dataframe tbody tr th:only-of-type {\n",
              "        vertical-align: middle;\n",
              "    }\n",
              "\n",
              "    .dataframe tbody tr th {\n",
              "        vertical-align: top;\n",
              "    }\n",
              "\n",
              "    .dataframe thead th {\n",
              "        text-align: right;\n",
              "    }\n",
              "</style>\n",
              "<table border=\"1\" class=\"dataframe\">\n",
              "  <thead>\n",
              "    <tr style=\"text-align: right;\">\n",
              "      <th></th>\n",
              "      <th>id</th>\n",
              "      <th>tags.power</th>\n",
              "      <th>tags.material</th>\n",
              "      <th>tags.height</th>\n",
              "      <th>tags.structure</th>\n",
              "      <th>tags.line_management</th>\n",
              "      <th>Type</th>\n",
              "      <th>Country</th>\n",
              "      <th>geometry</th>\n",
              "      <th>filename</th>\n",
              "    </tr>\n",
              "  </thead>\n",
              "  <tbody>\n",
              "    <tr>\n",
              "      <th>3</th>\n",
              "      <td>3.063970e+09</td>\n",
              "      <td>tower</td>\n",
              "      <td>None</td>\n",
              "      <td>None</td>\n",
              "      <td>None</td>\n",
              "      <td>None</td>\n",
              "      <td>Node</td>\n",
              "      <td>GH</td>\n",
              "      <td>POINT (-2.34855 8.85587)</td>\n",
              "      <td>/content/drive/MyDrive/PyPSA_Africa_images/max...</td>\n",
              "    </tr>\n",
              "    <tr>\n",
              "      <th>4</th>\n",
              "      <td>3.063970e+09</td>\n",
              "      <td>tower</td>\n",
              "      <td>None</td>\n",
              "      <td>None</td>\n",
              "      <td>None</td>\n",
              "      <td>None</td>\n",
              "      <td>Node</td>\n",
              "      <td>GH</td>\n",
              "      <td>POINT (-2.41069 8.92856)</td>\n",
              "      <td>/content/drive/MyDrive/PyPSA_Africa_images/max...</td>\n",
              "    </tr>\n",
              "    <tr>\n",
              "      <th>157</th>\n",
              "      <td>6.299637e+09</td>\n",
              "      <td>tower</td>\n",
              "      <td>None</td>\n",
              "      <td>None</td>\n",
              "      <td>None</td>\n",
              "      <td>None</td>\n",
              "      <td>Node</td>\n",
              "      <td>GH</td>\n",
              "      <td>POINT (-2.30691 8.69095)</td>\n",
              "      <td>/content/drive/MyDrive/PyPSA_Africa_images/max...</td>\n",
              "    </tr>\n",
              "    <tr>\n",
              "      <th>237</th>\n",
              "      <td>3.063969e+09</td>\n",
              "      <td>tower</td>\n",
              "      <td>None</td>\n",
              "      <td>None</td>\n",
              "      <td>None</td>\n",
              "      <td>None</td>\n",
              "      <td>Node</td>\n",
              "      <td>GH</td>\n",
              "      <td>POINT (-2.33556 8.81249)</td>\n",
              "      <td>/content/drive/MyDrive/PyPSA_Africa_images/max...</td>\n",
              "    </tr>\n",
              "    <tr>\n",
              "      <th>405</th>\n",
              "      <td>3.063969e+09</td>\n",
              "      <td>tower</td>\n",
              "      <td>None</td>\n",
              "      <td>None</td>\n",
              "      <td>None</td>\n",
              "      <td>None</td>\n",
              "      <td>Node</td>\n",
              "      <td>GH</td>\n",
              "      <td>POINT (-2.32309 8.75970)</td>\n",
              "      <td>/content/drive/MyDrive/PyPSA_Africa_images/max...</td>\n",
              "    </tr>\n",
              "    <tr>\n",
              "      <th>...</th>\n",
              "      <td>...</td>\n",
              "      <td>...</td>\n",
              "      <td>...</td>\n",
              "      <td>...</td>\n",
              "      <td>...</td>\n",
              "      <td>...</td>\n",
              "      <td>...</td>\n",
              "      <td>...</td>\n",
              "      <td>...</td>\n",
              "      <td>...</td>\n",
              "    </tr>\n",
              "    <tr>\n",
              "      <th>11342</th>\n",
              "      <td>2.622444e+09</td>\n",
              "      <td>tower</td>\n",
              "      <td>None</td>\n",
              "      <td>None</td>\n",
              "      <td>None</td>\n",
              "      <td>None</td>\n",
              "      <td>Node</td>\n",
              "      <td>GH</td>\n",
              "      <td>POINT (-1.27925 9.11115)</td>\n",
              "      <td>/content/drive/MyDrive/PyPSA_Africa_images/max...</td>\n",
              "    </tr>\n",
              "    <tr>\n",
              "      <th>11397</th>\n",
              "      <td>2.622444e+09</td>\n",
              "      <td>tower</td>\n",
              "      <td>None</td>\n",
              "      <td>None</td>\n",
              "      <td>None</td>\n",
              "      <td>None</td>\n",
              "      <td>Node</td>\n",
              "      <td>GH</td>\n",
              "      <td>POINT (-1.33825 9.01048)</td>\n",
              "      <td>/content/drive/MyDrive/PyPSA_Africa_images/max...</td>\n",
              "    </tr>\n",
              "    <tr>\n",
              "      <th>11449</th>\n",
              "      <td>2.622276e+09</td>\n",
              "      <td>tower</td>\n",
              "      <td>None</td>\n",
              "      <td>None</td>\n",
              "      <td>None</td>\n",
              "      <td>None</td>\n",
              "      <td>Node</td>\n",
              "      <td>GH</td>\n",
              "      <td>POINT (-1.30005 9.07561)</td>\n",
              "      <td>/content/drive/MyDrive/PyPSA_Africa_images/max...</td>\n",
              "    </tr>\n",
              "    <tr>\n",
              "      <th>1578</th>\n",
              "      <td>2.622444e+09</td>\n",
              "      <td>tower</td>\n",
              "      <td>None</td>\n",
              "      <td>None</td>\n",
              "      <td>None</td>\n",
              "      <td>None</td>\n",
              "      <td>Node</td>\n",
              "      <td>GH</td>\n",
              "      <td>POINT (-1.32736 9.02910)</td>\n",
              "      <td>/content/drive/MyDrive/PyPSA_Africa_images/max...</td>\n",
              "    </tr>\n",
              "    <tr>\n",
              "      <th>4724</th>\n",
              "      <td>2.622444e+09</td>\n",
              "      <td>tower</td>\n",
              "      <td>None</td>\n",
              "      <td>None</td>\n",
              "      <td>None</td>\n",
              "      <td>None</td>\n",
              "      <td>Node</td>\n",
              "      <td>GH</td>\n",
              "      <td>POINT (-1.32917 9.02600)</td>\n",
              "      <td>/content/drive/MyDrive/PyPSA_Africa_images/max...</td>\n",
              "    </tr>\n",
              "  </tbody>\n",
              "</table>\n",
              "<p>4547 rows × 10 columns</p>\n",
              "</div>\n",
              "      <button class=\"colab-df-convert\" onclick=\"convertToInteractive('df-1bccb550-112f-460c-b8fc-16f521e6b8de')\"\n",
              "              title=\"Convert this dataframe to an interactive table.\"\n",
              "              style=\"display:none;\">\n",
              "        \n",
              "  <svg xmlns=\"http://www.w3.org/2000/svg\" height=\"24px\"viewBox=\"0 0 24 24\"\n",
              "       width=\"24px\">\n",
              "    <path d=\"M0 0h24v24H0V0z\" fill=\"none\"/>\n",
              "    <path d=\"M18.56 5.44l.94 2.06.94-2.06 2.06-.94-2.06-.94-.94-2.06-.94 2.06-2.06.94zm-11 1L8.5 8.5l.94-2.06 2.06-.94-2.06-.94L8.5 2.5l-.94 2.06-2.06.94zm10 10l.94 2.06.94-2.06 2.06-.94-2.06-.94-.94-2.06-.94 2.06-2.06.94z\"/><path d=\"M17.41 7.96l-1.37-1.37c-.4-.4-.92-.59-1.43-.59-.52 0-1.04.2-1.43.59L10.3 9.45l-7.72 7.72c-.78.78-.78 2.05 0 2.83L4 21.41c.39.39.9.59 1.41.59.51 0 1.02-.2 1.41-.59l7.78-7.78 2.81-2.81c.8-.78.8-2.07 0-2.86zM5.41 20L4 18.59l7.72-7.72 1.47 1.35L5.41 20z\"/>\n",
              "  </svg>\n",
              "      </button>\n",
              "      \n",
              "  <style>\n",
              "    .colab-df-container {\n",
              "      display:flex;\n",
              "      flex-wrap:wrap;\n",
              "      gap: 12px;\n",
              "    }\n",
              "\n",
              "    .colab-df-convert {\n",
              "      background-color: #E8F0FE;\n",
              "      border: none;\n",
              "      border-radius: 50%;\n",
              "      cursor: pointer;\n",
              "      display: none;\n",
              "      fill: #1967D2;\n",
              "      height: 32px;\n",
              "      padding: 0 0 0 0;\n",
              "      width: 32px;\n",
              "    }\n",
              "\n",
              "    .colab-df-convert:hover {\n",
              "      background-color: #E2EBFA;\n",
              "      box-shadow: 0px 1px 2px rgba(60, 64, 67, 0.3), 0px 1px 3px 1px rgba(60, 64, 67, 0.15);\n",
              "      fill: #174EA6;\n",
              "    }\n",
              "\n",
              "    [theme=dark] .colab-df-convert {\n",
              "      background-color: #3B4455;\n",
              "      fill: #D2E3FC;\n",
              "    }\n",
              "\n",
              "    [theme=dark] .colab-df-convert:hover {\n",
              "      background-color: #434B5C;\n",
              "      box-shadow: 0px 1px 3px 1px rgba(0, 0, 0, 0.15);\n",
              "      filter: drop-shadow(0px 1px 2px rgba(0, 0, 0, 0.3));\n",
              "      fill: #FFFFFF;\n",
              "    }\n",
              "  </style>\n",
              "\n",
              "      <script>\n",
              "        const buttonEl =\n",
              "          document.querySelector('#df-1bccb550-112f-460c-b8fc-16f521e6b8de button.colab-df-convert');\n",
              "        buttonEl.style.display =\n",
              "          google.colab.kernel.accessAllowed ? 'block' : 'none';\n",
              "\n",
              "        async function convertToInteractive(key) {\n",
              "          const element = document.querySelector('#df-1bccb550-112f-460c-b8fc-16f521e6b8de');\n",
              "          const dataTable =\n",
              "            await google.colab.kernel.invokeFunction('convertToInteractive',\n",
              "                                                     [key], {});\n",
              "          if (!dataTable) return;\n",
              "\n",
              "          const docLinkHtml = 'Like what you see? Visit the ' +\n",
              "            '<a target=\"_blank\" href=https://colab.research.google.com/notebooks/data_table.ipynb>data table notebook</a>'\n",
              "            + ' to learn more about interactive tables.';\n",
              "          element.innerHTML = '';\n",
              "          dataTable['output_type'] = 'display_data';\n",
              "          await google.colab.output.renderOutput(dataTable, element);\n",
              "          const docLink = document.createElement('div');\n",
              "          docLink.innerHTML = docLinkHtml;\n",
              "          element.appendChild(docLink);\n",
              "        }\n",
              "      </script>\n",
              "    </div>\n",
              "  </div>\n",
              "  "
            ]
          },
          "metadata": {},
          "execution_count": 38
        }
      ]
    },
    {
      "cell_type": "code",
      "source": [
        "hits_GH.filename.unique()\n",
        "max_imgs = 0\n",
        "max_tif = None\n",
        "for tif in hits_GH.filename.unique():\n",
        "    # print(tif)\n",
        "    curr = hits_GH.loc[hits_GH['filename'] == tif]\n",
        "    # print(curr)\n",
        "    if len(curr) > max_imgs:\n",
        "        max_imgs = len(curr)\n",
        "        max_tif = tif\n",
        "\n",
        "print('max images')\n",
        "print(max_imgs)\n",
        "print('file')\n",
        "print(max_tif)"
      ],
      "metadata": {
        "colab": {
          "base_uri": "https://localhost:8080/"
        },
        "id": "ZJQRRVX7KIC1",
        "outputId": "8beae483-5907-4370-e2b0-9ca2c1b368f6"
      },
      "execution_count": null,
      "outputs": [
        {
          "output_type": "stream",
          "name": "stdout",
          "text": [
            "max images\n",
            "380\n",
            "file\n",
            "/content/drive/MyDrive/PyPSA_Africa_images/maxar/ghana/raw/10500100103B0300.tif\n"
          ]
        }
      ]
    },
    {
      "cell_type": "code",
      "source": [
        "targets_df = hits_GH.loc[hits_GH['filename'] == max_tif]\n",
        "targets_df.head()"
      ],
      "metadata": {
        "colab": {
          "base_uri": "https://localhost:8080/",
          "height": 206
        },
        "id": "uO6woFqTKjMa",
        "outputId": "fcc070cf-d64d-481d-9d5e-ab764ccab162"
      },
      "execution_count": null,
      "outputs": [
        {
          "output_type": "execute_result",
          "data": {
            "text/plain": [
              "               id tags.power tags.material tags.height tags.structure  \\\n",
              "18   6.299636e+09      tower          None        None           None   \n",
              "26   3.063969e+09      tower          None        None           None   \n",
              "82   3.063969e+09      tower          None        None           None   \n",
              "108  3.063969e+09      tower          None        None           None   \n",
              "294  6.299915e+09      tower          None        None           None   \n",
              "\n",
              "    tags.line_management  Type Country                  geometry  \\\n",
              "18                  None  Node      GH  POINT (-2.14599 8.44320)   \n",
              "26                  None  Node      GH  POINT (-2.14358 8.43817)   \n",
              "82                  None  Node      GH  POINT (-2.06821 8.20735)   \n",
              "108                 None  Node      GH  POINT (-2.13402 8.23473)   \n",
              "294                 None  Node      GH  POINT (-2.05582 8.20089)   \n",
              "\n",
              "                                              filename  \n",
              "18   /content/drive/MyDrive/PyPSA_Africa_images/max...  \n",
              "26   /content/drive/MyDrive/PyPSA_Africa_images/max...  \n",
              "82   /content/drive/MyDrive/PyPSA_Africa_images/max...  \n",
              "108  /content/drive/MyDrive/PyPSA_Africa_images/max...  \n",
              "294  /content/drive/MyDrive/PyPSA_Africa_images/max...  "
            ],
            "text/html": [
              "\n",
              "  <div id=\"df-16adcb1d-9bb1-44b5-bb5b-293b72036345\">\n",
              "    <div class=\"colab-df-container\">\n",
              "      <div>\n",
              "<style scoped>\n",
              "    .dataframe tbody tr th:only-of-type {\n",
              "        vertical-align: middle;\n",
              "    }\n",
              "\n",
              "    .dataframe tbody tr th {\n",
              "        vertical-align: top;\n",
              "    }\n",
              "\n",
              "    .dataframe thead th {\n",
              "        text-align: right;\n",
              "    }\n",
              "</style>\n",
              "<table border=\"1\" class=\"dataframe\">\n",
              "  <thead>\n",
              "    <tr style=\"text-align: right;\">\n",
              "      <th></th>\n",
              "      <th>id</th>\n",
              "      <th>tags.power</th>\n",
              "      <th>tags.material</th>\n",
              "      <th>tags.height</th>\n",
              "      <th>tags.structure</th>\n",
              "      <th>tags.line_management</th>\n",
              "      <th>Type</th>\n",
              "      <th>Country</th>\n",
              "      <th>geometry</th>\n",
              "      <th>filename</th>\n",
              "    </tr>\n",
              "  </thead>\n",
              "  <tbody>\n",
              "    <tr>\n",
              "      <th>18</th>\n",
              "      <td>6.299636e+09</td>\n",
              "      <td>tower</td>\n",
              "      <td>None</td>\n",
              "      <td>None</td>\n",
              "      <td>None</td>\n",
              "      <td>None</td>\n",
              "      <td>Node</td>\n",
              "      <td>GH</td>\n",
              "      <td>POINT (-2.14599 8.44320)</td>\n",
              "      <td>/content/drive/MyDrive/PyPSA_Africa_images/max...</td>\n",
              "    </tr>\n",
              "    <tr>\n",
              "      <th>26</th>\n",
              "      <td>3.063969e+09</td>\n",
              "      <td>tower</td>\n",
              "      <td>None</td>\n",
              "      <td>None</td>\n",
              "      <td>None</td>\n",
              "      <td>None</td>\n",
              "      <td>Node</td>\n",
              "      <td>GH</td>\n",
              "      <td>POINT (-2.14358 8.43817)</td>\n",
              "      <td>/content/drive/MyDrive/PyPSA_Africa_images/max...</td>\n",
              "    </tr>\n",
              "    <tr>\n",
              "      <th>82</th>\n",
              "      <td>3.063969e+09</td>\n",
              "      <td>tower</td>\n",
              "      <td>None</td>\n",
              "      <td>None</td>\n",
              "      <td>None</td>\n",
              "      <td>None</td>\n",
              "      <td>Node</td>\n",
              "      <td>GH</td>\n",
              "      <td>POINT (-2.06821 8.20735)</td>\n",
              "      <td>/content/drive/MyDrive/PyPSA_Africa_images/max...</td>\n",
              "    </tr>\n",
              "    <tr>\n",
              "      <th>108</th>\n",
              "      <td>3.063969e+09</td>\n",
              "      <td>tower</td>\n",
              "      <td>None</td>\n",
              "      <td>None</td>\n",
              "      <td>None</td>\n",
              "      <td>None</td>\n",
              "      <td>Node</td>\n",
              "      <td>GH</td>\n",
              "      <td>POINT (-2.13402 8.23473)</td>\n",
              "      <td>/content/drive/MyDrive/PyPSA_Africa_images/max...</td>\n",
              "    </tr>\n",
              "    <tr>\n",
              "      <th>294</th>\n",
              "      <td>6.299915e+09</td>\n",
              "      <td>tower</td>\n",
              "      <td>None</td>\n",
              "      <td>None</td>\n",
              "      <td>None</td>\n",
              "      <td>None</td>\n",
              "      <td>Node</td>\n",
              "      <td>GH</td>\n",
              "      <td>POINT (-2.05582 8.20089)</td>\n",
              "      <td>/content/drive/MyDrive/PyPSA_Africa_images/max...</td>\n",
              "    </tr>\n",
              "  </tbody>\n",
              "</table>\n",
              "</div>\n",
              "      <button class=\"colab-df-convert\" onclick=\"convertToInteractive('df-16adcb1d-9bb1-44b5-bb5b-293b72036345')\"\n",
              "              title=\"Convert this dataframe to an interactive table.\"\n",
              "              style=\"display:none;\">\n",
              "        \n",
              "  <svg xmlns=\"http://www.w3.org/2000/svg\" height=\"24px\"viewBox=\"0 0 24 24\"\n",
              "       width=\"24px\">\n",
              "    <path d=\"M0 0h24v24H0V0z\" fill=\"none\"/>\n",
              "    <path d=\"M18.56 5.44l.94 2.06.94-2.06 2.06-.94-2.06-.94-.94-2.06-.94 2.06-2.06.94zm-11 1L8.5 8.5l.94-2.06 2.06-.94-2.06-.94L8.5 2.5l-.94 2.06-2.06.94zm10 10l.94 2.06.94-2.06 2.06-.94-2.06-.94-.94-2.06-.94 2.06-2.06.94z\"/><path d=\"M17.41 7.96l-1.37-1.37c-.4-.4-.92-.59-1.43-.59-.52 0-1.04.2-1.43.59L10.3 9.45l-7.72 7.72c-.78.78-.78 2.05 0 2.83L4 21.41c.39.39.9.59 1.41.59.51 0 1.02-.2 1.41-.59l7.78-7.78 2.81-2.81c.8-.78.8-2.07 0-2.86zM5.41 20L4 18.59l7.72-7.72 1.47 1.35L5.41 20z\"/>\n",
              "  </svg>\n",
              "      </button>\n",
              "      \n",
              "  <style>\n",
              "    .colab-df-container {\n",
              "      display:flex;\n",
              "      flex-wrap:wrap;\n",
              "      gap: 12px;\n",
              "    }\n",
              "\n",
              "    .colab-df-convert {\n",
              "      background-color: #E8F0FE;\n",
              "      border: none;\n",
              "      border-radius: 50%;\n",
              "      cursor: pointer;\n",
              "      display: none;\n",
              "      fill: #1967D2;\n",
              "      height: 32px;\n",
              "      padding: 0 0 0 0;\n",
              "      width: 32px;\n",
              "    }\n",
              "\n",
              "    .colab-df-convert:hover {\n",
              "      background-color: #E2EBFA;\n",
              "      box-shadow: 0px 1px 2px rgba(60, 64, 67, 0.3), 0px 1px 3px 1px rgba(60, 64, 67, 0.15);\n",
              "      fill: #174EA6;\n",
              "    }\n",
              "\n",
              "    [theme=dark] .colab-df-convert {\n",
              "      background-color: #3B4455;\n",
              "      fill: #D2E3FC;\n",
              "    }\n",
              "\n",
              "    [theme=dark] .colab-df-convert:hover {\n",
              "      background-color: #434B5C;\n",
              "      box-shadow: 0px 1px 3px 1px rgba(0, 0, 0, 0.15);\n",
              "      filter: drop-shadow(0px 1px 2px rgba(0, 0, 0, 0.3));\n",
              "      fill: #FFFFFF;\n",
              "    }\n",
              "  </style>\n",
              "\n",
              "      <script>\n",
              "        const buttonEl =\n",
              "          document.querySelector('#df-16adcb1d-9bb1-44b5-bb5b-293b72036345 button.colab-df-convert');\n",
              "        buttonEl.style.display =\n",
              "          google.colab.kernel.accessAllowed ? 'block' : 'none';\n",
              "\n",
              "        async function convertToInteractive(key) {\n",
              "          const element = document.querySelector('#df-16adcb1d-9bb1-44b5-bb5b-293b72036345');\n",
              "          const dataTable =\n",
              "            await google.colab.kernel.invokeFunction('convertToInteractive',\n",
              "                                                     [key], {});\n",
              "          if (!dataTable) return;\n",
              "\n",
              "          const docLinkHtml = 'Like what you see? Visit the ' +\n",
              "            '<a target=\"_blank\" href=https://colab.research.google.com/notebooks/data_table.ipynb>data table notebook</a>'\n",
              "            + ' to learn more about interactive tables.';\n",
              "          element.innerHTML = '';\n",
              "          dataTable['output_type'] = 'display_data';\n",
              "          await google.colab.output.renderOutput(dataTable, element);\n",
              "          const docLink = document.createElement('div');\n",
              "          docLink.innerHTML = docLinkHtml;\n",
              "          element.appendChild(docLink);\n",
              "        }\n",
              "      </script>\n",
              "    </div>\n",
              "  </div>\n",
              "  "
            ]
          },
          "metadata": {},
          "execution_count": 11
        }
      ]
    },
    {
      "cell_type": "code",
      "source": [
        "import matplotlib.pyplot as plt\n",
        "_, ax = plt.subplots(1, 1, figsize=(16, 9))\n",
        "targets_df.plot(ax=ax)\n",
        "coverage.plot(ax=ax, alpha=0.1)\n",
        "plt.show()"
      ],
      "metadata": {
        "id": "WpLV5StjfxlG"
      },
      "execution_count": null,
      "outputs": []
    },
    {
      "cell_type": "code",
      "source": [
        "aoi = coverage.loc[coverage['filename'] == max_tif]\n",
        "aoi.total_bounds"
      ],
      "metadata": {
        "colab": {
          "base_uri": "https://localhost:8080/"
        },
        "id": "Yvglo2YsNkgv",
        "outputId": "953d9940-9659-40d0-db3d-632cd8b8505e"
      },
      "execution_count": null,
      "outputs": [
        {
          "output_type": "execute_result",
          "data": {
            "text/plain": [
              "array([-2.1770943,  7.9835061, -1.9918943,  9.0126198])"
            ]
          },
          "metadata": {},
          "execution_count": 250
        }
      ]
    },
    {
      "cell_type": "code",
      "source": [
        "import matplotlib.pyplot as plt\n",
        "_, ax = plt.subplots(1, 1, figsize=(16, 9))\n",
        "targets_df.plot(ax=ax)\n",
        "aoi.plot(ax=ax, alpha=0.1)\n",
        "plt.show()"
      ],
      "metadata": {
        "colab": {
          "base_uri": "https://localhost:8080/",
          "height": 537
        },
        "id": "OkdOPrDCKOqG",
        "outputId": "923b5761-eb1f-4618-a6f9-0b40628399f6"
      },
      "execution_count": null,
      "outputs": [
        {
          "output_type": "display_data",
          "data": {
            "text/plain": [
              "<Figure size 1152x648 with 1 Axes>"
            ],
            "image/png": "[encoded data removed]"
          },
          "metadata": {
            "needs_background": "light"
          }
        }
      ]
    },
    {
      "cell_type": "markdown",
      "source": [
        "#GF utils"
      ],
      "metadata": {
        "id": "T-mPolaOmrp1"
      }
    },
    {
      "cell_type": "code",
      "source": [
        "from pathlib import Path\n",
        "import json\n",
        "\n",
        "import geopandas as gpd\n",
        "import rasterio\n",
        "from rasterio.mask import mask\n",
        "\n",
        "\n",
        "def save_raster(path, raster, affine, crs=None, nodata=0):\n",
        "    \"\"\"Save a raster to the specified file.\n",
        "    Parameters\n",
        "    ----------\n",
        "    file : str\n",
        "        Output file path\n",
        "    raster : numpy.array\n",
        "        2D numpy array containing raster values\n",
        "    affine: affine.Affine\n",
        "        Affine transformation for the raster\n",
        "    crs: str, proj.Proj, optional (default EPSG4326)\n",
        "        CRS for the raster\n",
        "    \"\"\"\n",
        "\n",
        "    path = Path(path)\n",
        "    if not path.parents[0].exists():\n",
        "        path.parents[0].mkdir(parents=True, exist_ok=True)\n",
        "\n",
        "    if not crs:\n",
        "        crs = \"+proj=latlong\"\n",
        "\n",
        "    filtered_out = rasterio.open(\n",
        "        path,\n",
        "        \"w\",\n",
        "        driver=\"GTiff\",\n",
        "        height=raster.shape[0],\n",
        "        width=raster.shape[1],\n",
        "        count=1,\n",
        "        dtype=raster.dtype,\n",
        "        crs=crs,\n",
        "        transform=affine,\n",
        "        nodata=nodata,\n",
        "    )\n",
        "    filtered_out.write(raster, 1)\n",
        "    filtered_out.close()\n",
        "\n",
        "def estimate_mem_use(targets, costs):\n",
        "    \"\"\"Estimate memory usage in GB, probably not very accurate.\n",
        "    Parameters\n",
        "    ----------\n",
        "    targets : numpy array\n",
        "        2D array of targets.\n",
        "    costs : numpy array\n",
        "        2D array of costs.\n",
        "    Returns\n",
        "    -------\n",
        "    est_mem : float\n",
        "        Estimated memory requirement in GB.\n",
        "    \"\"\"\n",
        "\n",
        "    # make sure these match the ones used in optimise below\n",
        "    visited = np.zeros_like(targets, dtype=np.int8)\n",
        "    dist = np.full_like(costs, np.nan, dtype=np.float32)\n",
        "    prev = np.full_like(costs, np.nan, dtype=object)\n",
        "\n",
        "    est_mem_arr = [targets, costs, visited, dist, prev]\n",
        "    est_mem = len(pickle.dumps(est_mem_arr, -1))\n",
        "\n",
        "    return est_mem / 1e9"
      ],
      "metadata": {
        "id": "A4YKVqfdM-Md"
      },
      "execution_count": null,
      "outputs": []
    },
    {
      "cell_type": "code",
      "source": [
        "from shapely import geometry\n",
        "import shapely\n",
        "# note that these are for now specific to extrating tower data\n",
        "def gdf_2_gridded_conversion_2(gdf, n_cells):\n",
        "    xmin, ymin, xmax, ymax= gdf.total_bounds\n",
        "  # how many cells for range of x values investigated - can be customized for y if needed\n",
        "  #n_cells=30\n",
        "    cell_size = (xmax-xmin)/n_cells\n",
        "    # projection of the grid\n",
        "    crs = \"+proj=sinu +lon_0=0 +x_0=0 +y_0=0 +a=6371007.181 +b=6371007.181 +units=m +no_defs\"\n",
        "    # create the cells in a loop\n",
        "    grid_cells = []\n",
        "    for x0 in np.arange(xmin, xmax+cell_size, cell_size ):\n",
        "        for y0 in np.arange(ymin, ymax+cell_size, cell_size):\n",
        "            # bounds\n",
        "            x1 = x0-cell_size\n",
        "            y1 = y0+cell_size\n",
        "            grid_cells.append( shapely.geometry.box(x0, y0, x1, y1)  )\n",
        "    cell = gpd.GeoDataFrame(grid_cells, columns=['geometry'],\n",
        "                                    crs=crs)\n",
        "\n",
        "\n",
        "    merged = gpd.sjoin(gdf, cell, how='left', op='within')\n",
        "\n",
        "    #clean_merge = merged.drop(labels =['tags.power', 'tags.material', 'tags.height', 'tags.structure',\n",
        "        #'tags.line_management', 'Type', 'Country'], axis = 1)\n",
        "\n",
        "    #clean_merge = merged.drop(labels =['tags.power', 'Type', 'Country'], axis = 1)\n",
        "    #clean_merge = merged.loc[:, ['id', 'geometry', 'index_right']]\n",
        "\n",
        "    clean_merge = merged\n",
        "    ## removing nan which can cause error\n",
        "    merged2 = clean_merge.dropna(axis = 0, how = 'any')\n",
        "\n",
        "    return merged2 , cell\n",
        "\n",
        "def gdf_2_binary_gridded_conversion_2(gdf, n_cells):\n",
        "    merged2, cell = gdf_2_gridded_conversion_2(gdf, n_cells)\n",
        "\n",
        "    # make a simple count variable that we can sum\n",
        "    merged2['n_twr']=1\n",
        "    # Compute stats per grid cell -- aggregate fires to grid cells with dissolve\n",
        "    dissolve = merged2.dissolve(by=\"index_right\", aggfunc=\"count\")\n",
        "    # put this into cell\n",
        "    cell.loc[dissolve.index, 'n_twr'] = dissolve.n_twr.values\n",
        "\n",
        "\n",
        "    return cell\n",
        "\n",
        "def return_idx_twr_gridded(cell, n_cells): #cell here is df containing both shapely polygon grids and original tower point markers , ncells to number of cells in x coordinate system for now\n",
        "  # total area for the grid\n",
        "  gdf = cell\n",
        "  xmin, ymin, xmax, ymax= gdf.total_bounds\n",
        "  cell_size = (xmax-xmin)/n_cells\n",
        "\n",
        "  gps = []\n",
        "  #find location in grid ####\n",
        "  for i in range(len(cell)):\n",
        "    if cell[\"n_twr\"][i] ==1:\n",
        "      #print(i)\n",
        "      twr_grid_cnt = list(cell.iloc[i].geometry.centroid.coords)\n",
        "      yic = twr_grid_cnt[0][1]\n",
        "      xic = twr_grid_cnt[0][0]\n",
        "  #### now retrieve integer indexing #####\n",
        "      yi = int((yic- ymin) / cell_size)\n",
        "      xi = int((xic- xmin) / cell_size)\n",
        "\n",
        "      gps.append((yi,xi))\n",
        "  return gps\n",
        "\n",
        "\n",
        "def pts_df_to_2d_target_array(cell, n_cells):\n",
        "\n",
        "  gdf = cell\n",
        "  xmin, ymin, xmax, ymax= gdf.total_bounds\n",
        "  cell_size = (xmax-xmin)/n_cells\n",
        "\n",
        "  # define number of x and y cells used for indexing\n",
        "  nxcell = int((xmax - xmin) / cell_size)\n",
        "  nycell = int((ymax - ymin) / cell_size)\n",
        "\n",
        "  twr_pts_idx = return_idx_twr_gridded(cell, n_cells)\n",
        "\n",
        "  points = twr_pts_idx\n",
        "  targets = np.zeros((int(nycell+1), int(nxcell+1)))\n",
        "  targets[tuple(np.array(points).T)] = 1\n",
        "  #targets[tuple(np.array(points))] = 1\n",
        "  #equal costs for all cells - excluding road info etc\n",
        "  #costs = np.ones((int(nycell+1), int(nxcell+1)))\n",
        "\n",
        "  ## flip to be consistent with original gridded\n",
        "  t = np.flip(targets, 0)\n",
        "  #c = np.flip(costs, 0)\n",
        "\n",
        "  return t"
      ],
      "metadata": {
        "id": "MOQi1-UymDXD"
      },
      "execution_count": null,
      "outputs": []
    },
    {
      "cell_type": "markdown",
      "source": [
        "#load inferred towers over same areas"
      ],
      "metadata": {
        "id": "GapnzSp4lnLi"
      }
    },
    {
      "cell_type": "code",
      "source": [
        "path = '/content/drive/MyDrive/PyPSA_Africa_images/models/outlier_detection/detected_gh_twr_test_1000_batch'\n",
        "inferred_gh_twrs = gpd.read_file(path)\n",
        "inferred_gh_twrs.head()"
      ],
      "metadata": {
        "colab": {
          "base_uri": "https://localhost:8080/",
          "height": 206
        },
        "id": "Oft6sge1lp6Z",
        "outputId": "111aa8a7-962a-4713-c4e1-b3d31e6684e1"
      },
      "execution_count": null,
      "outputs": [
        {
          "output_type": "execute_result",
          "data": {
            "text/plain": [
              "                                                 tif     score  \\\n",
              "0  /content/drive/My Drive/PyPSA_Africa_images/ma...  0.691322   \n",
              "1  /content/drive/My Drive/PyPSA_Africa_images/ma...  0.454091   \n",
              "2  /content/drive/My Drive/PyPSA_Africa_images/ma...  0.772516   \n",
              "3  /content/drive/My Drive/PyPSA_Africa_images/ma...  0.402426   \n",
              "4  /content/drive/My Drive/PyPSA_Africa_images/ma...  0.986270   \n",
              "\n",
              "                   geometry  \n",
              "0  POINT (-2.17647 9.01199)  \n",
              "1  POINT (-2.17655 9.01207)  \n",
              "2  POINT (-2.13858 9.01169)  \n",
              "3  POINT (-2.13858 9.01169)  \n",
              "4  POINT (-2.12780 9.01230)  "
            ],
            "text/html": [
              "\n",
              "  <div id=\"df-e4362d75-c5b2-4940-b16e-dc519edebf70\">\n",
              "    <div class=\"colab-df-container\">\n",
              "      <div>\n",
              "<style scoped>\n",
              "    .dataframe tbody tr th:only-of-type {\n",
              "        vertical-align: middle;\n",
              "    }\n",
              "\n",
              "    .dataframe tbody tr th {\n",
              "        vertical-align: top;\n",
              "    }\n",
              "\n",
              "    .dataframe thead th {\n",
              "        text-align: right;\n",
              "    }\n",
              "</style>\n",
              "<table border=\"1\" class=\"dataframe\">\n",
              "  <thead>\n",
              "    <tr style=\"text-align: right;\">\n",
              "      <th></th>\n",
              "      <th>tif</th>\n",
              "      <th>score</th>\n",
              "      <th>geometry</th>\n",
              "    </tr>\n",
              "  </thead>\n",
              "  <tbody>\n",
              "    <tr>\n",
              "      <th>0</th>\n",
              "      <td>/content/drive/My Drive/PyPSA_Africa_images/ma...</td>\n",
              "      <td>0.691322</td>\n",
              "      <td>POINT (-2.17647 9.01199)</td>\n",
              "    </tr>\n",
              "    <tr>\n",
              "      <th>1</th>\n",
              "      <td>/content/drive/My Drive/PyPSA_Africa_images/ma...</td>\n",
              "      <td>0.454091</td>\n",
              "      <td>POINT (-2.17655 9.01207)</td>\n",
              "    </tr>\n",
              "    <tr>\n",
              "      <th>2</th>\n",
              "      <td>/content/drive/My Drive/PyPSA_Africa_images/ma...</td>\n",
              "      <td>0.772516</td>\n",
              "      <td>POINT (-2.13858 9.01169)</td>\n",
              "    </tr>\n",
              "    <tr>\n",
              "      <th>3</th>\n",
              "      <td>/content/drive/My Drive/PyPSA_Africa_images/ma...</td>\n",
              "      <td>0.402426</td>\n",
              "      <td>POINT (-2.13858 9.01169)</td>\n",
              "    </tr>\n",
              "    <tr>\n",
              "      <th>4</th>\n",
              "      <td>/content/drive/My Drive/PyPSA_Africa_images/ma...</td>\n",
              "      <td>0.986270</td>\n",
              "      <td>POINT (-2.12780 9.01230)</td>\n",
              "    </tr>\n",
              "  </tbody>\n",
              "</table>\n",
              "</div>\n",
              "      <button class=\"colab-df-convert\" onclick=\"convertToInteractive('df-e4362d75-c5b2-4940-b16e-dc519edebf70')\"\n",
              "              title=\"Convert this dataframe to an interactive table.\"\n",
              "              style=\"display:none;\">\n",
              "        \n",
              "  <svg xmlns=\"http://www.w3.org/2000/svg\" height=\"24px\"viewBox=\"0 0 24 24\"\n",
              "       width=\"24px\">\n",
              "    <path d=\"M0 0h24v24H0V0z\" fill=\"none\"/>\n",
              "    <path d=\"M18.56 5.44l.94 2.06.94-2.06 2.06-.94-2.06-.94-.94-2.06-.94 2.06-2.06.94zm-11 1L8.5 8.5l.94-2.06 2.06-.94-2.06-.94L8.5 2.5l-.94 2.06-2.06.94zm10 10l.94 2.06.94-2.06 2.06-.94-2.06-.94-.94-2.06-.94 2.06-2.06.94z\"/><path d=\"M17.41 7.96l-1.37-1.37c-.4-.4-.92-.59-1.43-.59-.52 0-1.04.2-1.43.59L10.3 9.45l-7.72 7.72c-.78.78-.78 2.05 0 2.83L4 21.41c.39.39.9.59 1.41.59.51 0 1.02-.2 1.41-.59l7.78-7.78 2.81-2.81c.8-.78.8-2.07 0-2.86zM5.41 20L4 18.59l7.72-7.72 1.47 1.35L5.41 20z\"/>\n",
              "  </svg>\n",
              "      </button>\n",
              "      \n",
              "  <style>\n",
              "    .colab-df-container {\n",
              "      display:flex;\n",
              "      flex-wrap:wrap;\n",
              "      gap: 12px;\n",
              "    }\n",
              "\n",
              "    .colab-df-convert {\n",
              "      background-color: #E8F0FE;\n",
              "      border: none;\n",
              "      border-radius: 50%;\n",
              "      cursor: pointer;\n",
              "      display: none;\n",
              "      fill: #1967D2;\n",
              "      height: 32px;\n",
              "      padding: 0 0 0 0;\n",
              "      width: 32px;\n",
              "    }\n",
              "\n",
              "    .colab-df-convert:hover {\n",
              "      background-color: #E2EBFA;\n",
              "      box-shadow: 0px 1px 2px rgba(60, 64, 67, 0.3), 0px 1px 3px 1px rgba(60, 64, 67, 0.15);\n",
              "      fill: #174EA6;\n",
              "    }\n",
              "\n",
              "    [theme=dark] .colab-df-convert {\n",
              "      background-color: #3B4455;\n",
              "      fill: #D2E3FC;\n",
              "    }\n",
              "\n",
              "    [theme=dark] .colab-df-convert:hover {\n",
              "      background-color: #434B5C;\n",
              "      box-shadow: 0px 1px 3px 1px rgba(0, 0, 0, 0.15);\n",
              "      filter: drop-shadow(0px 1px 2px rgba(0, 0, 0, 0.3));\n",
              "      fill: #FFFFFF;\n",
              "    }\n",
              "  </style>\n",
              "\n",
              "      <script>\n",
              "        const buttonEl =\n",
              "          document.querySelector('#df-e4362d75-c5b2-4940-b16e-dc519edebf70 button.colab-df-convert');\n",
              "        buttonEl.style.display =\n",
              "          google.colab.kernel.accessAllowed ? 'block' : 'none';\n",
              "\n",
              "        async function convertToInteractive(key) {\n",
              "          const element = document.querySelector('#df-e4362d75-c5b2-4940-b16e-dc519edebf70');\n",
              "          const dataTable =\n",
              "            await google.colab.kernel.invokeFunction('convertToInteractive',\n",
              "                                                     [key], {});\n",
              "          if (!dataTable) return;\n",
              "\n",
              "          const docLinkHtml = 'Like what you see? Visit the ' +\n",
              "            '<a target=\"_blank\" href=https://colab.research.google.com/notebooks/data_table.ipynb>data table notebook</a>'\n",
              "            + ' to learn more about interactive tables.';\n",
              "          element.innerHTML = '';\n",
              "          dataTable['output_type'] = 'display_data';\n",
              "          await google.colab.output.renderOutput(dataTable, element);\n",
              "          const docLink = document.createElement('div');\n",
              "          docLink.innerHTML = docLinkHtml;\n",
              "          element.appendChild(docLink);\n",
              "        }\n",
              "      </script>\n",
              "    </div>\n",
              "  </div>\n",
              "  "
            ]
          },
          "metadata": {},
          "execution_count": 52
        }
      ]
    },
    {
      "cell_type": "code",
      "source": [
        "path = '/content/drive/MyDrive/PyPSA_Africa_images/models/outlier_detection/detected_gh_twr_test_1000_batch_rev'\n",
        "inferred_gh_twrs_rev = gpd.read_file(path)\n",
        "inferred_gh_twrs_rev.head()"
      ],
      "metadata": {
        "colab": {
          "base_uri": "https://localhost:8080/",
          "height": 206
        },
        "id": "SPDaj3KvfmM4",
        "outputId": "f3073e86-b9f2-4c4e-bda2-f10d5a913f08"
      },
      "execution_count": null,
      "outputs": [
        {
          "output_type": "execute_result",
          "data": {
            "text/plain": [
              "                                                 tif     score  \\\n",
              "0  /content/drive/My Drive/PyPSA_Africa_images/ma...  0.507984   \n",
              "1  /content/drive/My Drive/PyPSA_Africa_images/ma...  0.776677   \n",
              "2  /content/drive/My Drive/PyPSA_Africa_images/ma...  0.154254   \n",
              "3  /content/drive/My Drive/PyPSA_Africa_images/ma...  0.922023   \n",
              "4  /content/drive/My Drive/PyPSA_Africa_images/ma...  0.256851   \n",
              "\n",
              "                   geometry  \n",
              "0  POINT (-2.02162 7.98465)  \n",
              "1  POINT (-2.00573 7.98470)  \n",
              "2  POINT (-2.00573 7.98470)  \n",
              "3  POINT (-1.99673 7.98596)  \n",
              "4  POINT (-2.01503 7.98603)  "
            ],
            "text/html": [
              "\n",
              "  <div id=\"df-8e23d6bf-5769-4300-bfac-c9e0685ed0e7\">\n",
              "    <div class=\"colab-df-container\">\n",
              "      <div>\n",
              "<style scoped>\n",
              "    .dataframe tbody tr th:only-of-type {\n",
              "        vertical-align: middle;\n",
              "    }\n",
              "\n",
              "    .dataframe tbody tr th {\n",
              "        vertical-align: top;\n",
              "    }\n",
              "\n",
              "    .dataframe thead th {\n",
              "        text-align: right;\n",
              "    }\n",
              "</style>\n",
              "<table border=\"1\" class=\"dataframe\">\n",
              "  <thead>\n",
              "    <tr style=\"text-align: right;\">\n",
              "      <th></th>\n",
              "      <th>tif</th>\n",
              "      <th>score</th>\n",
              "      <th>geometry</th>\n",
              "    </tr>\n",
              "  </thead>\n",
              "  <tbody>\n",
              "    <tr>\n",
              "      <th>0</th>\n",
              "      <td>/content/drive/My Drive/PyPSA_Africa_images/ma...</td>\n",
              "      <td>0.507984</td>\n",
              "      <td>POINT (-2.02162 7.98465)</td>\n",
              "    </tr>\n",
              "    <tr>\n",
              "      <th>1</th>\n",
              "      <td>/content/drive/My Drive/PyPSA_Africa_images/ma...</td>\n",
              "      <td>0.776677</td>\n",
              "      <td>POINT (-2.00573 7.98470)</td>\n",
              "    </tr>\n",
              "    <tr>\n",
              "      <th>2</th>\n",
              "      <td>/content/drive/My Drive/PyPSA_Africa_images/ma...</td>\n",
              "      <td>0.154254</td>\n",
              "      <td>POINT (-2.00573 7.98470)</td>\n",
              "    </tr>\n",
              "    <tr>\n",
              "      <th>3</th>\n",
              "      <td>/content/drive/My Drive/PyPSA_Africa_images/ma...</td>\n",
              "      <td>0.922023</td>\n",
              "      <td>POINT (-1.99673 7.98596)</td>\n",
              "    </tr>\n",
              "    <tr>\n",
              "      <th>4</th>\n",
              "      <td>/content/drive/My Drive/PyPSA_Africa_images/ma...</td>\n",
              "      <td>0.256851</td>\n",
              "      <td>POINT (-2.01503 7.98603)</td>\n",
              "    </tr>\n",
              "  </tbody>\n",
              "</table>\n",
              "</div>\n",
              "      <button class=\"colab-df-convert\" onclick=\"convertToInteractive('df-8e23d6bf-5769-4300-bfac-c9e0685ed0e7')\"\n",
              "              title=\"Convert this dataframe to an interactive table.\"\n",
              "              style=\"display:none;\">\n",
              "        \n",
              "  <svg xmlns=\"http://www.w3.org/2000/svg\" height=\"24px\"viewBox=\"0 0 24 24\"\n",
              "       width=\"24px\">\n",
              "    <path d=\"M0 0h24v24H0V0z\" fill=\"none\"/>\n",
              "    <path d=\"M18.56 5.44l.94 2.06.94-2.06 2.06-.94-2.06-.94-.94-2.06-.94 2.06-2.06.94zm-11 1L8.5 8.5l.94-2.06 2.06-.94-2.06-.94L8.5 2.5l-.94 2.06-2.06.94zm10 10l.94 2.06.94-2.06 2.06-.94-2.06-.94-.94-2.06-.94 2.06-2.06.94z\"/><path d=\"M17.41 7.96l-1.37-1.37c-.4-.4-.92-.59-1.43-.59-.52 0-1.04.2-1.43.59L10.3 9.45l-7.72 7.72c-.78.78-.78 2.05 0 2.83L4 21.41c.39.39.9.59 1.41.59.51 0 1.02-.2 1.41-.59l7.78-7.78 2.81-2.81c.8-.78.8-2.07 0-2.86zM5.41 20L4 18.59l7.72-7.72 1.47 1.35L5.41 20z\"/>\n",
              "  </svg>\n",
              "      </button>\n",
              "      \n",
              "  <style>\n",
              "    .colab-df-container {\n",
              "      display:flex;\n",
              "      flex-wrap:wrap;\n",
              "      gap: 12px;\n",
              "    }\n",
              "\n",
              "    .colab-df-convert {\n",
              "      background-color: #E8F0FE;\n",
              "      border: none;\n",
              "      border-radius: 50%;\n",
              "      cursor: pointer;\n",
              "      display: none;\n",
              "      fill: #1967D2;\n",
              "      height: 32px;\n",
              "      padding: 0 0 0 0;\n",
              "      width: 32px;\n",
              "    }\n",
              "\n",
              "    .colab-df-convert:hover {\n",
              "      background-color: #E2EBFA;\n",
              "      box-shadow: 0px 1px 2px rgba(60, 64, 67, 0.3), 0px 1px 3px 1px rgba(60, 64, 67, 0.15);\n",
              "      fill: #174EA6;\n",
              "    }\n",
              "\n",
              "    [theme=dark] .colab-df-convert {\n",
              "      background-color: #3B4455;\n",
              "      fill: #D2E3FC;\n",
              "    }\n",
              "\n",
              "    [theme=dark] .colab-df-convert:hover {\n",
              "      background-color: #434B5C;\n",
              "      box-shadow: 0px 1px 3px 1px rgba(0, 0, 0, 0.15);\n",
              "      filter: drop-shadow(0px 1px 2px rgba(0, 0, 0, 0.3));\n",
              "      fill: #FFFFFF;\n",
              "    }\n",
              "  </style>\n",
              "\n",
              "      <script>\n",
              "        const buttonEl =\n",
              "          document.querySelector('#df-8e23d6bf-5769-4300-bfac-c9e0685ed0e7 button.colab-df-convert');\n",
              "        buttonEl.style.display =\n",
              "          google.colab.kernel.accessAllowed ? 'block' : 'none';\n",
              "\n",
              "        async function convertToInteractive(key) {\n",
              "          const element = document.querySelector('#df-8e23d6bf-5769-4300-bfac-c9e0685ed0e7');\n",
              "          const dataTable =\n",
              "            await google.colab.kernel.invokeFunction('convertToInteractive',\n",
              "                                                     [key], {});\n",
              "          if (!dataTable) return;\n",
              "\n",
              "          const docLinkHtml = 'Like what you see? Visit the ' +\n",
              "            '<a target=\"_blank\" href=https://colab.research.google.com/notebooks/data_table.ipynb>data table notebook</a>'\n",
              "            + ' to learn more about interactive tables.';\n",
              "          element.innerHTML = '';\n",
              "          dataTable['output_type'] = 'display_data';\n",
              "          await google.colab.output.renderOutput(dataTable, element);\n",
              "          const docLink = document.createElement('div');\n",
              "          docLink.innerHTML = docLinkHtml;\n",
              "          element.appendChild(docLink);\n",
              "        }\n",
              "      </script>\n",
              "    </div>\n",
              "  </div>\n",
              "  "
            ]
          },
          "metadata": {},
          "execution_count": 70
        }
      ]
    },
    {
      "cell_type": "code",
      "source": [
        "combined_twr_df = inferred_gh_twrs.append(inferred_gh_twrs_rev, ignore_index = True)\n",
        "combined_twr_df.head()"
      ],
      "metadata": {
        "colab": {
          "base_uri": "https://localhost:8080/",
          "height": 206
        },
        "id": "LhHwVdTealBf",
        "outputId": "6aadad15-f9d8-40ac-9708-7326baf8d691"
      },
      "execution_count": null,
      "outputs": [
        {
          "output_type": "execute_result",
          "data": {
            "text/plain": [
              "                                                 tif     score  \\\n",
              "0  /content/drive/My Drive/PyPSA_Africa_images/ma...  0.691322   \n",
              "1  /content/drive/My Drive/PyPSA_Africa_images/ma...  0.454091   \n",
              "2  /content/drive/My Drive/PyPSA_Africa_images/ma...  0.772516   \n",
              "3  /content/drive/My Drive/PyPSA_Africa_images/ma...  0.402426   \n",
              "4  /content/drive/My Drive/PyPSA_Africa_images/ma...  0.986270   \n",
              "\n",
              "                   geometry  \n",
              "0  POINT (-2.17647 9.01199)  \n",
              "1  POINT (-2.17655 9.01207)  \n",
              "2  POINT (-2.13858 9.01169)  \n",
              "3  POINT (-2.13858 9.01169)  \n",
              "4  POINT (-2.12780 9.01230)  "
            ],
            "text/html": [
              "\n",
              "  <div id=\"df-08f5e792-110e-40d5-bc0a-3193c12c467a\">\n",
              "    <div class=\"colab-df-container\">\n",
              "      <div>\n",
              "<style scoped>\n",
              "    .dataframe tbody tr th:only-of-type {\n",
              "        vertical-align: middle;\n",
              "    }\n",
              "\n",
              "    .dataframe tbody tr th {\n",
              "        vertical-align: top;\n",
              "    }\n",
              "\n",
              "    .dataframe thead th {\n",
              "        text-align: right;\n",
              "    }\n",
              "</style>\n",
              "<table border=\"1\" class=\"dataframe\">\n",
              "  <thead>\n",
              "    <tr style=\"text-align: right;\">\n",
              "      <th></th>\n",
              "      <th>tif</th>\n",
              "      <th>score</th>\n",
              "      <th>geometry</th>\n",
              "    </tr>\n",
              "  </thead>\n",
              "  <tbody>\n",
              "    <tr>\n",
              "      <th>0</th>\n",
              "      <td>/content/drive/My Drive/PyPSA_Africa_images/ma...</td>\n",
              "      <td>0.691322</td>\n",
              "      <td>POINT (-2.17647 9.01199)</td>\n",
              "    </tr>\n",
              "    <tr>\n",
              "      <th>1</th>\n",
              "      <td>/content/drive/My Drive/PyPSA_Africa_images/ma...</td>\n",
              "      <td>0.454091</td>\n",
              "      <td>POINT (-2.17655 9.01207)</td>\n",
              "    </tr>\n",
              "    <tr>\n",
              "      <th>2</th>\n",
              "      <td>/content/drive/My Drive/PyPSA_Africa_images/ma...</td>\n",
              "      <td>0.772516</td>\n",
              "      <td>POINT (-2.13858 9.01169)</td>\n",
              "    </tr>\n",
              "    <tr>\n",
              "      <th>3</th>\n",
              "      <td>/content/drive/My Drive/PyPSA_Africa_images/ma...</td>\n",
              "      <td>0.402426</td>\n",
              "      <td>POINT (-2.13858 9.01169)</td>\n",
              "    </tr>\n",
              "    <tr>\n",
              "      <th>4</th>\n",
              "      <td>/content/drive/My Drive/PyPSA_Africa_images/ma...</td>\n",
              "      <td>0.986270</td>\n",
              "      <td>POINT (-2.12780 9.01230)</td>\n",
              "    </tr>\n",
              "  </tbody>\n",
              "</table>\n",
              "</div>\n",
              "      <button class=\"colab-df-convert\" onclick=\"convertToInteractive('df-08f5e792-110e-40d5-bc0a-3193c12c467a')\"\n",
              "              title=\"Convert this dataframe to an interactive table.\"\n",
              "              style=\"display:none;\">\n",
              "        \n",
              "  <svg xmlns=\"http://www.w3.org/2000/svg\" height=\"24px\"viewBox=\"0 0 24 24\"\n",
              "       width=\"24px\">\n",
              "    <path d=\"M0 0h24v24H0V0z\" fill=\"none\"/>\n",
              "    <path d=\"M18.56 5.44l.94 2.06.94-2.06 2.06-.94-2.06-.94-.94-2.06-.94 2.06-2.06.94zm-11 1L8.5 8.5l.94-2.06 2.06-.94-2.06-.94L8.5 2.5l-.94 2.06-2.06.94zm10 10l.94 2.06.94-2.06 2.06-.94-2.06-.94-.94-2.06-.94 2.06-2.06.94z\"/><path d=\"M17.41 7.96l-1.37-1.37c-.4-.4-.92-.59-1.43-.59-.52 0-1.04.2-1.43.59L10.3 9.45l-7.72 7.72c-.78.78-.78 2.05 0 2.83L4 21.41c.39.39.9.59 1.41.59.51 0 1.02-.2 1.41-.59l7.78-7.78 2.81-2.81c.8-.78.8-2.07 0-2.86zM5.41 20L4 18.59l7.72-7.72 1.47 1.35L5.41 20z\"/>\n",
              "  </svg>\n",
              "      </button>\n",
              "      \n",
              "  <style>\n",
              "    .colab-df-container {\n",
              "      display:flex;\n",
              "      flex-wrap:wrap;\n",
              "      gap: 12px;\n",
              "    }\n",
              "\n",
              "    .colab-df-convert {\n",
              "      background-color: #E8F0FE;\n",
              "      border: none;\n",
              "      border-radius: 50%;\n",
              "      cursor: pointer;\n",
              "      display: none;\n",
              "      fill: #1967D2;\n",
              "      height: 32px;\n",
              "      padding: 0 0 0 0;\n",
              "      width: 32px;\n",
              "    }\n",
              "\n",
              "    .colab-df-convert:hover {\n",
              "      background-color: #E2EBFA;\n",
              "      box-shadow: 0px 1px 2px rgba(60, 64, 67, 0.3), 0px 1px 3px 1px rgba(60, 64, 67, 0.15);\n",
              "      fill: #174EA6;\n",
              "    }\n",
              "\n",
              "    [theme=dark] .colab-df-convert {\n",
              "      background-color: #3B4455;\n",
              "      fill: #D2E3FC;\n",
              "    }\n",
              "\n",
              "    [theme=dark] .colab-df-convert:hover {\n",
              "      background-color: #434B5C;\n",
              "      box-shadow: 0px 1px 3px 1px rgba(0, 0, 0, 0.15);\n",
              "      filter: drop-shadow(0px 1px 2px rgba(0, 0, 0, 0.3));\n",
              "      fill: #FFFFFF;\n",
              "    }\n",
              "  </style>\n",
              "\n",
              "      <script>\n",
              "        const buttonEl =\n",
              "          document.querySelector('#df-08f5e792-110e-40d5-bc0a-3193c12c467a button.colab-df-convert');\n",
              "        buttonEl.style.display =\n",
              "          google.colab.kernel.accessAllowed ? 'block' : 'none';\n",
              "\n",
              "        async function convertToInteractive(key) {\n",
              "          const element = document.querySelector('#df-08f5e792-110e-40d5-bc0a-3193c12c467a');\n",
              "          const dataTable =\n",
              "            await google.colab.kernel.invokeFunction('convertToInteractive',\n",
              "                                                     [key], {});\n",
              "          if (!dataTable) return;\n",
              "\n",
              "          const docLinkHtml = 'Like what you see? Visit the ' +\n",
              "            '<a target=\"_blank\" href=https://colab.research.google.com/notebooks/data_table.ipynb>data table notebook</a>'\n",
              "            + ' to learn more about interactive tables.';\n",
              "          element.innerHTML = '';\n",
              "          dataTable['output_type'] = 'display_data';\n",
              "          await google.colab.output.renderOutput(dataTable, element);\n",
              "          const docLink = document.createElement('div');\n",
              "          docLink.innerHTML = docLinkHtml;\n",
              "          element.appendChild(docLink);\n",
              "        }\n",
              "      </script>\n",
              "    </div>\n",
              "  </div>\n",
              "  "
            ]
          },
          "metadata": {},
          "execution_count": 260
        }
      ]
    },
    {
      "cell_type": "code",
      "source": [
        "import matplotlib.pyplot as plt\n",
        "_, ax = plt.subplots(1, 1, figsize=(16, 9))\n",
        "inferred_gh_twrs.plot(ax=ax)\n",
        "inferred_gh_twrs_rev.plot(ax=ax)\n",
        "aoi.plot(ax=ax, alpha=0.1)\n",
        "targets_df.plot(ax=ax)\n",
        "plt.show()"
      ],
      "metadata": {
        "colab": {
          "base_uri": "https://localhost:8080/",
          "height": 537
        },
        "id": "haxmzi5TfXNo",
        "outputId": "98d229e5-c675-4e38-ac56-9cf4748f53bc"
      },
      "execution_count": null,
      "outputs": [
        {
          "output_type": "display_data",
          "data": {
            "text/plain": [
              "<Figure size 1152x648 with 1 Axes>"
            ],
            "image/png": "[encoded data removed]"
          },
          "metadata": {
            "needs_background": "light"
          }
        }
      ]
    },
    {
      "cell_type": "markdown",
      "source": [
        "clearly there is too much noise to infer anything here, proceed first with filtering by score and then outlier removal"
      ],
      "metadata": {
        "id": "i4ASUtTqp8po"
      }
    },
    {
      "cell_type": "markdown",
      "source": [
        "#old"
      ],
      "metadata": {
        "id": "KxBELedkLQCK"
      }
    },
    {
      "cell_type": "code",
      "source": [
        "import os\n",
        "from math import sqrt\n",
        "import json\n",
        "from pathlib import Path\n",
        "\n",
        "import numpy as np\n",
        "from scipy import signal\n",
        "\n",
        "import fiona\n",
        "import rasterio\n",
        "from rasterio.mask import mask\n",
        "from rasterio.features import rasterize\n",
        "from rasterio import Affine\n",
        "from rasterio.warp import reproject, Resampling\n",
        "\n",
        "#import geopandas as gpd\n",
        "\n",
        "# open files\n",
        "base_dir = '/content/drive/My Drive/PyPSA_Africa_images'\n",
        "tif = '10500100103B0300.tif'\n",
        "in_dir = os.path.join(base_dir, 'maxar/ghana/raw')\n",
        "fn =  os.path.join(in_dir,tif )\n",
        "#ds = gdal.Open(fn)\n",
        "#info = gdal.Info(fn, format=\"json\")\n",
        "#bands = [ds.GetRasterBand(i) for i in range(1, 4)]\n",
        "\n",
        "# extract relevant geographical data\n",
        "#transform = info[\"geoTransform\"]\n",
        "#affine = transform\n",
        "\n",
        "rst = rasterio.open(fn)\n",
        "print(rst.shape)\n",
        "print(rst.transform)"
      ],
      "metadata": {
        "colab": {
          "base_uri": "https://localhost:8080/"
        },
        "id": "Ghkde6_eeAyh",
        "outputId": "0767e8b1-5cf8-475a-9b3e-d3e1e83d46bf"
      },
      "execution_count": null,
      "outputs": [
        {
          "output_type": "stream",
          "name": "stdout",
          "text": [
            "(231295, 41624)\n",
            "| 0.00, 0.00,-2.18|\n",
            "| 0.00,-0.00, 9.01|\n",
            "| 0.00, 0.00, 1.00|\n"
          ]
        }
      ]
    },
    {
      "cell_type": "code",
      "source": [
        "import math\n",
        "\n",
        "twrs = inferred_gh_twrs\n",
        "\n",
        "pixel_size = .01\n",
        "\n",
        "min_x, min_y, max_x, max_y = bounds = aoi['geometry'].total_bounds\n",
        "w_px = math.ceil((max_x - min_x) / pixel_size)\n",
        "h_px = math.ceil((max_y - min_y) / pixel_size)\n",
        "print(w_px)\n",
        "print(h_px)\n",
        "\n",
        "\n",
        "\n",
        "#shape = w_px, h_px\n",
        "shape = h_px, w_px # y determines rows, x determines columns\n",
        "#transform = rasterio.transform.from_bounds(*twrs['geometry'].total_bounds, *shape)\n",
        "transform = rasterio.transform.from_bounds(*bounds, *shape)\n",
        "\n",
        "\n",
        "#twrs = inferred_gh_twrs\n",
        "\n",
        "#twr_for_raster = [(row.geometry, row.weight) for _, row in roads.iterrows()]\n",
        "#roads_for_raster = ((geometry, weight) for _, row in zip(roads.geometry, roads.weight))\n",
        "#roads_for_raster = [(row.geometry, row.weight) for _, row in zip(roads.iterrows())]\n",
        "# create tuples of geometry, value pairs, where value is the attribute value you want to burn\n",
        "\n",
        "\n",
        "geom_value = ((geom,value) for geom, value in zip(twrs.geometry, twrs.score))\n",
        "#shapes = ((geom,value) for geom, value in zip(roads.iterrows()\n",
        "\n",
        "twr_raster = rasterize(\n",
        "    geom_value,\n",
        "    out_shape=shape,\n",
        "    fill=0,\n",
        "    default_value=0,\n",
        "    all_touched=True,\n",
        "    transform= transform,\n",
        ")\n",
        "\n",
        "twr_raster\n",
        "plt.imshow(twr_raster, cmap='viridis')"
      ],
      "metadata": {
        "colab": {
          "base_uri": "https://localhost:8080/",
          "height": 320
        },
        "id": "M8YxRNPEmNCQ",
        "outputId": "398a7b92-f886-4d06-950e-e6cd1f32c24a"
      },
      "execution_count": null,
      "outputs": [
        {
          "output_type": "stream",
          "name": "stdout",
          "text": [
            "19\n",
            "103\n"
          ]
        },
        {
          "output_type": "execute_result",
          "data": {
            "text/plain": [
              "<matplotlib.image.AxesImage at 0x7f0418131fd0>"
            ]
          },
          "metadata": {},
          "execution_count": 100
        },
        {
          "output_type": "display_data",
          "data": {
            "text/plain": [
              "<Figure size 432x288 with 1 Axes>"
            ],
            "image/png": "[encoded data removed]"
          },
          "metadata": {
            "needs_background": "light"
          }
        }
      ]
    },
    {
      "cell_type": "code",
      "source": [
        "flip_r_t = np.flip(twr_raster, 0)\n",
        "#flip_r_t\n",
        "plt.imshow(flip_r_t, cmap='viridis')"
      ],
      "metadata": {
        "colab": {
          "base_uri": "https://localhost:8080/",
          "height": 129
        },
        "id": "Z8SnyDcLr2IO",
        "outputId": "3949aea6-4112-4ecf-ce0d-1597d5a91eda"
      },
      "execution_count": null,
      "outputs": [
        {
          "output_type": "execute_result",
          "data": {
            "text/plain": [
              "<matplotlib.image.AxesImage at 0x7f0418590e50>"
            ]
          },
          "metadata": {},
          "execution_count": 93
        },
        {
          "output_type": "display_data",
          "data": {
            "text/plain": [
              "<Figure size 432x288 with 1 Axes>"
            ],
            "image/png": "[encoded data removed]"
          },
          "metadata": {
            "needs_background": "light"
          }
        }
      ]
    },
    {
      "cell_type": "code",
      "source": [
        "import math\n",
        "\n",
        "twrs = inferred_gh_twrs_rev\n",
        "\n",
        "pixel_size = .01\n",
        "\n",
        "min_x, min_y, max_x, max_y = bounds = aoi['geometry'].total_bounds\n",
        "w_px = math.ceil((max_x - min_x) / pixel_size)\n",
        "h_px = math.ceil((max_y - min_y) / pixel_size)\n",
        "print(w_px)\n",
        "print(h_px)\n",
        "\n",
        "\n",
        "\n",
        "shape = h_px, w_px\n",
        "#transform = rasterio.transform.from_bounds(*twrs['geometry'].total_bounds, *shape)\n",
        "transform = rasterio.transform.from_bounds(*bounds, *shape)\n",
        "\n",
        "\n",
        "#twrs = inferred_gh_twrs\n",
        "\n",
        "#twr_for_raster = [(row.geometry, row.weight) for _, row in roads.iterrows()]\n",
        "#roads_for_raster = ((geometry, weight) for _, row in zip(roads.geometry, roads.weight))\n",
        "#roads_for_raster = [(row.geometry, row.weight) for _, row in zip(roads.iterrows())]\n",
        "# create tuples of geometry, value pairs, where value is the attribute value you want to burn\n",
        "\n",
        "\n",
        "geom_value = ((geom,value) for geom, value in zip(twrs.geometry, twrs.score))\n",
        "#shapes = ((geom,value) for geom, value in zip(roads.iterrows()\n",
        "\n",
        "twr_raster = rasterize(\n",
        "    geom_value,\n",
        "    out_shape=shape,\n",
        "    fill=0,\n",
        "    default_value=0,\n",
        "    all_touched=True,\n",
        "    transform= transform,\n",
        ")\n",
        "\n",
        "twr_raster\n",
        "plt.imshow(twr_raster, cmap='viridis')"
      ],
      "metadata": {
        "id": "GVvDlDIcqaUb"
      },
      "execution_count": null,
      "outputs": []
    },
    {
      "cell_type": "code",
      "source": [
        "import rasterio\n",
        "from rasterio.enums import Resampling\n",
        "\n",
        "base_dir = '/content/drive/My Drive/PyPSA_Africa_images'\n",
        "tif = '10500100103B0300.tif'\n",
        "in_dir = os.path.join(base_dir, 'maxar/ghana/raw')\n",
        "fn =  os.path.join(in_dir,tif )\n",
        "\n",
        "upscale_factor = .001 # need this otherwise colab crashes\n",
        "\n",
        "with rasterio.open(fn) as dataset:\n",
        "\n",
        "    # resample data to target shape\n",
        "    data = dataset.read(\n",
        "        out_shape=(\n",
        "            dataset.count,\n",
        "            int(dataset.height * upscale_factor),\n",
        "            int(dataset.width * upscale_factor)\n",
        "        ),\n",
        "        resampling=Resampling.bilinear\n",
        "    )\n",
        "\n",
        "    # scale image transform\n",
        "    transform = dataset.transform * dataset.transform.scale(\n",
        "        (dataset.width / data.shape[-1]),\n",
        "        (dataset.height / data.shape[-2])\n",
        "    )\n",
        "\n",
        "shape = data.shape[1] , data.shape[2]\n",
        "\n",
        "\n",
        "twrs = inferred_gh_twrs_rev\n",
        "\n",
        "geom_value = ((geom,value) for geom, value in zip(twrs.geometry, twrs.score))\n",
        "\n",
        "\n",
        "\n",
        "twr_raster = rasterize(\n",
        "    geom_value,\n",
        "    out_shape=shape,\n",
        "    fill=0,\n",
        "    default_value=0,\n",
        "    all_touched=True,\n",
        "    transform= transform,\n",
        ")\n",
        "\n",
        "twr_raster\n",
        "plt.imshow(twr_raster, cmap='viridis')"
      ],
      "metadata": {
        "colab": {
          "base_uri": "https://localhost:8080/",
          "height": 286
        },
        "id": "9rJQDx3swu3-",
        "outputId": "e1bba7ab-426a-49cc-f7f6-3927aa833212"
      },
      "execution_count": null,
      "outputs": [
        {
          "output_type": "execute_result",
          "data": {
            "text/plain": [
              "<matplotlib.image.AxesImage at 0x7f03f477a5d0>"
            ]
          },
          "metadata": {},
          "execution_count": 125
        },
        {
          "output_type": "display_data",
          "data": {
            "text/plain": [
              "<Figure size 432x288 with 1 Axes>"
            ],
            "image/png": "[encoded data removed]"
          },
          "metadata": {
            "needs_background": "light"
          }
        }
      ]
    },
    {
      "cell_type": "code",
      "source": [],
      "metadata": {
        "id": "JQeKI4tg0VE4"
      },
      "execution_count": null,
      "outputs": []
    },
    {
      "cell_type": "markdown",
      "source": [
        "#rasterize towers"
      ],
      "metadata": {
        "id": "ennQTAiHLch7"
      }
    },
    {
      "cell_type": "code",
      "source": [
        "\n",
        "import os\n",
        "from math import sqrt\n",
        "import json\n",
        "from pathlib import Path\n",
        "\n",
        "import numpy as np\n",
        "from scipy import signal\n",
        "\n",
        "import fiona\n",
        "import rasterio\n",
        "from rasterio.mask import mask\n",
        "from rasterio.features import rasterize\n",
        "from rasterio import Affine\n",
        "from rasterio.warp import reproject, Resampling\n",
        "\n",
        "def rasterize_inferred_twrs(tif, twrs, upscale_factor = .001, threshold = .1 ):\n",
        "      \"\"\"Convert the supplied tif file and inferred towers df to output an array of potential towers for grid reconstruction by algorithm.\n",
        "    Parameters\n",
        "    ----------\n",
        "    tifs : str, Path\n",
        "        Path to TIF file we want to use as base to rasterize\n",
        "    twrs : GeoPandas.GeoDataframe, containing at least geometry and score colums\n",
        "    upscale_factor: factor by which to downsample original raster file so we dont run out of memory (default=.001 for testing for now)\n",
        "    treshold: float, optional, default of .1, accuracy score below which tower instances not considered once resampled to new upscaled size\n",
        "\n",
        "    Returns\n",
        "    -------\n",
        "    twr_thresh : numpy array\n",
        "        Array of cells of value 0 (no tower) or 1 (tower).\n",
        "    tranform : affine.Affine\n",
        "        Affine raster transformation for the returned array to be used in other parts.\n",
        "    \"\"\"\n",
        "\n",
        "      fn = tif\n",
        "      with rasterio.open(fn) as dataset:\n",
        "\n",
        "          # resample data to target shape\n",
        "          data = dataset.read(\n",
        "              out_shape=(\n",
        "                  dataset.count,\n",
        "                  int(dataset.height * upscale_factor),\n",
        "                  int(dataset.width * upscale_factor)\n",
        "              ),\n",
        "              resampling=Resampling.bilinear\n",
        "          )\n",
        "\n",
        "          # scale image transform\n",
        "          transform = dataset.transform * dataset.transform.scale(\n",
        "              (dataset.width / data.shape[-1]),\n",
        "              (dataset.height / data.shape[-2])\n",
        "          )\n",
        "\n",
        "      shape = data.shape[1] , data.shape[2]\n",
        "\n",
        "      geom_value = ((geom,value) for geom, value in zip(twrs.geometry, twrs.score))\n",
        "\n",
        "\n",
        "\n",
        "      twr_raster = rasterize(\n",
        "          geom_value,\n",
        "          out_shape=shape,\n",
        "          fill=0,\n",
        "          default_value=0,\n",
        "          all_touched=True,\n",
        "          transform= transform,\n",
        "      )\n",
        "\n",
        "      #twr_thresh = np.empty_like(twr_thresh)\n",
        "      #twr_thresh[:] = twr_raster[:]\n",
        "      twr_thresh = twr_raster.copy()\n",
        "\n",
        "      twr_thresh[twr_raster < threshold] = 0\n",
        "      twr_thresh[twr_raster >= threshold] = 1\n",
        "\n",
        "      return twr_thresh , transform\n"
      ],
      "metadata": {
        "id": "vUbiJOuUhfDi"
      },
      "execution_count": null,
      "outputs": []
    },
    {
      "cell_type": "code",
      "source": [
        "#try this to see how it connects them, here is where updated cost raster important to follow lines\n",
        "twr_raster_clean, new_aff = rasterize_inferred_twrs(tif = fn, twrs = combined_twr_df, upscale_factor = .001, threshold = .9)\n",
        "plt.imshow(twr_raster_clean, cmap='viridis')\n",
        "#print(np.amin(twr_raster))\n",
        "target_list = np.argwhere(twr_raster_clean == 1.0)\n",
        "print(len(target_list))"
      ],
      "metadata": {
        "colab": {
          "base_uri": "https://localhost:8080/",
          "height": 286
        },
        "id": "TUSAv2XYbMVG",
        "outputId": "45c4efad-dd0f-48d8-b414-3019008add89"
      },
      "execution_count": null,
      "outputs": [
        {
          "output_type": "stream",
          "name": "stdout",
          "text": [
            "356\n"
          ]
        },
        {
          "output_type": "display_data",
          "data": {
            "text/plain": [
              "<Figure size 432x288 with 1 Axes>"
            ],
            "image/png": "[encoded data removed]"
          },
          "metadata": {
            "needs_background": "light"
          }
        }
      ]
    },
    {
      "cell_type": "code",
      "source": [
        "twr_raster_clean, new_aff = rasterize_inferred_twrs(tif = fn, twrs = inferred_gh_twrs_rev, upscale_factor = .001, threshold = .9)\n",
        "plt.imshow(twr_raster_clean, cmap='viridis')\n",
        "#print(np.amin(twr_raster))\n",
        "target_list = np.argwhere(twr_raster_clean == 1.0)\n",
        "print(len(target_list))"
      ],
      "metadata": {
        "colab": {
          "base_uri": "https://localhost:8080/",
          "height": 286
        },
        "id": "1BPZWJ9n1WAn",
        "outputId": "cc828e86-7573-489c-cee1-e1cf228c4740"
      },
      "execution_count": null,
      "outputs": [
        {
          "output_type": "stream",
          "name": "stdout",
          "text": [
            "140\n"
          ]
        },
        {
          "output_type": "display_data",
          "data": {
            "text/plain": [
              "<Figure size 432x288 with 1 Axes>"
            ],
            "image/png": "[encoded data removed]"
          },
          "metadata": {
            "needs_background": "light"
          }
        }
      ]
    },
    {
      "cell_type": "code",
      "source": [
        "targets_out = '/content/drive/MyDrive/PyPSA_Africa_images/models/outlier_detection/outputs/targets_filtered.tif'\n",
        "save_raster(targets_out, twr_raster_clean, new_aff)"
      ],
      "metadata": {
        "id": "KlZVnTDfMkV6"
      },
      "execution_count": null,
      "outputs": []
    },
    {
      "cell_type": "code",
      "source": [
        "roads_in ='/content/drive/MyDrive/PyPSA_Africa_images/models/outlier_detection/inputs/gh_full_osm.gpkg'\n",
        "roads_out ='/content/drive/MyDrive/PyPSA_Africa_images/models/outlier_detection/outputs/roads.tif'"
      ],
      "metadata": {
        "id": "WQPNYMvxYNl6"
      },
      "execution_count": null,
      "outputs": []
    },
    {
      "cell_type": "markdown",
      "source": [
        "#extract roads and osm data"
      ],
      "metadata": {
        "id": "oO3qJ1n-Kzma"
      }
    },
    {
      "cell_type": "code",
      "source": [
        "import os\n",
        "from math import sqrt\n",
        "import json\n",
        "from pathlib import Path\n",
        "\n",
        "import numpy as np\n",
        "from scipy import signal\n",
        "\n",
        "import fiona\n",
        "import rasterio\n",
        "from rasterio.mask import mask\n",
        "from rasterio.features import rasterize\n",
        "from rasterio import Affine\n",
        "from rasterio.warp import reproject, Resampling\n",
        "\n",
        "import geopandas as gpd\n",
        "\n",
        "#roads_in ='/content/drive/MyDrive/PyPSA_Africa_images/models/outlier_detection/inputs/gh_roads_coverage.gpkg'\n",
        "#roads_in ='/content/drive/MyDrive/PyPSA_Africa_images/models/outlier_detection/inputs/gh_full_roads.gpkg'\n",
        "roads_in ='/content/drive/MyDrive/PyPSA_Africa_images/models/outlier_detection/inputs/gh_full_osm.gpkg'\n",
        "roads_out ='/content/drive/MyDrive/PyPSA_Africa_images/models/outlier_detection/outputs/roads.tif'"
      ],
      "metadata": {
        "id": "B83v8L_PbH6V"
      },
      "execution_count": null,
      "outputs": []
    },
    {
      "cell_type": "code",
      "source": [
        "def rasterize_road_osm_data(roads_in, aoi_in, twr_raster_in):\n",
        "    \"\"\"Prepare a roads feature layer for use in algorithm.\n",
        "    Parameters\n",
        "    ----------\n",
        "    roads_in : str, Path\n",
        "        Path to a roads feature layer. This implementation is specific to\n",
        "        OSM data and won't assign proper weights to other data inputs.\n",
        "    aoi_in : str, Path or GeoDataFrame\n",
        "        AOI to clip roads.\n",
        "    twr_raster_in:  Path to a raster file, only used for correct shape and\n",
        "        affine of roads raster.\n",
        "            Returns\n",
        "    -------\n",
        "    roads_raster : numpy array\n",
        "        Roads as a raster array with the value being the cost of traversing.\n",
        "    affine : affine.Affine\n",
        "        Affine raster transformation for the new raster (same as ntl_in).\n",
        "    \"\"\"\n",
        "    twr_rst = rasterio.open(twr_raster_in)\n",
        "    shape = twr_rst.shape\n",
        "    affine = twr_rst.transform\n",
        "\n",
        "    if isinstance(aoi_in, gpd.GeoDataFrame):\n",
        "        aoi = aoi_in\n",
        "    else:\n",
        "        aoi = gpd.read_file(aoi_in)\n",
        "\n",
        "    aoi = aoi.set_crs(epsg=4326)\n",
        "    roads_masked = gpd.read_file(roads_in, mask = aoi)\n",
        "    roads = gpd.sjoin(roads_masked, aoi, how=\"inner\", op=\"intersects\")\n",
        "    roads = roads[roads_masked.columns]\n",
        "\n",
        "    roads[\"weight\"] = 1\n",
        "    roads.loc[roads[\"highway\"] == \"motorway\", \"weight\"] = 1 / 10\n",
        "    roads.loc[roads[\"highway\"] == \"trunk\", \"weight\"] = 1 / 9\n",
        "    roads.loc[roads[\"highway\"] == \"primary\", \"weight\"] = 1 / 8\n",
        "    roads.loc[roads[\"highway\"] == \"secondary\", \"weight\"] = 1 / 7\n",
        "    roads.loc[roads[\"highway\"] == \"tertiary\", \"weight\"] = 1 / 6\n",
        "    roads.loc[roads[\"highway\"] == \"unclassified\", \"weight\"] = 1 / 5\n",
        "    roads.loc[roads[\"highway\"] == \"residential\", \"weight\"] = 1 / 4\n",
        "    roads.loc[roads[\"highway\"] == \"service\", \"weight\"] = 1 / 3\n",
        "    roads.loc[roads[\"highway\"] == \"trailhead\", \"weight\"] = 1 / 2\n",
        "\n",
        "    # Power lines get weight 0\n",
        "    # Note that this means both transportation AND power categories should be included when importing from OSM\n",
        "    if \"power\" in roads:\n",
        "        roads.loc[roads[\"power\"] == \"line\", \"weight\"] = 0\n",
        "\n",
        "    roads = roads[roads.weight != 1]\n",
        "\n",
        "    # sort by weight descending so that lower weight (bigger roads) are\n",
        "    # processed last and overwrite higher weight roads\n",
        "    roads = roads.sort_values(by=\"weight\", ascending=False)\n",
        "\n",
        "    geom_value = ((geom,value) for geom, value in zip(roads.geometry, roads.weight))\n",
        "\n",
        "    roads_raster = rasterize(\n",
        "        geom_value,\n",
        "        out_shape=shape,\n",
        "        fill=1,\n",
        "        default_value=0,\n",
        "        all_touched=True,\n",
        "        transform= transform,\n",
        "    )\n",
        "\n",
        "    return roads_raster, affine"
      ],
      "metadata": {
        "id": "jvmWzdwPL9HW"
      },
      "execution_count": null,
      "outputs": []
    },
    {
      "cell_type": "markdown",
      "source": [
        "##cost estimations"
      ],
      "metadata": {
        "id": "kQ9HtvTGu74H"
      }
    },
    {
      "cell_type": "markdown",
      "source": [
        "note that here the lines should show once we import full osm data"
      ],
      "metadata": {
        "id": "cQ5cT9DPQ8xK"
      }
    },
    {
      "cell_type": "code",
      "source": [
        "roads_raster, affine = rasterize_road_osm_data(roads_in, aoi, targets_out)\n",
        "plt.imshow(roads_raster, cmap='viridis', vmin=0, vmax=1)"
      ],
      "metadata": {
        "colab": {
          "base_uri": "https://localhost:8080/",
          "height": 321
        },
        "id": "l8WngMHIPTtw",
        "outputId": "1dcb439a-86df-4e43-8027-dcf4455273f6"
      },
      "execution_count": null,
      "outputs": [
        {
          "output_type": "stream",
          "name": "stderr",
          "text": [
            "/usr/local/lib/python3.7/dist-packages/IPython/core/interactiveshell.py:2882: FutureWarning: The `op` parameter is deprecated and will be removed in a future release. Please use the `predicate` parameter instead.\n",
            "  exec(code_obj, self.user_global_ns, self.user_ns)\n"
          ]
        },
        {
          "output_type": "execute_result",
          "data": {
            "text/plain": [
              "<matplotlib.image.AxesImage at 0x7f03eae888d0>"
            ]
          },
          "metadata": {},
          "execution_count": 275
        },
        {
          "output_type": "display_data",
          "data": {
            "text/plain": [
              "<Figure size 432x288 with 1 Axes>"
            ],
            "image/png": "[encoded data removed]"
          },
          "metadata": {
            "needs_background": "light"
          }
        }
      ]
    },
    {
      "cell_type": "code",
      "source": [
        "save_raster(roads_out, roads_raster, affine, nodata=-1)"
      ],
      "metadata": {
        "id": "7WeNoYdRayui"
      },
      "execution_count": null,
      "outputs": []
    },
    {
      "cell_type": "markdown",
      "source": [
        "#load computed targets and costs"
      ],
      "metadata": {
        "id": "hXGjUpB5RpDZ"
      }
    },
    {
      "cell_type": "code",
      "source": [
        "def get_targets_costs(targets_in, costs_in):\n",
        "    \"\"\"Load the targets and costs arrays from the given file paths.\n",
        "    Parameters\n",
        "    ----------\n",
        "    targets_in : str\n",
        "        Path for targets raster.\n",
        "    costs_in : str\n",
        "        Path for costs raster.\n",
        "    Returns\n",
        "    -------\n",
        "    targets : numpy array\n",
        "        2D array of targets\n",
        "    costs: numpy array\n",
        "        2D array of costs\n",
        "    start: tuple\n",
        "        Two-element tuple with row, col of starting point.\n",
        "    affine : affine.Affine\n",
        "        Affine transformation for the rasters.\n",
        "    \"\"\"\n",
        "\n",
        "    targets_ra = rasterio.open(targets_in)\n",
        "    affine = targets_ra.transform\n",
        "    targets = targets_ra.read(1)\n",
        "\n",
        "    costs_ra = rasterio.open(costs_in)\n",
        "    costs = costs_ra.read(1)\n",
        "\n",
        "    target_list = np.argwhere(targets == 1.0)\n",
        "    start = tuple(target_list[0].tolist())\n",
        "\n",
        "    targets = targets.astype(np.int8)\n",
        "    costs = costs.astype(np.float16)\n",
        "\n",
        "    return targets, costs, start, affine"
      ],
      "metadata": {
        "id": "hIFjXLtyRkkk"
      },
      "execution_count": null,
      "outputs": []
    },
    {
      "cell_type": "markdown",
      "source": [
        "#optimise distances"
      ],
      "metadata": {
        "id": "UlK5YDdPSL-3"
      }
    },
    {
      "cell_type": "code",
      "source": [
        "import os\n",
        "import sys\n",
        "from math import sqrt\n",
        "from heapq import heapify, heappush, heappop\n",
        "import pickle\n",
        "\n",
        "import numpy as np\n",
        "import rasterio\n",
        "from IPython.display import display, Markdown\n",
        "from skimage.morphology import skeletonize\n",
        "\n",
        "from pathlib import Path\n",
        "\n",
        "import numpy as np\n",
        "import pandas as pd\n",
        "import geopandas as gpd\n",
        "from skimage.morphology import skeletonize\n",
        "import shapely.wkt\n",
        "from shapely.geometry import Point, LineString\n",
        "import rasterio\n",
        "from rasterio.features import rasterize\n",
        "from rasterio.transform import xy\n",
        "\n",
        "def optimise(\n",
        "    targets,\n",
        "    costs,\n",
        "    start,\n",
        "    jupyter=False,\n",
        "    animate=False,\n",
        "    affine=None,\n",
        "    animate_path=None,\n",
        "    silent=False,\n",
        "):\n",
        "    \"\"\"Run the Dijkstra algorithm for the supplied arrays.\n",
        "    Parameters\n",
        "    ----------\n",
        "    targets : numpy array\n",
        "        2D array of targets.\n",
        "    costs : numpy array\n",
        "        2D array of costs.\n",
        "    start : tuple\n",
        "        Two-element tuple with row, col of starting point.\n",
        "    jupyter : boolean, optional (default False)\n",
        "        Whether the code is being run from a Jupyter Notebook.\n",
        "    Returns\n",
        "    -------\n",
        "    dist : numpy array\n",
        "        2D array with the distance (in cells) of each point from a 'found'\n",
        "        on-grid point. Values of 0 imply that cell is part of an MV grid line.\n",
        "    \"\"\"\n",
        "\n",
        "    max_i = costs.shape[0]\n",
        "    max_j = costs.shape[1]\n",
        "\n",
        "    visited = np.zeros_like(targets, dtype=np.int8)\n",
        "    dist = np.full_like(costs, np.nan, dtype=np.float32)\n",
        "\n",
        "    # want to set this to dtype='int32, int32'\n",
        "    # but then the if type(prev_loc) == tuple check will break\n",
        "    # becuas it gets instantiated with tuples\n",
        "    prev = np.full_like(costs, np.nan, dtype=object)\n",
        "\n",
        "    dist[start] = 0\n",
        "\n",
        "    #       dist, loc\n",
        "    queue = [[0, start]]\n",
        "    heapify(queue)\n",
        "\n",
        "    def zero_and_heap_path(loc):\n",
        "        \"\"\"Zero the location's distance value and follow upstream doing same.\n",
        "        Parameters\n",
        "        ----------\n",
        "        loc : tuple\n",
        "            row, col of current point.\n",
        "        \"\"\"\n",
        "\n",
        "        if not dist[loc] == 0:\n",
        "            dist[loc] = 0\n",
        "            visited[loc] = 1\n",
        "\n",
        "            heappush(queue, [0, loc])\n",
        "            prev_loc = prev[loc]\n",
        "\n",
        "            if type(prev_loc) == tuple:\n",
        "                zero_and_heap_path(prev_loc)\n",
        "\n",
        "    counter = 0\n",
        "    progress = 0\n",
        "    max_cells = targets.shape[0] * targets.shape[1]\n",
        "    if jupyter:\n",
        "        handle = display(Markdown(\"\"), display_id=True)\n",
        "\n",
        "    while len(queue):\n",
        "        current = heappop(queue)\n",
        "        current_loc = current[1]\n",
        "        current_i = current_loc[0]\n",
        "        current_j = current_loc[1]\n",
        "        current_dist = dist[current_loc]\n",
        "\n",
        "        for x in range(-1, 2):\n",
        "            for y in range(-1, 2):\n",
        "                next_i = current_i + x\n",
        "                next_j = current_j + y\n",
        "                next_loc = (next_i, next_j)\n",
        "\n",
        "                # ensure we're within bounds\n",
        "                if next_i < 0 or next_j < 0 or next_i >= max_i or next_j >= max_j:\n",
        "                    continue\n",
        "\n",
        "                # ensure we're not looking at the same spot\n",
        "                if next_loc == current_loc:\n",
        "                    continue\n",
        "\n",
        "                # skip if we've already set dist to 0\n",
        "                if dist[next_loc] == 0:\n",
        "                    continue\n",
        "\n",
        "                # if the location is connected\n",
        "                if targets[next_loc]:\n",
        "                    prev[next_loc] = current_loc\n",
        "                    zero_and_heap_path(next_loc)\n",
        "\n",
        "                # otherwise it's a normal queue cell\n",
        "                else:\n",
        "                    dist_add = costs[next_loc]\n",
        "                    if x == 0 or y == 0:  # if this cell is  up/down/left/right\n",
        "                        dist_add *= 1\n",
        "                    else:  # or if it's diagonal\n",
        "                        dist_add *= sqrt(2)\n",
        "\n",
        "                    next_dist = current_dist + dist_add\n",
        "\n",
        "                    if visited[next_loc]:\n",
        "                        if next_dist < dist[next_loc]:\n",
        "                            dist[next_loc] = next_dist\n",
        "                            prev[next_loc] = current_loc\n",
        "                            heappush(queue, [next_dist, next_loc])\n",
        "\n",
        "                    else:\n",
        "                        heappush(queue, [next_dist, next_loc])\n",
        "                        visited[next_loc] = 1\n",
        "                        dist[next_loc] = next_dist\n",
        "                        prev[next_loc] = current_loc\n",
        "\n",
        "                        counter += 1\n",
        "                        progress_new = 100 * counter / max_cells\n",
        "                        if int(progress_new) > int(progress):\n",
        "                            progress = progress_new\n",
        "                            message = f\"{progress:.2f} %\"\n",
        "                            if jupyter:\n",
        "                                handle.update(message)\n",
        "                            elif not silent:\n",
        "                                print(message)\n",
        "                            if animate:\n",
        "                                i = int(progress)\n",
        "                                path = os.path.join(animate_path, f\"arr{i:03d}.tif\")\n",
        "                                save_raster(path, dist, affine)\n",
        "\n",
        "    return dist\n",
        "\n",
        "def threshold(dists_in, cutoff=0.5):\n",
        "    \"\"\"Convert distance array into binary array of connected locations.\n",
        "    Parameters\n",
        "    ----------\n",
        "    dists_in : path-like or numpy array\n",
        "        2D array output from gridfinder algorithm.\n",
        "    cutoff : float, optional (default 0.5.)\n",
        "        Cutoff value below which consider the cells to be grid.\n",
        "    Returns\n",
        "    -------\n",
        "    guess : numpy array\n",
        "        Binary representation of input array.\n",
        "    affine: affine.Affine\n",
        "        Affine transformation for raster.\n",
        "    \"\"\"\n",
        "    if isinstance(dists_in, (str, Path)):\n",
        "        dists_rd = rasterio.open(dists_in)\n",
        "        dists_r = dists_rd.read(1)\n",
        "        affine = dists_rd.transform\n",
        "\n",
        "        guess = dists_r.copy()\n",
        "        guess[dists_r > cutoff] = 0\n",
        "        guess[dists_r <= cutoff] = 1\n",
        "\n",
        "        return guess, affine\n",
        "\n",
        "    elif isinstance(dists_in, np.ndarray):\n",
        "        guess = dists_in.copy()\n",
        "        guess[dists_in > cutoff] = 0\n",
        "        guess[dists_in <= cutoff] = 1\n",
        "\n",
        "        return guess\n",
        "\n",
        "    else:\n",
        "        raise ValueError\n",
        "\n",
        "\n",
        "def thin(guess_in):\n",
        "    \"\"\"\n",
        "    Use scikit-image skeletonize to 'thin' the guess raster.\n",
        "    Parameters\n",
        "    ----------\n",
        "    guess_in : path-like or 2D array\n",
        "        Output from threshold().\n",
        "    Returns\n",
        "    -------\n",
        "    guess_skel : numpy array\n",
        "        Thinned version.\n",
        "    affine : Affine\n",
        "        Only if path-like supplied.\n",
        "    \"\"\"\n",
        "\n",
        "    if isinstance(guess_in, (str, Path)):\n",
        "        guess_rd = rasterio.open(guess_in)\n",
        "        guess_arr = guess_rd.read(1)\n",
        "        affine = guess_rd.transform\n",
        "\n",
        "        guess_skel = skeletonize(guess_arr)\n",
        "        guess_skel = guess_skel.astype(\"int32\")\n",
        "\n",
        "        return guess_skel, affine\n",
        "\n",
        "    elif isinstance(guess_in, np.ndarray):\n",
        "        guess_skel = skeletonize(guess_in)\n",
        "        guess_skel = guess_skel.astype(\"int32\")\n",
        "\n",
        "        return guess_skel\n",
        "\n",
        "    else:\n",
        "        raise ValueError\n",
        "\n",
        "\n",
        "def raster_to_lines(guess_skel_in):\n",
        "    \"\"\"\n",
        "    Convert thinned raster to linestring geometry.\n",
        "    Parameters\n",
        "    ----------\n",
        "    guess_skel_in : path-like\n",
        "        Output from thin().\n",
        "    Returns\n",
        "    -------\n",
        "    guess_gdf : GeoDataFrame\n",
        "        Converted to geometry.\n",
        "    \"\"\"\n",
        "\n",
        "    rast = rasterio.open(guess_skel_in)\n",
        "    arr = rast.read(1)\n",
        "    affine = rast.transform\n",
        "\n",
        "    max_row = arr.shape[0]\n",
        "    max_col = arr.shape[1]\n",
        "    lines = []\n",
        "\n",
        "    for row in range(0, max_row):\n",
        "        for col in range(0, max_col):\n",
        "            loc = (row, col)\n",
        "            if arr[loc] == 1:\n",
        "                for i in range(-1, 2):\n",
        "                    for j in range(-1, 2):\n",
        "                        next_row = row + i\n",
        "                        next_col = col + j\n",
        "                        next_loc = (next_row, next_col)\n",
        "\n",
        "                        # ensure we're within bounds\n",
        "                        # ensure we're not looking at the same spot\n",
        "                        if (\n",
        "                            next_row < 0\n",
        "                            or next_col < 0\n",
        "                            or next_row >= max_row\n",
        "                            or next_col >= max_col\n",
        "                            or next_loc == loc\n",
        "                        ):\n",
        "                            continue\n",
        "\n",
        "                        if arr[next_loc] == 1:\n",
        "                            line = (loc, next_loc)\n",
        "                            rev = (line[1], line[0])\n",
        "                            if line not in lines and rev not in lines:\n",
        "                                lines.append(line)\n",
        "\n",
        "    real_lines = []\n",
        "    for line in lines:\n",
        "        real = (xy(affine, line[0][0], line[0][1]), xy(affine, line[1][0], line[1][1]))\n",
        "        real_lines.append(real)\n",
        "\n",
        "    shapes = []\n",
        "    for line in real_lines:\n",
        "        shapes.append(LineString([Point(line[0]), Point(line[1])]).wkt)\n",
        "\n",
        "    guess_gdf = pd.DataFrame(shapes)\n",
        "    geometry = guess_gdf[0].map(shapely.wkt.loads)\n",
        "    guess_gdf = guess_gdf.drop(0, axis=1)\n",
        "    guess_gdf = gpd.GeoDataFrame(guess_gdf, crs=rast.crs, geometry=geometry)\n",
        "\n",
        "    guess_gdf[\"same\"] = 0\n",
        "    guess_gdf = guess_gdf.dissolve(by=\"same\")\n",
        "    guess_gdf = guess_gdf.to_crs(epsg=4326)\n",
        "\n",
        "    return guess_gdf"
      ],
      "metadata": {
        "id": "P-HdEwjkSLRJ"
      },
      "execution_count": null,
      "outputs": []
    },
    {
      "cell_type": "markdown",
      "source": [
        "#results"
      ],
      "metadata": {
        "id": "7-DllVOvW8_0"
      }
    },
    {
      "cell_type": "code",
      "source": [
        "targets, costs, start, affine = get_targets_costs(targets_out, roads_out)\n"
      ],
      "metadata": {
        "id": "mTMyiEtLam0S"
      },
      "execution_count": null,
      "outputs": []
    },
    {
      "cell_type": "code",
      "source": [
        "dist = optimise(targets, costs, start,\n",
        "                   jupyter=True,\n",
        "                   animate=False,\n",
        "                   affine=affine)\n",
        "\n",
        "plt.imshow(dist)"
      ],
      "metadata": {
        "colab": {
          "base_uri": "https://localhost:8080/",
          "height": 305
        },
        "id": "zEdP9r4jSaSP",
        "outputId": "23267241-54de-4680-8188-5a3bfc57b572"
      },
      "execution_count": null,
      "outputs": [
        {
          "output_type": "display_data",
          "data": {
            "text/plain": [
              "'98.00 %'"
            ],
            "application/vnd.google.colaboratory.intrinsic+json": {
              "type": "string"
            }
          },
          "metadata": {}
        },
        {
          "output_type": "execute_result",
          "data": {
            "text/plain": [
              "<matplotlib.image.AxesImage at 0x7f03f3f04550>"
            ]
          },
          "metadata": {},
          "execution_count": 278
        },
        {
          "output_type": "display_data",
          "data": {
            "text/plain": [
              "<Figure size 432x288 with 1 Axes>"
            ],
            "image/png": "[encoded data removed]"
          },
          "metadata": {
            "needs_background": "light"
          }
        }
      ]
    },
    {
      "cell_type": "code",
      "source": [
        "guess_out = '/content/drive/MyDrive/PyPSA_Africa_images/models/outlier_detection/outputs/guess.tif'\n",
        "guess = threshold(dist, cutoff = .5)\n",
        "save_raster(guess_out, guess, affine)\n",
        "guess_skel = thin(guess)\n",
        "print('Got guess')\n",
        "plt.imshow(guess, cmap='viridis')"
      ],
      "metadata": {
        "colab": {
          "base_uri": "https://localhost:8080/",
          "height": 304
        },
        "id": "ZjNp2rF5TSJD",
        "outputId": "ca56a285-6f66-4aa3-836f-ed0e60e85d41"
      },
      "execution_count": null,
      "outputs": [
        {
          "output_type": "stream",
          "name": "stdout",
          "text": [
            "Got guess\n"
          ]
        },
        {
          "output_type": "execute_result",
          "data": {
            "text/plain": [
              "<matplotlib.image.AxesImage at 0x7f03f3b58350>"
            ]
          },
          "metadata": {},
          "execution_count": 279
        },
        {
          "output_type": "display_data",
          "data": {
            "text/plain": [
              "<Figure size 432x288 with 1 Axes>"
            ],
            "image/png": "[encoded data removed]"
          },
          "metadata": {
            "needs_background": "light"
          }
        }
      ]
    },
    {
      "cell_type": "code",
      "source": [
        "guess_skel_out = '/content/drive/MyDrive/PyPSA_Africa_images/models/outlier_detection/outputs/guess_skel.tif'\n",
        "guess_skel = thin(guess)\n",
        "save_raster(guess_skel_out, guess_skel, affine)"
      ],
      "metadata": {
        "id": "qcxgtIerSs_a"
      },
      "execution_count": null,
      "outputs": []
    },
    {
      "cell_type": "code",
      "source": [
        "guess_gdf = raster_to_lines(guess_skel_out)"
      ],
      "metadata": {
        "id": "qzCJuBKiU4vJ"
      },
      "execution_count": null,
      "outputs": []
    },
    {
      "cell_type": "code",
      "source": [
        "import matplotlib.pyplot as plt\n",
        "_, ax = plt.subplots(1, 1, figsize=(16, 9))\n",
        "inferred_gh_twrs.plot(ax=ax)\n",
        "inferred_gh_twrs_rev.plot(ax=ax)\n",
        "aoi.plot(ax=ax, alpha=0.1)\n",
        "guess_gdf.plot(ax = ax, alpha = .9)\n",
        "targets_df.plot(ax=ax, alpha = .1)\n",
        "plt.show()"
      ],
      "metadata": {
        "colab": {
          "base_uri": "https://localhost:8080/",
          "height": 537
        },
        "id": "OtvKegpmWIp4",
        "outputId": "e806478a-7623-4b63-fbb6-04169b1f0159"
      },
      "execution_count": null,
      "outputs": [
        {
          "output_type": "display_data",
          "data": {
            "text/plain": [
              "<Figure size 1152x648 with 1 Axes>"
            ],
            "image/png": "[encoded data removed]"
          },
          "metadata": {
            "needs_background": "light"
          }
        }
      ]
    },
    {
      "cell_type": "markdown",
      "source": [
        "#note now build method with also optional outolier detection"
      ],
      "metadata": {
        "id": "9fpuCzW9bpgK"
      }
    },
    {
      "cell_type": "markdown",
      "source": [
        "#folium"
      ],
      "metadata": {
        "id": "dvl5N6vJV-Fe"
      }
    },
    {
      "cell_type": "code",
      "source": [
        "minx, miny, maxx, maxy = list(guess_gdf.bounds.iloc[0])\n",
        "bounds = ((miny, minx), (maxy, maxx))\n",
        "\n",
        "m = folium.Map(control_scale=True)\n",
        "m.fit_bounds(bounds)\n",
        "folium.GeoJson(guess_gdf).add_to(m)\n",
        "m"
      ],
      "metadata": {
        "id": "lxGgsGvZVpJd"
      },
      "execution_count": null,
      "outputs": []
    },
    {
      "cell_type": "code",
      "source": [
        "minx, miny, maxx, maxy = list(guess_gdf.bounds.iloc[0])\n",
        "bounds = ((miny, minx), (maxy, maxx))\n",
        "\n",
        "m = folium.Map(control_scale=True)\n",
        "m.fit_bounds(bounds)\n",
        "folium.GeoJson(guess_gdf).add_to(m)\n",
        "m"
      ],
      "metadata": {
        "id": "pMcZklCgVSYh"
      },
      "execution_count": null,
      "outputs": []
    }
  ]
}